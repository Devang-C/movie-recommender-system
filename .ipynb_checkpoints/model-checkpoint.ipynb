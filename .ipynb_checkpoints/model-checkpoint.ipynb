{
 "cells": [
  {
   "cell_type": "markdown",
   "id": "31d53bf7-3e01-42e0-91cb-4632dadc637e",
   "metadata": {},
   "source": [
    "## We will be building a Movie Recommender System using Machine Learning"
   ]
  },
  {
   "cell_type": "markdown",
   "id": "c0141af3-16bb-411e-bb59-709a792d8759",
   "metadata": {},
   "source": [
    "### Kaggle Data Set Link : https://www.kaggle.com/datasets/tmdb/tmdb-movie-metadata?select=tmdb_5000_movies.csv"
   ]
  },
  {
   "cell_type": "code",
   "execution_count": 1,
   "id": "797da066-344d-4105-80d6-a809608edd6a",
   "metadata": {
    "tags": []
   },
   "outputs": [],
   "source": [
    "import numpy as np\n",
    "import pandas as pd"
   ]
  },
  {
   "cell_type": "code",
   "execution_count": 74,
   "id": "73c939e2-b9ec-4de6-a649-743c58659596",
   "metadata": {
    "tags": []
   },
   "outputs": [
    {
     "name": "stdout",
     "output_type": "stream",
     "text": [
      "Collecting nltk\n",
      "  Downloading nltk-3.8.1-py3-none-any.whl (1.5 MB)\n",
      "\u001b[2K     \u001b[90m━━━━━━━━━━━━━━━━━━━━━━━━━━━━━━━━━━━━━━━━\u001b[0m \u001b[32m1.5/1.5 MB\u001b[0m \u001b[31m2.0 MB/s\u001b[0m eta \u001b[36m0:00:00\u001b[0m00:01\u001b[0m00:01\u001b[0m\n",
      "\u001b[?25hRequirement already satisfied: joblib in /home/devang/.var/app/org.jupyter.JupyterLab/config/jupyterlab-desktop/jlab_server/lib/python3.8/site-packages (from nltk) (1.2.0)\n",
      "Collecting regex>=2021.8.3\n",
      "  Downloading regex-2023.3.23-cp38-cp38-manylinux_2_17_x86_64.manylinux2014_x86_64.whl (771 kB)\n",
      "\u001b[2K     \u001b[90m━━━━━━━━━━━━━━━━━━━━━━━━━━━━━━━━━━━━━━━\u001b[0m \u001b[32m771.9/771.9 kB\u001b[0m \u001b[31m2.2 MB/s\u001b[0m eta \u001b[36m0:00:00\u001b[0ma \u001b[36m0:00:01\u001b[0m\n",
      "\u001b[?25hRequirement already satisfied: click in /home/devang/.var/app/org.jupyter.JupyterLab/config/jupyterlab-desktop/jlab_server/lib/python3.8/site-packages (from nltk) (8.1.3)\n",
      "Requirement already satisfied: tqdm in /home/devang/.var/app/org.jupyter.JupyterLab/config/jupyterlab-desktop/jlab_server/lib/python3.8/site-packages (from nltk) (4.64.1)\n",
      "Installing collected packages: regex, nltk\n",
      "Successfully installed nltk-3.8.1 regex-2023.3.23\n",
      "Note: you may need to restart the kernel to use updated packages.\n"
     ]
    }
   ],
   "source": [
    "pip install nltk"
   ]
  },
  {
   "cell_type": "code",
   "execution_count": 2,
   "id": "b736db17-79cc-4333-8fe6-d53e7facdf53",
   "metadata": {
    "tags": []
   },
   "outputs": [],
   "source": [
    "movies = pd.read_csv('tmdb_5000_movies.csv')\n",
    "credits = pd.read_csv('tmdb_5000_credits.csv')"
   ]
  },
  {
   "cell_type": "code",
   "execution_count": 3,
   "id": "6da559ad-8792-4858-bb7f-5da196dedab2",
   "metadata": {
    "tags": []
   },
   "outputs": [
    {
     "data": {
      "text/plain": [
       "(4803, 20)"
      ]
     },
     "execution_count": 3,
     "metadata": {},
     "output_type": "execute_result"
    }
   ],
   "source": [
    "# displaying \n",
    "movies.shape"
   ]
  },
  {
   "cell_type": "code",
   "execution_count": 4,
   "id": "ad9569b1-ede3-410f-8f33-0859f80f88bc",
   "metadata": {
    "tags": []
   },
   "outputs": [
    {
     "data": {
      "text/plain": [
       "(4803, 4)"
      ]
     },
     "execution_count": 4,
     "metadata": {},
     "output_type": "execute_result"
    }
   ],
   "source": [
    "credits.shape"
   ]
  },
  {
   "cell_type": "code",
   "execution_count": 5,
   "id": "59757fe7-85d3-4236-a4f6-09d17c2e7fa1",
   "metadata": {
    "tags": []
   },
   "outputs": [
    {
     "name": "stdout",
     "output_type": "stream",
     "text": [
      "<class 'pandas.core.frame.DataFrame'>\n",
      "RangeIndex: 4803 entries, 0 to 4802\n",
      "Data columns (total 20 columns):\n",
      " #   Column                Non-Null Count  Dtype  \n",
      "---  ------                --------------  -----  \n",
      " 0   budget                4803 non-null   int64  \n",
      " 1   genres                4803 non-null   object \n",
      " 2   homepage              1712 non-null   object \n",
      " 3   id                    4803 non-null   int64  \n",
      " 4   keywords              4803 non-null   object \n",
      " 5   original_language     4803 non-null   object \n",
      " 6   original_title        4803 non-null   object \n",
      " 7   overview              4800 non-null   object \n",
      " 8   popularity            4803 non-null   float64\n",
      " 9   production_companies  4803 non-null   object \n",
      " 10  production_countries  4803 non-null   object \n",
      " 11  release_date          4802 non-null   object \n",
      " 12  revenue               4803 non-null   int64  \n",
      " 13  runtime               4801 non-null   float64\n",
      " 14  spoken_languages      4803 non-null   object \n",
      " 15  status                4803 non-null   object \n",
      " 16  tagline               3959 non-null   object \n",
      " 17  title                 4803 non-null   object \n",
      " 18  vote_average          4803 non-null   float64\n",
      " 19  vote_count            4803 non-null   int64  \n",
      "dtypes: float64(3), int64(4), object(13)\n",
      "memory usage: 750.6+ KB\n"
     ]
    }
   ],
   "source": [
    "movies.info() # displaying necessary information before beginning data preprocessing"
   ]
  },
  {
   "cell_type": "code",
   "execution_count": 6,
   "id": "10773f44-7132-4858-9bf4-5899f1725ff0",
   "metadata": {
    "tags": []
   },
   "outputs": [
    {
     "name": "stdout",
     "output_type": "stream",
     "text": [
      "<class 'pandas.core.frame.DataFrame'>\n",
      "RangeIndex: 4803 entries, 0 to 4802\n",
      "Data columns (total 4 columns):\n",
      " #   Column    Non-Null Count  Dtype \n",
      "---  ------    --------------  ----- \n",
      " 0   movie_id  4803 non-null   int64 \n",
      " 1   title     4803 non-null   object\n",
      " 2   cast      4803 non-null   object\n",
      " 3   crew      4803 non-null   object\n",
      "dtypes: int64(1), object(3)\n",
      "memory usage: 150.2+ KB\n"
     ]
    }
   ],
   "source": [
    "credits.info()"
   ]
  },
  {
   "cell_type": "code",
   "execution_count": 7,
   "id": "6b3b37fd-a542-4aca-939b-83ed59f1ba1a",
   "metadata": {
    "tags": []
   },
   "outputs": [],
   "source": [
    "# Dsiplaying a single movie"
   ]
  },
  {
   "cell_type": "code",
   "execution_count": 8,
   "id": "ab5bd363-fdfe-4b7c-863f-b91d9c7f1a51",
   "metadata": {
    "tags": []
   },
   "outputs": [
    {
     "data": {
      "text/html": [
       "<div>\n",
       "<style scoped>\n",
       "    .dataframe tbody tr th:only-of-type {\n",
       "        vertical-align: middle;\n",
       "    }\n",
       "\n",
       "    .dataframe tbody tr th {\n",
       "        vertical-align: top;\n",
       "    }\n",
       "\n",
       "    .dataframe thead th {\n",
       "        text-align: right;\n",
       "    }\n",
       "</style>\n",
       "<table border=\"1\" class=\"dataframe\">\n",
       "  <thead>\n",
       "    <tr style=\"text-align: right;\">\n",
       "      <th></th>\n",
       "      <th>budget</th>\n",
       "      <th>genres</th>\n",
       "      <th>homepage</th>\n",
       "      <th>id</th>\n",
       "      <th>keywords</th>\n",
       "      <th>original_language</th>\n",
       "      <th>original_title</th>\n",
       "      <th>overview</th>\n",
       "      <th>popularity</th>\n",
       "      <th>production_companies</th>\n",
       "      <th>production_countries</th>\n",
       "      <th>release_date</th>\n",
       "      <th>revenue</th>\n",
       "      <th>runtime</th>\n",
       "      <th>spoken_languages</th>\n",
       "      <th>status</th>\n",
       "      <th>tagline</th>\n",
       "      <th>title</th>\n",
       "      <th>vote_average</th>\n",
       "      <th>vote_count</th>\n",
       "    </tr>\n",
       "  </thead>\n",
       "  <tbody>\n",
       "    <tr>\n",
       "      <th>0</th>\n",
       "      <td>237000000</td>\n",
       "      <td>[{\"id\": 28, \"name\": \"Action\"}, {\"id\": 12, \"nam...</td>\n",
       "      <td>http://www.avatarmovie.com/</td>\n",
       "      <td>19995</td>\n",
       "      <td>[{\"id\": 1463, \"name\": \"culture clash\"}, {\"id\":...</td>\n",
       "      <td>en</td>\n",
       "      <td>Avatar</td>\n",
       "      <td>In the 22nd century, a paraplegic Marine is di...</td>\n",
       "      <td>150.437577</td>\n",
       "      <td>[{\"name\": \"Ingenious Film Partners\", \"id\": 289...</td>\n",
       "      <td>[{\"iso_3166_1\": \"US\", \"name\": \"United States o...</td>\n",
       "      <td>2009-12-10</td>\n",
       "      <td>2787965087</td>\n",
       "      <td>162.0</td>\n",
       "      <td>[{\"iso_639_1\": \"en\", \"name\": \"English\"}, {\"iso...</td>\n",
       "      <td>Released</td>\n",
       "      <td>Enter the World of Pandora.</td>\n",
       "      <td>Avatar</td>\n",
       "      <td>7.2</td>\n",
       "      <td>11800</td>\n",
       "    </tr>\n",
       "  </tbody>\n",
       "</table>\n",
       "</div>"
      ],
      "text/plain": [
       "      budget                                             genres   \n",
       "0  237000000  [{\"id\": 28, \"name\": \"Action\"}, {\"id\": 12, \"nam...  \\\n",
       "\n",
       "                      homepage     id   \n",
       "0  http://www.avatarmovie.com/  19995  \\\n",
       "\n",
       "                                            keywords original_language   \n",
       "0  [{\"id\": 1463, \"name\": \"culture clash\"}, {\"id\":...                en  \\\n",
       "\n",
       "  original_title                                           overview   \n",
       "0         Avatar  In the 22nd century, a paraplegic Marine is di...  \\\n",
       "\n",
       "   popularity                               production_companies   \n",
       "0  150.437577  [{\"name\": \"Ingenious Film Partners\", \"id\": 289...  \\\n",
       "\n",
       "                                production_countries release_date     revenue   \n",
       "0  [{\"iso_3166_1\": \"US\", \"name\": \"United States o...   2009-12-10  2787965087  \\\n",
       "\n",
       "   runtime                                   spoken_languages    status   \n",
       "0    162.0  [{\"iso_639_1\": \"en\", \"name\": \"English\"}, {\"iso...  Released  \\\n",
       "\n",
       "                       tagline   title  vote_average  vote_count  \n",
       "0  Enter the World of Pandora.  Avatar           7.2       11800  "
      ]
     },
     "execution_count": 8,
     "metadata": {},
     "output_type": "execute_result"
    }
   ],
   "source": [
    "movies.head(1)\n",
    "# here the id is the id of the movie in TMDB(it is a website just like Imdb) database"
   ]
  },
  {
   "cell_type": "code",
   "execution_count": 9,
   "id": "5abda608-9528-4208-a2b6-20c80ed6598c",
   "metadata": {
    "tags": []
   },
   "outputs": [
    {
     "data": {
      "text/html": [
       "<div>\n",
       "<style scoped>\n",
       "    .dataframe tbody tr th:only-of-type {\n",
       "        vertical-align: middle;\n",
       "    }\n",
       "\n",
       "    .dataframe tbody tr th {\n",
       "        vertical-align: top;\n",
       "    }\n",
       "\n",
       "    .dataframe thead th {\n",
       "        text-align: right;\n",
       "    }\n",
       "</style>\n",
       "<table border=\"1\" class=\"dataframe\">\n",
       "  <thead>\n",
       "    <tr style=\"text-align: right;\">\n",
       "      <th></th>\n",
       "      <th>movie_id</th>\n",
       "      <th>title</th>\n",
       "      <th>cast</th>\n",
       "      <th>crew</th>\n",
       "    </tr>\n",
       "  </thead>\n",
       "  <tbody>\n",
       "    <tr>\n",
       "      <th>0</th>\n",
       "      <td>19995</td>\n",
       "      <td>Avatar</td>\n",
       "      <td>[{\"cast_id\": 242, \"character\": \"Jake Sully\", \"...</td>\n",
       "      <td>[{\"credit_id\": \"52fe48009251416c750aca23\", \"de...</td>\n",
       "    </tr>\n",
       "  </tbody>\n",
       "</table>\n",
       "</div>"
      ],
      "text/plain": [
       "   movie_id   title                                               cast   \n",
       "0     19995  Avatar  [{\"cast_id\": 242, \"character\": \"Jake Sully\", \"...  \\\n",
       "\n",
       "                                                crew  \n",
       "0  [{\"credit_id\": \"52fe48009251416c750aca23\", \"de...  "
      ]
     },
     "execution_count": 9,
     "metadata": {},
     "output_type": "execute_result"
    }
   ],
   "source": [
    "credits.head(1)"
   ]
  },
  {
   "cell_type": "markdown",
   "id": "9f4ed574-7e5f-43fc-967e-8e2377c26def",
   "metadata": {},
   "source": [
    "# Data Preprocessing"
   ]
  },
  {
   "cell_type": "markdown",
   "id": "9843f8e3-a37b-42d8-a39d-a304105aa840",
   "metadata": {},
   "source": [
    "## Merging the two data frames\n",
    "\n",
    "As we have 2 differnet data frames, we will merge them to one single data frame, so that it would be easier for us to work with only a single data frame"
   ]
  },
  {
   "cell_type": "code",
   "execution_count": 10,
   "id": "7e35ab19-be8f-4689-8785-d41b5926ccd2",
   "metadata": {
    "tags": []
   },
   "outputs": [],
   "source": [
    "movies = movies.merge(credits,on='title')\n",
    "# the shape tells us that the dataframes are combined "
   ]
  },
  {
   "cell_type": "code",
   "execution_count": 11,
   "id": "ccf22e67-b920-4b8e-9b3b-8ef21102ec03",
   "metadata": {
    "tags": []
   },
   "outputs": [
    {
     "data": {
      "text/plain": [
       "(4809, 23)"
      ]
     },
     "execution_count": 11,
     "metadata": {},
     "output_type": "execute_result"
    }
   ],
   "source": [
    "movies.shape"
   ]
  },
  {
   "cell_type": "code",
   "execution_count": 12,
   "id": "9b007d1d-60ba-4782-aade-e0134faf7c0a",
   "metadata": {
    "tags": []
   },
   "outputs": [
    {
     "data": {
      "text/html": [
       "<div>\n",
       "<style scoped>\n",
       "    .dataframe tbody tr th:only-of-type {\n",
       "        vertical-align: middle;\n",
       "    }\n",
       "\n",
       "    .dataframe tbody tr th {\n",
       "        vertical-align: top;\n",
       "    }\n",
       "\n",
       "    .dataframe thead th {\n",
       "        text-align: right;\n",
       "    }\n",
       "</style>\n",
       "<table border=\"1\" class=\"dataframe\">\n",
       "  <thead>\n",
       "    <tr style=\"text-align: right;\">\n",
       "      <th></th>\n",
       "      <th>budget</th>\n",
       "      <th>genres</th>\n",
       "      <th>homepage</th>\n",
       "      <th>id</th>\n",
       "      <th>keywords</th>\n",
       "      <th>original_language</th>\n",
       "      <th>original_title</th>\n",
       "      <th>overview</th>\n",
       "      <th>popularity</th>\n",
       "      <th>production_companies</th>\n",
       "      <th>...</th>\n",
       "      <th>runtime</th>\n",
       "      <th>spoken_languages</th>\n",
       "      <th>status</th>\n",
       "      <th>tagline</th>\n",
       "      <th>title</th>\n",
       "      <th>vote_average</th>\n",
       "      <th>vote_count</th>\n",
       "      <th>movie_id</th>\n",
       "      <th>cast</th>\n",
       "      <th>crew</th>\n",
       "    </tr>\n",
       "  </thead>\n",
       "  <tbody>\n",
       "    <tr>\n",
       "      <th>0</th>\n",
       "      <td>237000000</td>\n",
       "      <td>[{\"id\": 28, \"name\": \"Action\"}, {\"id\": 12, \"nam...</td>\n",
       "      <td>http://www.avatarmovie.com/</td>\n",
       "      <td>19995</td>\n",
       "      <td>[{\"id\": 1463, \"name\": \"culture clash\"}, {\"id\":...</td>\n",
       "      <td>en</td>\n",
       "      <td>Avatar</td>\n",
       "      <td>In the 22nd century, a paraplegic Marine is di...</td>\n",
       "      <td>150.437577</td>\n",
       "      <td>[{\"name\": \"Ingenious Film Partners\", \"id\": 289...</td>\n",
       "      <td>...</td>\n",
       "      <td>162.0</td>\n",
       "      <td>[{\"iso_639_1\": \"en\", \"name\": \"English\"}, {\"iso...</td>\n",
       "      <td>Released</td>\n",
       "      <td>Enter the World of Pandora.</td>\n",
       "      <td>Avatar</td>\n",
       "      <td>7.2</td>\n",
       "      <td>11800</td>\n",
       "      <td>19995</td>\n",
       "      <td>[{\"cast_id\": 242, \"character\": \"Jake Sully\", \"...</td>\n",
       "      <td>[{\"credit_id\": \"52fe48009251416c750aca23\", \"de...</td>\n",
       "    </tr>\n",
       "  </tbody>\n",
       "</table>\n",
       "<p>1 rows × 23 columns</p>\n",
       "</div>"
      ],
      "text/plain": [
       "      budget                                             genres   \n",
       "0  237000000  [{\"id\": 28, \"name\": \"Action\"}, {\"id\": 12, \"nam...  \\\n",
       "\n",
       "                      homepage     id   \n",
       "0  http://www.avatarmovie.com/  19995  \\\n",
       "\n",
       "                                            keywords original_language   \n",
       "0  [{\"id\": 1463, \"name\": \"culture clash\"}, {\"id\":...                en  \\\n",
       "\n",
       "  original_title                                           overview   \n",
       "0         Avatar  In the 22nd century, a paraplegic Marine is di...  \\\n",
       "\n",
       "   popularity                               production_companies  ... runtime   \n",
       "0  150.437577  [{\"name\": \"Ingenious Film Partners\", \"id\": 289...  ...   162.0  \\\n",
       "\n",
       "                                    spoken_languages    status   \n",
       "0  [{\"iso_639_1\": \"en\", \"name\": \"English\"}, {\"iso...  Released  \\\n",
       "\n",
       "                       tagline   title vote_average vote_count movie_id   \n",
       "0  Enter the World of Pandora.  Avatar          7.2      11800    19995  \\\n",
       "\n",
       "                                                cast   \n",
       "0  [{\"cast_id\": 242, \"character\": \"Jake Sully\", \"...  \\\n",
       "\n",
       "                                                crew  \n",
       "0  [{\"credit_id\": \"52fe48009251416c750aca23\", \"de...  \n",
       "\n",
       "[1 rows x 23 columns]"
      ]
     },
     "execution_count": 12,
     "metadata": {},
     "output_type": "execute_result"
    }
   ],
   "source": [
    "movies.head(1)"
   ]
  },
  {
   "cell_type": "markdown",
   "id": "cc42b4db-70aa-427f-b9a9-0f93df1d101d",
   "metadata": {},
   "source": [
    "## Removing Unnecssary Columns\n",
    "\n",
    "**We are creating a content based recommendation system, so we will only keep the columns that will be useful for creating tags for the movie(that gives useful information about movie)**"
   ]
  },
  {
   "cell_type": "markdown",
   "id": "f8be13bd-195b-4320-bcff-65d2b8127420",
   "metadata": {},
   "source": [
    "`Columns that are going to be removed :` \n",
    "1. budget : budget is not necessarily an important factor while recommending movies. If you like a high budget movie, it does not mean you will like all high budget movies\n",
    "2. homepage : we dont need the webpage of the movie website \n",
    "3. original language : when we see the data of languages, we will find that around 4600 out of 4800 movies are in english. so it won't matter too much\n",
    "4. original title : we will only keep the title of the movies in english, so we will remove original title so as to avoid inconsistancies\n",
    "5. popularity : \n",
    "6. production companies : we mostly never recommend movies based on production companies, we usally do it based on actors and stuff\n",
    "7. release date : might matter for people who like movies in a specific ear or time period, will keep this for future work\n",
    "8. revenue : might matter, but not using in this approach\n",
    "9. runtime : does not matter, its just a numeric value\n",
    "10. spoken_languages: not important factor\n",
    "11. status :  does not matter if movie is released or not for our approach\n",
    "12. tagline : removing because sometimes tagline is different than what the movie actually is \n",
    "13. vote_average: \n",
    "14. vote_count: \n",
    "15. movie_id : removing because we are alreaady storing id(both are same)\n"
   ]
  },
  {
   "cell_type": "code",
   "execution_count": 13,
   "id": "2db4fcd8-94a7-421b-8683-3dea4f6c7417",
   "metadata": {
    "tags": []
   },
   "outputs": [],
   "source": [
    "# reassigning movies to the remaining imporatant columns\n",
    "movies = movies[['movie_id','title','overview','genres','keywords','cast','crew']]"
   ]
  },
  {
   "cell_type": "code",
   "execution_count": 14,
   "id": "9296fc52-e820-41d2-8584-637c8eca090d",
   "metadata": {
    "tags": []
   },
   "outputs": [
    {
     "data": {
      "text/html": [
       "<div>\n",
       "<style scoped>\n",
       "    .dataframe tbody tr th:only-of-type {\n",
       "        vertical-align: middle;\n",
       "    }\n",
       "\n",
       "    .dataframe tbody tr th {\n",
       "        vertical-align: top;\n",
       "    }\n",
       "\n",
       "    .dataframe thead th {\n",
       "        text-align: right;\n",
       "    }\n",
       "</style>\n",
       "<table border=\"1\" class=\"dataframe\">\n",
       "  <thead>\n",
       "    <tr style=\"text-align: right;\">\n",
       "      <th></th>\n",
       "      <th>movie_id</th>\n",
       "      <th>title</th>\n",
       "      <th>overview</th>\n",
       "      <th>genres</th>\n",
       "      <th>keywords</th>\n",
       "      <th>cast</th>\n",
       "      <th>crew</th>\n",
       "    </tr>\n",
       "  </thead>\n",
       "  <tbody>\n",
       "    <tr>\n",
       "      <th>0</th>\n",
       "      <td>19995</td>\n",
       "      <td>Avatar</td>\n",
       "      <td>In the 22nd century, a paraplegic Marine is di...</td>\n",
       "      <td>[{\"id\": 28, \"name\": \"Action\"}, {\"id\": 12, \"nam...</td>\n",
       "      <td>[{\"id\": 1463, \"name\": \"culture clash\"}, {\"id\":...</td>\n",
       "      <td>[{\"cast_id\": 242, \"character\": \"Jake Sully\", \"...</td>\n",
       "      <td>[{\"credit_id\": \"52fe48009251416c750aca23\", \"de...</td>\n",
       "    </tr>\n",
       "    <tr>\n",
       "      <th>1</th>\n",
       "      <td>285</td>\n",
       "      <td>Pirates of the Caribbean: At World's End</td>\n",
       "      <td>Captain Barbossa, long believed to be dead, ha...</td>\n",
       "      <td>[{\"id\": 12, \"name\": \"Adventure\"}, {\"id\": 14, \"...</td>\n",
       "      <td>[{\"id\": 270, \"name\": \"ocean\"}, {\"id\": 726, \"na...</td>\n",
       "      <td>[{\"cast_id\": 4, \"character\": \"Captain Jack Spa...</td>\n",
       "      <td>[{\"credit_id\": \"52fe4232c3a36847f800b579\", \"de...</td>\n",
       "    </tr>\n",
       "    <tr>\n",
       "      <th>2</th>\n",
       "      <td>206647</td>\n",
       "      <td>Spectre</td>\n",
       "      <td>A cryptic message from Bond’s past sends him o...</td>\n",
       "      <td>[{\"id\": 28, \"name\": \"Action\"}, {\"id\": 12, \"nam...</td>\n",
       "      <td>[{\"id\": 470, \"name\": \"spy\"}, {\"id\": 818, \"name...</td>\n",
       "      <td>[{\"cast_id\": 1, \"character\": \"James Bond\", \"cr...</td>\n",
       "      <td>[{\"credit_id\": \"54805967c3a36829b5002c41\", \"de...</td>\n",
       "    </tr>\n",
       "    <tr>\n",
       "      <th>3</th>\n",
       "      <td>49026</td>\n",
       "      <td>The Dark Knight Rises</td>\n",
       "      <td>Following the death of District Attorney Harve...</td>\n",
       "      <td>[{\"id\": 28, \"name\": \"Action\"}, {\"id\": 80, \"nam...</td>\n",
       "      <td>[{\"id\": 849, \"name\": \"dc comics\"}, {\"id\": 853,...</td>\n",
       "      <td>[{\"cast_id\": 2, \"character\": \"Bruce Wayne / Ba...</td>\n",
       "      <td>[{\"credit_id\": \"52fe4781c3a36847f81398c3\", \"de...</td>\n",
       "    </tr>\n",
       "    <tr>\n",
       "      <th>4</th>\n",
       "      <td>49529</td>\n",
       "      <td>John Carter</td>\n",
       "      <td>John Carter is a war-weary, former military ca...</td>\n",
       "      <td>[{\"id\": 28, \"name\": \"Action\"}, {\"id\": 12, \"nam...</td>\n",
       "      <td>[{\"id\": 818, \"name\": \"based on novel\"}, {\"id\":...</td>\n",
       "      <td>[{\"cast_id\": 5, \"character\": \"John Carter\", \"c...</td>\n",
       "      <td>[{\"credit_id\": \"52fe479ac3a36847f813eaa3\", \"de...</td>\n",
       "    </tr>\n",
       "  </tbody>\n",
       "</table>\n",
       "</div>"
      ],
      "text/plain": [
       "   movie_id                                     title   \n",
       "0     19995                                    Avatar  \\\n",
       "1       285  Pirates of the Caribbean: At World's End   \n",
       "2    206647                                   Spectre   \n",
       "3     49026                     The Dark Knight Rises   \n",
       "4     49529                               John Carter   \n",
       "\n",
       "                                            overview   \n",
       "0  In the 22nd century, a paraplegic Marine is di...  \\\n",
       "1  Captain Barbossa, long believed to be dead, ha...   \n",
       "2  A cryptic message from Bond’s past sends him o...   \n",
       "3  Following the death of District Attorney Harve...   \n",
       "4  John Carter is a war-weary, former military ca...   \n",
       "\n",
       "                                              genres   \n",
       "0  [{\"id\": 28, \"name\": \"Action\"}, {\"id\": 12, \"nam...  \\\n",
       "1  [{\"id\": 12, \"name\": \"Adventure\"}, {\"id\": 14, \"...   \n",
       "2  [{\"id\": 28, \"name\": \"Action\"}, {\"id\": 12, \"nam...   \n",
       "3  [{\"id\": 28, \"name\": \"Action\"}, {\"id\": 80, \"nam...   \n",
       "4  [{\"id\": 28, \"name\": \"Action\"}, {\"id\": 12, \"nam...   \n",
       "\n",
       "                                            keywords   \n",
       "0  [{\"id\": 1463, \"name\": \"culture clash\"}, {\"id\":...  \\\n",
       "1  [{\"id\": 270, \"name\": \"ocean\"}, {\"id\": 726, \"na...   \n",
       "2  [{\"id\": 470, \"name\": \"spy\"}, {\"id\": 818, \"name...   \n",
       "3  [{\"id\": 849, \"name\": \"dc comics\"}, {\"id\": 853,...   \n",
       "4  [{\"id\": 818, \"name\": \"based on novel\"}, {\"id\":...   \n",
       "\n",
       "                                                cast   \n",
       "0  [{\"cast_id\": 242, \"character\": \"Jake Sully\", \"...  \\\n",
       "1  [{\"cast_id\": 4, \"character\": \"Captain Jack Spa...   \n",
       "2  [{\"cast_id\": 1, \"character\": \"James Bond\", \"cr...   \n",
       "3  [{\"cast_id\": 2, \"character\": \"Bruce Wayne / Ba...   \n",
       "4  [{\"cast_id\": 5, \"character\": \"John Carter\", \"c...   \n",
       "\n",
       "                                                crew  \n",
       "0  [{\"credit_id\": \"52fe48009251416c750aca23\", \"de...  \n",
       "1  [{\"credit_id\": \"52fe4232c3a36847f800b579\", \"de...  \n",
       "2  [{\"credit_id\": \"54805967c3a36829b5002c41\", \"de...  \n",
       "3  [{\"credit_id\": \"52fe4781c3a36847f81398c3\", \"de...  \n",
       "4  [{\"credit_id\": \"52fe479ac3a36847f813eaa3\", \"de...  "
      ]
     },
     "execution_count": 14,
     "metadata": {},
     "output_type": "execute_result"
    }
   ],
   "source": [
    "movies.head()"
   ]
  },
  {
   "cell_type": "markdown",
   "id": "252645aa-835c-4282-bdf3-4a9087707458",
   "metadata": {},
   "source": [
    "## Dealing with Missing Data"
   ]
  },
  {
   "cell_type": "code",
   "execution_count": 15,
   "id": "81d126b3-f01e-4789-a4d3-e884e275795b",
   "metadata": {
    "tags": []
   },
   "outputs": [
    {
     "data": {
      "text/plain": [
       "movie_id    0\n",
       "title       0\n",
       "overview    3\n",
       "genres      0\n",
       "keywords    0\n",
       "cast        0\n",
       "crew        0\n",
       "dtype: int64"
      ]
     },
     "execution_count": 15,
     "metadata": {},
     "output_type": "execute_result"
    }
   ],
   "source": [
    "movies.isnull().sum()"
   ]
  },
  {
   "cell_type": "code",
   "execution_count": 16,
   "id": "cebff3ba-2d84-4663-a8a7-e700f54c6830",
   "metadata": {
    "tags": []
   },
   "outputs": [],
   "source": [
    "# drop the columns that are null/na\n",
    "movies.dropna(inplace=True)"
   ]
  },
  {
   "cell_type": "code",
   "execution_count": 17,
   "id": "5cb11977-8590-4746-a69e-c7d2ae0a96ff",
   "metadata": {
    "tags": []
   },
   "outputs": [
    {
     "data": {
      "text/plain": [
       "movie_id    0\n",
       "title       0\n",
       "overview    0\n",
       "genres      0\n",
       "keywords    0\n",
       "cast        0\n",
       "crew        0\n",
       "dtype: int64"
      ]
     },
     "execution_count": 17,
     "metadata": {},
     "output_type": "execute_result"
    }
   ],
   "source": [
    "movies.isnull().sum()\n",
    "# now we can see that there are no null data in our dataset"
   ]
  },
  {
   "cell_type": "markdown",
   "id": "eb666ddc-3739-47a5-8538-619c38fe2cca",
   "metadata": {},
   "source": [
    "## Dealing with Duplicate Data"
   ]
  },
  {
   "cell_type": "code",
   "execution_count": 18,
   "id": "6e142e56-4f40-496b-8f86-8df06cf20adf",
   "metadata": {
    "tags": []
   },
   "outputs": [
    {
     "data": {
      "text/plain": [
       "0"
      ]
     },
     "execution_count": 18,
     "metadata": {},
     "output_type": "execute_result"
    }
   ],
   "source": [
    "movies.duplicated().sum()"
   ]
  },
  {
   "cell_type": "markdown",
   "id": "438cf16a-4d91-4ca8-a8e2-1800d67ef6f4",
   "metadata": {},
   "source": [
    "## Formatting the Genre Column"
   ]
  },
  {
   "cell_type": "code",
   "execution_count": 19,
   "id": "d1816b43-80e4-4cf9-9384-15cb26f3361f",
   "metadata": {
    "tags": []
   },
   "outputs": [
    {
     "data": {
      "text/plain": [
       "'[{\"id\": 28, \"name\": \"Action\"}, {\"id\": 12, \"name\": \"Adventure\"}, {\"id\": 14, \"name\": \"Fantasy\"}, {\"id\": 878, \"name\": \"Science Fiction\"}]'"
      ]
     },
     "execution_count": 19,
     "metadata": {},
     "output_type": "execute_result"
    }
   ],
   "source": [
    "movies.iloc[0].genres\n",
    "# displaying the genres of first movie, i.e avatar\n",
    "# we can see that the genres are in a format of list of dictionaries "
   ]
  },
  {
   "cell_type": "code",
   "execution_count": 20,
   "id": "eab067c2-76c2-48ba-9af9-9069c9c3a8c7",
   "metadata": {},
   "outputs": [],
   "source": [
    "# we want to convert the above format to the following\n",
    "# ['action','adventure','fantasy','science fiction']\n",
    "\n",
    "# basically we only need a list of all the genre names"
   ]
  },
  {
   "cell_type": "code",
   "execution_count": 21,
   "id": "9445e6ff-e6ee-4913-b719-ce0eb0844ec5",
   "metadata": {},
   "outputs": [
    {
     "data": {
      "text/plain": [
       "'[{\"id\": 28, \"name\": \"Action\"}, {\"id\": 12, \"name\": \"Adventure\"}, {\"id\": 14, \"name\": \"Fantasy\"}, {\"id\": 878, \"name\": \"Science Fiction\"}]'"
      ]
     },
     "execution_count": 21,
     "metadata": {},
     "output_type": "execute_result"
    }
   ],
   "source": [
    "movies.iloc[0].genres\n",
    "# we can see in the output, that the list of dictionaries in actually in the form of string. So we need to convert it using ast module in python"
   ]
  },
  {
   "cell_type": "code",
   "execution_count": 22,
   "id": "889bd29b-e8fc-4a00-8fc0-e36dff2d414c",
   "metadata": {
    "tags": []
   },
   "outputs": [
    {
     "data": {
      "text/plain": [
       "[{'id': 28, 'name': 'Action'},\n",
       " {'id': 12, 'name': 'Adventure'},\n",
       " {'id': 14, 'name': 'Fantasy'},\n",
       " {'id': 878, 'name': 'Science Fiction'}]"
      ]
     },
     "execution_count": 22,
     "metadata": {},
     "output_type": "execute_result"
    }
   ],
   "source": [
    "import ast\n",
    "ast.literal_eval('[{\"id\": 28, \"name\": \"Action\"}, {\"id\": 12, \"name\": \"Adventure\"}, {\"id\": 14, \"name\": \"Fantasy\"}, {\"id\": 878, \"name\": \"Science Fiction\"}]') "
   ]
  },
  {
   "cell_type": "code",
   "execution_count": 23,
   "id": "4fd071d4-101e-444d-aa9f-938721048d2d",
   "metadata": {
    "tags": []
   },
   "outputs": [],
   "source": [
    "# creating a function that will convert our list of dictionaries to list\n",
    "def convertGenre(obj):\n",
    "    L = []\n",
    "\n",
    "    for i in ast.literal_eval(obj): # to convert string to a list\n",
    "        # for each i we will get a dictionary, and from that dictionary, we will access the name and append it to a list\n",
    "        L.append(i['name'])\n",
    "    return L "
   ]
  },
  {
   "cell_type": "code",
   "execution_count": 24,
   "id": "71cafe78-7d22-48f5-b99c-06b6f96cd19e",
   "metadata": {
    "tags": []
   },
   "outputs": [
    {
     "data": {
      "text/plain": [
       "0       [Action, Adventure, Fantasy, Science Fiction]\n",
       "1                        [Adventure, Fantasy, Action]\n",
       "2                          [Action, Adventure, Crime]\n",
       "3                    [Action, Crime, Drama, Thriller]\n",
       "4                [Action, Adventure, Science Fiction]\n",
       "                            ...                      \n",
       "4804                        [Action, Crime, Thriller]\n",
       "4805                                [Comedy, Romance]\n",
       "4806               [Comedy, Drama, Romance, TV Movie]\n",
       "4807                                               []\n",
       "4808                                    [Documentary]\n",
       "Name: genres, Length: 4806, dtype: object"
      ]
     },
     "execution_count": 24,
     "metadata": {},
     "output_type": "execute_result"
    }
   ],
   "source": [
    "movies['genres'].apply(convertGenre)\n",
    "# we can see in output, we have got a list of all the genres of movies "
   ]
  },
  {
   "cell_type": "code",
   "execution_count": 25,
   "id": "83ae82ce-ddf1-4a3a-bc23-f39067c348d9",
   "metadata": {
    "tags": []
   },
   "outputs": [],
   "source": [
    "movies['genres'] = movies['genres'].apply(convertGenre)\n"
   ]
  },
  {
   "cell_type": "code",
   "execution_count": 26,
   "id": "288dcde2-d972-4989-98b9-b8f56f12d936",
   "metadata": {
    "tags": []
   },
   "outputs": [
    {
     "data": {
      "text/html": [
       "<div>\n",
       "<style scoped>\n",
       "    .dataframe tbody tr th:only-of-type {\n",
       "        vertical-align: middle;\n",
       "    }\n",
       "\n",
       "    .dataframe tbody tr th {\n",
       "        vertical-align: top;\n",
       "    }\n",
       "\n",
       "    .dataframe thead th {\n",
       "        text-align: right;\n",
       "    }\n",
       "</style>\n",
       "<table border=\"1\" class=\"dataframe\">\n",
       "  <thead>\n",
       "    <tr style=\"text-align: right;\">\n",
       "      <th></th>\n",
       "      <th>movie_id</th>\n",
       "      <th>title</th>\n",
       "      <th>overview</th>\n",
       "      <th>genres</th>\n",
       "      <th>keywords</th>\n",
       "      <th>cast</th>\n",
       "      <th>crew</th>\n",
       "    </tr>\n",
       "  </thead>\n",
       "  <tbody>\n",
       "    <tr>\n",
       "      <th>0</th>\n",
       "      <td>19995</td>\n",
       "      <td>Avatar</td>\n",
       "      <td>In the 22nd century, a paraplegic Marine is di...</td>\n",
       "      <td>[Action, Adventure, Fantasy, Science Fiction]</td>\n",
       "      <td>[{\"id\": 1463, \"name\": \"culture clash\"}, {\"id\":...</td>\n",
       "      <td>[{\"cast_id\": 242, \"character\": \"Jake Sully\", \"...</td>\n",
       "      <td>[{\"credit_id\": \"52fe48009251416c750aca23\", \"de...</td>\n",
       "    </tr>\n",
       "  </tbody>\n",
       "</table>\n",
       "</div>"
      ],
      "text/plain": [
       "   movie_id   title                                           overview   \n",
       "0     19995  Avatar  In the 22nd century, a paraplegic Marine is di...  \\\n",
       "\n",
       "                                          genres   \n",
       "0  [Action, Adventure, Fantasy, Science Fiction]  \\\n",
       "\n",
       "                                            keywords   \n",
       "0  [{\"id\": 1463, \"name\": \"culture clash\"}, {\"id\":...  \\\n",
       "\n",
       "                                                cast   \n",
       "0  [{\"cast_id\": 242, \"character\": \"Jake Sully\", \"...  \\\n",
       "\n",
       "                                                crew  \n",
       "0  [{\"credit_id\": \"52fe48009251416c750aca23\", \"de...  "
      ]
     },
     "execution_count": 26,
     "metadata": {},
     "output_type": "execute_result"
    }
   ],
   "source": [
    "movies.head(1)"
   ]
  },
  {
   "cell_type": "markdown",
   "id": "3732faa8-4aa5-4ef6-960b-50f8f9c5413e",
   "metadata": {},
   "source": [
    "## Formatting the keyword column"
   ]
  },
  {
   "cell_type": "code",
   "execution_count": 27,
   "id": "ffd980dd-197e-42f0-9d95-d9eaadc1d5d0",
   "metadata": {
    "tags": []
   },
   "outputs": [
    {
     "data": {
      "text/plain": [
       "'[{\"id\": 1463, \"name\": \"culture clash\"}, {\"id\": 2964, \"name\": \"future\"}, {\"id\": 3386, \"name\": \"space war\"}, {\"id\": 3388, \"name\": \"space colony\"}, {\"id\": 3679, \"name\": \"society\"}, {\"id\": 3801, \"name\": \"space travel\"}, {\"id\": 9685, \"name\": \"futuristic\"}, {\"id\": 9840, \"name\": \"romance\"}, {\"id\": 9882, \"name\": \"space\"}, {\"id\": 9951, \"name\": \"alien\"}, {\"id\": 10148, \"name\": \"tribe\"}, {\"id\": 10158, \"name\": \"alien planet\"}, {\"id\": 10987, \"name\": \"cgi\"}, {\"id\": 11399, \"name\": \"marine\"}, {\"id\": 13065, \"name\": \"soldier\"}, {\"id\": 14643, \"name\": \"battle\"}, {\"id\": 14720, \"name\": \"love affair\"}, {\"id\": 165431, \"name\": \"anti war\"}, {\"id\": 193554, \"name\": \"power relations\"}, {\"id\": 206690, \"name\": \"mind and soul\"}, {\"id\": 209714, \"name\": \"3d\"}]'"
      ]
     },
     "execution_count": 27,
     "metadata": {},
     "output_type": "execute_result"
    }
   ],
   "source": [
    "movies.iloc[0].keywords"
   ]
  },
  {
   "cell_type": "code",
   "execution_count": 28,
   "id": "7ff23fc9-1b1c-4e63-b9c1-c9d100b9bee4",
   "metadata": {},
   "outputs": [
    {
     "data": {
      "text/plain": [
       "0       [culture clash, future, space war, space colon...\n",
       "1       [ocean, drug abuse, exotic island, east india ...\n",
       "2       [spy, based on novel, secret agent, sequel, mi...\n",
       "3       [dc comics, crime fighter, terrorist, secret i...\n",
       "4       [based on novel, mars, medallion, space travel...\n",
       "                              ...                        \n",
       "4804    [united states–mexico barrier, legs, arms, pap...\n",
       "4805                                                   []\n",
       "4806    [date, love at first sight, narration, investi...\n",
       "4807                                                   []\n",
       "4808            [obsession, camcorder, crush, dream girl]\n",
       "Name: keywords, Length: 4806, dtype: object"
      ]
     },
     "execution_count": 28,
     "metadata": {},
     "output_type": "execute_result"
    }
   ],
   "source": [
    "# we need to do the same thing that we did with the genres column. Just extract all the names present in each dictonary to a list\n",
    "# we will use the same function because we need to extract name from keywords as well\n",
    "\n",
    "movies['keywords'].apply(convertGenre)"
   ]
  },
  {
   "cell_type": "code",
   "execution_count": 29,
   "id": "e9bcb894-bfde-43f5-bc1c-96e5a44d1970",
   "metadata": {
    "tags": []
   },
   "outputs": [],
   "source": [
    "movies['keywords'] = movies['keywords'].apply(convertGenre)"
   ]
  },
  {
   "cell_type": "code",
   "execution_count": 30,
   "id": "a9817e7f-9ee6-482e-ad0f-e077cb423f21",
   "metadata": {
    "tags": []
   },
   "outputs": [
    {
     "data": {
      "text/html": [
       "<div>\n",
       "<style scoped>\n",
       "    .dataframe tbody tr th:only-of-type {\n",
       "        vertical-align: middle;\n",
       "    }\n",
       "\n",
       "    .dataframe tbody tr th {\n",
       "        vertical-align: top;\n",
       "    }\n",
       "\n",
       "    .dataframe thead th {\n",
       "        text-align: right;\n",
       "    }\n",
       "</style>\n",
       "<table border=\"1\" class=\"dataframe\">\n",
       "  <thead>\n",
       "    <tr style=\"text-align: right;\">\n",
       "      <th></th>\n",
       "      <th>movie_id</th>\n",
       "      <th>title</th>\n",
       "      <th>overview</th>\n",
       "      <th>genres</th>\n",
       "      <th>keywords</th>\n",
       "      <th>cast</th>\n",
       "      <th>crew</th>\n",
       "    </tr>\n",
       "  </thead>\n",
       "  <tbody>\n",
       "    <tr>\n",
       "      <th>0</th>\n",
       "      <td>19995</td>\n",
       "      <td>Avatar</td>\n",
       "      <td>In the 22nd century, a paraplegic Marine is di...</td>\n",
       "      <td>[Action, Adventure, Fantasy, Science Fiction]</td>\n",
       "      <td>[culture clash, future, space war, space colon...</td>\n",
       "      <td>[{\"cast_id\": 242, \"character\": \"Jake Sully\", \"...</td>\n",
       "      <td>[{\"credit_id\": \"52fe48009251416c750aca23\", \"de...</td>\n",
       "    </tr>\n",
       "  </tbody>\n",
       "</table>\n",
       "</div>"
      ],
      "text/plain": [
       "   movie_id   title                                           overview   \n",
       "0     19995  Avatar  In the 22nd century, a paraplegic Marine is di...  \\\n",
       "\n",
       "                                          genres   \n",
       "0  [Action, Adventure, Fantasy, Science Fiction]  \\\n",
       "\n",
       "                                            keywords   \n",
       "0  [culture clash, future, space war, space colon...  \\\n",
       "\n",
       "                                                cast   \n",
       "0  [{\"cast_id\": 242, \"character\": \"Jake Sully\", \"...  \\\n",
       "\n",
       "                                                crew  \n",
       "0  [{\"credit_id\": \"52fe48009251416c750aca23\", \"de...  "
      ]
     },
     "execution_count": 30,
     "metadata": {},
     "output_type": "execute_result"
    }
   ],
   "source": [
    "movies.head(1)"
   ]
  },
  {
   "cell_type": "markdown",
   "id": "758916d7-157a-4e4f-8708-c2ce725ccd0e",
   "metadata": {},
   "source": [
    "## Formatting the Cast Column"
   ]
  },
  {
   "cell_type": "code",
   "execution_count": 31,
   "id": "3eeab87a-acef-48a2-82d6-e4331ca487a5",
   "metadata": {
    "scrolled": true,
    "tags": []
   },
   "outputs": [
    {
     "data": {
      "text/plain": [
       "'[{\"cast_id\": 242, \"character\": \"Jake Sully\", \"credit_id\": \"5602a8a7c3a3685532001c9a\", \"gender\": 2, \"id\": 65731, \"name\": \"Sam Worthington\", \"order\": 0}, {\"cast_id\": 3, \"character\": \"Neytiri\", \"credit_id\": \"52fe48009251416c750ac9cb\", \"gender\": 1, \"id\": 8691, \"name\": \"Zoe Saldana\", \"order\": 1}, {\"cast_id\": 25, \"character\": \"Dr. Grace Augustine\", \"credit_id\": \"52fe48009251416c750aca39\", \"gender\": 1, \"id\": 10205, \"name\": \"Sigourney Weaver\", \"order\": 2}, {\"cast_id\": 4, \"character\": \"Col. Quaritch\", \"credit_id\": \"52fe48009251416c750ac9cf\", \"gender\": 2, \"id\": 32747, \"name\": \"Stephen Lang\", \"order\": 3}, {\"cast_id\": 5, \"character\": \"Trudy Chacon\", \"credit_id\": \"52fe48009251416c750ac9d3\", \"gender\": 1, \"id\": 17647, \"name\": \"Michelle Rodriguez\", \"order\": 4}, {\"cast_id\": 8, \"character\": \"Selfridge\", \"credit_id\": \"52fe48009251416c750ac9e1\", \"gender\": 2, \"id\": 1771, \"name\": \"Giovanni Ribisi\", \"order\": 5}, {\"cast_id\": 7, \"character\": \"Norm Spellman\", \"credit_id\": \"52fe48009251416c750ac9dd\", \"gender\": 2, \"id\": 59231, \"name\": \"Joel David Moore\", \"order\": 6}, {\"cast_id\": 9, \"character\": \"Moat\", \"credit_id\": \"52fe48009251416c750ac9e5\", \"gender\": 1, \"id\": 30485, \"name\": \"CCH Pounder\", \"order\": 7}, {\"cast_id\": 11, \"character\": \"Eytukan\", \"credit_id\": \"52fe48009251416c750ac9ed\", \"gender\": 2, \"id\": 15853, \"name\": \"Wes Studi\", \"order\": 8}, {\"cast_id\": 10, \"character\": \"Tsu\\'Tey\", \"credit_id\": \"52fe48009251416c750ac9e9\", \"gender\": 2, \"id\": 10964, \"name\": \"Laz Alonso\", \"order\": 9}, {\"cast_id\": 12, \"character\": \"Dr. Max Patel\", \"credit_id\": \"52fe48009251416c750ac9f1\", \"gender\": 2, \"id\": 95697, \"name\": \"Dileep Rao\", \"order\": 10}, {\"cast_id\": 13, \"character\": \"Lyle Wainfleet\", \"credit_id\": \"52fe48009251416c750ac9f5\", \"gender\": 2, \"id\": 98215, \"name\": \"Matt Gerald\", \"order\": 11}, {\"cast_id\": 32, \"character\": \"Private Fike\", \"credit_id\": \"52fe48009251416c750aca5b\", \"gender\": 2, \"id\": 154153, \"name\": \"Sean Anthony Moran\", \"order\": 12}, {\"cast_id\": 33, \"character\": \"Cryo Vault Med Tech\", \"credit_id\": \"52fe48009251416c750aca5f\", \"gender\": 2, \"id\": 397312, \"name\": \"Jason Whyte\", \"order\": 13}, {\"cast_id\": 34, \"character\": \"Venture Star Crew Chief\", \"credit_id\": \"52fe48009251416c750aca63\", \"gender\": 2, \"id\": 42317, \"name\": \"Scott Lawrence\", \"order\": 14}, {\"cast_id\": 35, \"character\": \"Lock Up Trooper\", \"credit_id\": \"52fe48009251416c750aca67\", \"gender\": 2, \"id\": 986734, \"name\": \"Kelly Kilgour\", \"order\": 15}, {\"cast_id\": 36, \"character\": \"Shuttle Pilot\", \"credit_id\": \"52fe48009251416c750aca6b\", \"gender\": 0, \"id\": 1207227, \"name\": \"James Patrick Pitt\", \"order\": 16}, {\"cast_id\": 37, \"character\": \"Shuttle Co-Pilot\", \"credit_id\": \"52fe48009251416c750aca6f\", \"gender\": 0, \"id\": 1180936, \"name\": \"Sean Patrick Murphy\", \"order\": 17}, {\"cast_id\": 38, \"character\": \"Shuttle Crew Chief\", \"credit_id\": \"52fe48009251416c750aca73\", \"gender\": 2, \"id\": 1019578, \"name\": \"Peter Dillon\", \"order\": 18}, {\"cast_id\": 39, \"character\": \"Tractor Operator / Troupe\", \"credit_id\": \"52fe48009251416c750aca77\", \"gender\": 0, \"id\": 91443, \"name\": \"Kevin Dorman\", \"order\": 19}, {\"cast_id\": 40, \"character\": \"Dragon Gunship Pilot\", \"credit_id\": \"52fe48009251416c750aca7b\", \"gender\": 2, \"id\": 173391, \"name\": \"Kelson Henderson\", \"order\": 20}, {\"cast_id\": 41, \"character\": \"Dragon Gunship Gunner\", \"credit_id\": \"52fe48009251416c750aca7f\", \"gender\": 0, \"id\": 1207236, \"name\": \"David Van Horn\", \"order\": 21}, {\"cast_id\": 42, \"character\": \"Dragon Gunship Navigator\", \"credit_id\": \"52fe48009251416c750aca83\", \"gender\": 0, \"id\": 215913, \"name\": \"Jacob Tomuri\", \"order\": 22}, {\"cast_id\": 43, \"character\": \"Suit #1\", \"credit_id\": \"52fe48009251416c750aca87\", \"gender\": 0, \"id\": 143206, \"name\": \"Michael Blain-Rozgay\", \"order\": 23}, {\"cast_id\": 44, \"character\": \"Suit #2\", \"credit_id\": \"52fe48009251416c750aca8b\", \"gender\": 2, \"id\": 169676, \"name\": \"Jon Curry\", \"order\": 24}, {\"cast_id\": 46, \"character\": \"Ambient Room Tech\", \"credit_id\": \"52fe48009251416c750aca8f\", \"gender\": 0, \"id\": 1048610, \"name\": \"Luke Hawker\", \"order\": 25}, {\"cast_id\": 47, \"character\": \"Ambient Room Tech / Troupe\", \"credit_id\": \"52fe48009251416c750aca93\", \"gender\": 0, \"id\": 42288, \"name\": \"Woody Schultz\", \"order\": 26}, {\"cast_id\": 48, \"character\": \"Horse Clan Leader\", \"credit_id\": \"52fe48009251416c750aca97\", \"gender\": 2, \"id\": 68278, \"name\": \"Peter Mensah\", \"order\": 27}, {\"cast_id\": 49, \"character\": \"Link Room Tech\", \"credit_id\": \"52fe48009251416c750aca9b\", \"gender\": 0, \"id\": 1207247, \"name\": \"Sonia Yee\", \"order\": 28}, {\"cast_id\": 50, \"character\": \"Basketball Avatar / Troupe\", \"credit_id\": \"52fe48009251416c750aca9f\", \"gender\": 1, \"id\": 1207248, \"name\": \"Jahnel Curfman\", \"order\": 29}, {\"cast_id\": 51, \"character\": \"Basketball Avatar\", \"credit_id\": \"52fe48009251416c750acaa3\", \"gender\": 0, \"id\": 89714, \"name\": \"Ilram Choi\", \"order\": 30}, {\"cast_id\": 52, \"character\": \"Na\\'vi Child\", \"credit_id\": \"52fe48009251416c750acaa7\", \"gender\": 0, \"id\": 1207249, \"name\": \"Kyla Warren\", \"order\": 31}, {\"cast_id\": 53, \"character\": \"Troupe\", \"credit_id\": \"52fe48009251416c750acaab\", \"gender\": 0, \"id\": 1207250, \"name\": \"Lisa Roumain\", \"order\": 32}, {\"cast_id\": 54, \"character\": \"Troupe\", \"credit_id\": \"52fe48009251416c750acaaf\", \"gender\": 1, \"id\": 83105, \"name\": \"Debra Wilson\", \"order\": 33}, {\"cast_id\": 57, \"character\": \"Troupe\", \"credit_id\": \"52fe48009251416c750acabb\", \"gender\": 0, \"id\": 1207253, \"name\": \"Chris Mala\", \"order\": 34}, {\"cast_id\": 55, \"character\": \"Troupe\", \"credit_id\": \"52fe48009251416c750acab3\", \"gender\": 0, \"id\": 1207251, \"name\": \"Taylor Kibby\", \"order\": 35}, {\"cast_id\": 56, \"character\": \"Troupe\", \"credit_id\": \"52fe48009251416c750acab7\", \"gender\": 0, \"id\": 1207252, \"name\": \"Jodie Landau\", \"order\": 36}, {\"cast_id\": 58, \"character\": \"Troupe\", \"credit_id\": \"52fe48009251416c750acabf\", \"gender\": 0, \"id\": 1207254, \"name\": \"Julie Lamm\", \"order\": 37}, {\"cast_id\": 59, \"character\": \"Troupe\", \"credit_id\": \"52fe48009251416c750acac3\", \"gender\": 0, \"id\": 1207257, \"name\": \"Cullen B. Madden\", \"order\": 38}, {\"cast_id\": 60, \"character\": \"Troupe\", \"credit_id\": \"52fe48009251416c750acac7\", \"gender\": 0, \"id\": 1207259, \"name\": \"Joseph Brady Madden\", \"order\": 39}, {\"cast_id\": 61, \"character\": \"Troupe\", \"credit_id\": \"52fe48009251416c750acacb\", \"gender\": 0, \"id\": 1207262, \"name\": \"Frankie Torres\", \"order\": 40}, {\"cast_id\": 62, \"character\": \"Troupe\", \"credit_id\": \"52fe48009251416c750acacf\", \"gender\": 1, \"id\": 1158600, \"name\": \"Austin Wilson\", \"order\": 41}, {\"cast_id\": 63, \"character\": \"Troupe\", \"credit_id\": \"52fe48019251416c750acad3\", \"gender\": 1, \"id\": 983705, \"name\": \"Sara Wilson\", \"order\": 42}, {\"cast_id\": 64, \"character\": \"Troupe\", \"credit_id\": \"52fe48019251416c750acad7\", \"gender\": 0, \"id\": 1207263, \"name\": \"Tamica Washington-Miller\", \"order\": 43}, {\"cast_id\": 65, \"character\": \"Op Center Staff\", \"credit_id\": \"52fe48019251416c750acadb\", \"gender\": 1, \"id\": 1145098, \"name\": \"Lucy Briant\", \"order\": 44}, {\"cast_id\": 66, \"character\": \"Op Center Staff\", \"credit_id\": \"52fe48019251416c750acadf\", \"gender\": 2, \"id\": 33305, \"name\": \"Nathan Meister\", \"order\": 45}, {\"cast_id\": 67, \"character\": \"Op Center Staff\", \"credit_id\": \"52fe48019251416c750acae3\", \"gender\": 0, \"id\": 1207264, \"name\": \"Gerry Blair\", \"order\": 46}, {\"cast_id\": 68, \"character\": \"Op Center Staff\", \"credit_id\": \"52fe48019251416c750acae7\", \"gender\": 2, \"id\": 33311, \"name\": \"Matthew Chamberlain\", \"order\": 47}, {\"cast_id\": 69, \"character\": \"Op Center Staff\", \"credit_id\": \"52fe48019251416c750acaeb\", \"gender\": 0, \"id\": 1207265, \"name\": \"Paul Yates\", \"order\": 48}, {\"cast_id\": 70, \"character\": \"Op Center Duty Officer\", \"credit_id\": \"52fe48019251416c750acaef\", \"gender\": 0, \"id\": 1207266, \"name\": \"Wray Wilson\", \"order\": 49}, {\"cast_id\": 71, \"character\": \"Op Center Staff\", \"credit_id\": \"52fe48019251416c750acaf3\", \"gender\": 2, \"id\": 54492, \"name\": \"James Gaylyn\", \"order\": 50}, {\"cast_id\": 72, \"character\": \"Dancer\", \"credit_id\": \"52fe48019251416c750acaf7\", \"gender\": 0, \"id\": 1207267, \"name\": \"Melvin Leno Clark III\", \"order\": 51}, {\"cast_id\": 73, \"character\": \"Dancer\", \"credit_id\": \"52fe48019251416c750acafb\", \"gender\": 0, \"id\": 1207268, \"name\": \"Carvon Futrell\", \"order\": 52}, {\"cast_id\": 74, \"character\": \"Dancer\", \"credit_id\": \"52fe48019251416c750acaff\", \"gender\": 0, \"id\": 1207269, \"name\": \"Brandon Jelkes\", \"order\": 53}, {\"cast_id\": 75, \"character\": \"Dancer\", \"credit_id\": \"52fe48019251416c750acb03\", \"gender\": 0, \"id\": 1207270, \"name\": \"Micah Moch\", \"order\": 54}, {\"cast_id\": 76, \"character\": \"Dancer\", \"credit_id\": \"52fe48019251416c750acb07\", \"gender\": 0, \"id\": 1207271, \"name\": \"Hanniyah Muhammad\", \"order\": 55}, {\"cast_id\": 77, \"character\": \"Dancer\", \"credit_id\": \"52fe48019251416c750acb0b\", \"gender\": 0, \"id\": 1207272, \"name\": \"Christopher Nolen\", \"order\": 56}, {\"cast_id\": 78, \"character\": \"Dancer\", \"credit_id\": \"52fe48019251416c750acb0f\", \"gender\": 0, \"id\": 1207273, \"name\": \"Christa Oliver\", \"order\": 57}, {\"cast_id\": 79, \"character\": \"Dancer\", \"credit_id\": \"52fe48019251416c750acb13\", \"gender\": 0, \"id\": 1207274, \"name\": \"April Marie Thomas\", \"order\": 58}, {\"cast_id\": 80, \"character\": \"Dancer\", \"credit_id\": \"52fe48019251416c750acb17\", \"gender\": 0, \"id\": 1207275, \"name\": \"Bravita A. Threatt\", \"order\": 59}, {\"cast_id\": 81, \"character\": \"Mining Chief (uncredited)\", \"credit_id\": \"52fe48019251416c750acb1b\", \"gender\": 0, \"id\": 1207276, \"name\": \"Colin Bleasdale\", \"order\": 60}, {\"cast_id\": 82, \"character\": \"Veteran Miner (uncredited)\", \"credit_id\": \"52fe48019251416c750acb1f\", \"gender\": 0, \"id\": 107969, \"name\": \"Mike Bodnar\", \"order\": 61}, {\"cast_id\": 83, \"character\": \"Richard (uncredited)\", \"credit_id\": \"52fe48019251416c750acb23\", \"gender\": 0, \"id\": 1207278, \"name\": \"Matt Clayton\", \"order\": 62}, {\"cast_id\": 84, \"character\": \"Nav\\'i (uncredited)\", \"credit_id\": \"52fe48019251416c750acb27\", \"gender\": 1, \"id\": 147898, \"name\": \"Nicole Dionne\", \"order\": 63}, {\"cast_id\": 85, \"character\": \"Trooper (uncredited)\", \"credit_id\": \"52fe48019251416c750acb2b\", \"gender\": 0, \"id\": 1207280, \"name\": \"Jamie Harrison\", \"order\": 64}, {\"cast_id\": 86, \"character\": \"Trooper (uncredited)\", \"credit_id\": \"52fe48019251416c750acb2f\", \"gender\": 0, \"id\": 1207281, \"name\": \"Allan Henry\", \"order\": 65}, {\"cast_id\": 87, \"character\": \"Ground Technician (uncredited)\", \"credit_id\": \"52fe48019251416c750acb33\", \"gender\": 2, \"id\": 1207282, \"name\": \"Anthony Ingruber\", \"order\": 66}, {\"cast_id\": 88, \"character\": \"Flight Crew Mechanic (uncredited)\", \"credit_id\": \"52fe48019251416c750acb37\", \"gender\": 0, \"id\": 1207283, \"name\": \"Ashley Jeffery\", \"order\": 67}, {\"cast_id\": 14, \"character\": \"Samson Pilot\", \"credit_id\": \"52fe48009251416c750ac9f9\", \"gender\": 0, \"id\": 98216, \"name\": \"Dean Knowsley\", \"order\": 68}, {\"cast_id\": 89, \"character\": \"Trooper (uncredited)\", \"credit_id\": \"52fe48019251416c750acb3b\", \"gender\": 0, \"id\": 1201399, \"name\": \"Joseph Mika-Hunt\", \"order\": 69}, {\"cast_id\": 90, \"character\": \"Banshee (uncredited)\", \"credit_id\": \"52fe48019251416c750acb3f\", \"gender\": 0, \"id\": 236696, \"name\": \"Terry Notary\", \"order\": 70}, {\"cast_id\": 91, \"character\": \"Soldier (uncredited)\", \"credit_id\": \"52fe48019251416c750acb43\", \"gender\": 0, \"id\": 1207287, \"name\": \"Kai Pantano\", \"order\": 71}, {\"cast_id\": 92, \"character\": \"Blast Technician (uncredited)\", \"credit_id\": \"52fe48019251416c750acb47\", \"gender\": 0, \"id\": 1207288, \"name\": \"Logan Pithyou\", \"order\": 72}, {\"cast_id\": 93, \"character\": \"Vindum Raah (uncredited)\", \"credit_id\": \"52fe48019251416c750acb4b\", \"gender\": 0, \"id\": 1207289, \"name\": \"Stuart Pollock\", \"order\": 73}, {\"cast_id\": 94, \"character\": \"Hero (uncredited)\", \"credit_id\": \"52fe48019251416c750acb4f\", \"gender\": 0, \"id\": 584868, \"name\": \"Raja\", \"order\": 74}, {\"cast_id\": 95, \"character\": \"Ops Centreworker (uncredited)\", \"credit_id\": \"52fe48019251416c750acb53\", \"gender\": 0, \"id\": 1207290, \"name\": \"Gareth Ruck\", \"order\": 75}, {\"cast_id\": 96, \"character\": \"Engineer (uncredited)\", \"credit_id\": \"52fe48019251416c750acb57\", \"gender\": 0, \"id\": 1062463, \"name\": \"Rhian Sheehan\", \"order\": 76}, {\"cast_id\": 97, \"character\": \"Col. Quaritch\\'s Mech Suit (uncredited)\", \"credit_id\": \"52fe48019251416c750acb5b\", \"gender\": 0, \"id\": 60656, \"name\": \"T. J. Storm\", \"order\": 77}, {\"cast_id\": 98, \"character\": \"Female Marine (uncredited)\", \"credit_id\": \"52fe48019251416c750acb5f\", \"gender\": 0, \"id\": 1207291, \"name\": \"Jodie Taylor\", \"order\": 78}, {\"cast_id\": 99, \"character\": \"Ikran Clan Leader (uncredited)\", \"credit_id\": \"52fe48019251416c750acb63\", \"gender\": 1, \"id\": 1186027, \"name\": \"Alicia Vela-Bailey\", \"order\": 79}, {\"cast_id\": 100, \"character\": \"Geologist (uncredited)\", \"credit_id\": \"52fe48019251416c750acb67\", \"gender\": 0, \"id\": 1207292, \"name\": \"Richard Whiteside\", \"order\": 80}, {\"cast_id\": 101, \"character\": \"Na\\'vi (uncredited)\", \"credit_id\": \"52fe48019251416c750acb6b\", \"gender\": 0, \"id\": 103259, \"name\": \"Nikie Zambo\", \"order\": 81}, {\"cast_id\": 102, \"character\": \"Ambient Room Tech / Troupe\", \"credit_id\": \"52fe48019251416c750acb6f\", \"gender\": 1, \"id\": 42286, \"name\": \"Julene Renee\", \"order\": 82}]'"
      ]
     },
     "execution_count": 31,
     "metadata": {},
     "output_type": "execute_result"
    }
   ],
   "source": [
    "movies.iloc[0].cast"
   ]
  },
  {
   "cell_type": "code",
   "execution_count": null,
   "id": "0c9eef31-efc3-4780-9370-4a8d69960de5",
   "metadata": {},
   "outputs": [],
   "source": []
  },
  {
   "cell_type": "markdown",
   "id": "8530e135-2f55-42fb-8a2d-a68e37eba302",
   "metadata": {},
   "source": [
    "**In cast also, we will be doing same kind of formatting as we did in keywords and genres but here we only need the first 3 cast(so we will need to pick only the first 3 dictionaries from the list of dictionaries)**"
   ]
  },
  {
   "cell_type": "code",
   "execution_count": 32,
   "id": "d376eabd-ca88-428d-81be-c21184afc5b5",
   "metadata": {
    "tags": []
   },
   "outputs": [],
   "source": [
    "# creating a function that will convert our list of dictionaries to list\n",
    "def convertCast(obj):\n",
    "    L = []\n",
    "    counter = 0\n",
    "    for i in ast.literal_eval(obj): # to convert string to a list\n",
    "        # for each i we will get a dictionary, and from that dictionary, we will access the name and append it to a list\n",
    "        if counter!=3:\n",
    "            L.append(i['name'])\n",
    "            counter+=1\n",
    "        else:\n",
    "            break\n",
    "    return L "
   ]
  },
  {
   "cell_type": "code",
   "execution_count": 33,
   "id": "cbcc1843-01bd-4188-b57e-341d093c2538",
   "metadata": {
    "tags": []
   },
   "outputs": [
    {
     "data": {
      "text/plain": [
       "0        [Sam Worthington, Zoe Saldana, Sigourney Weaver]\n",
       "1           [Johnny Depp, Orlando Bloom, Keira Knightley]\n",
       "2            [Daniel Craig, Christoph Waltz, Léa Seydoux]\n",
       "3            [Christian Bale, Michael Caine, Gary Oldman]\n",
       "4          [Taylor Kitsch, Lynn Collins, Samantha Morton]\n",
       "                              ...                        \n",
       "4804    [Carlos Gallardo, Jaime de Hoyos, Peter Marqua...\n",
       "4805         [Edward Burns, Kerry Bishé, Marsha Dietlein]\n",
       "4806           [Eric Mabius, Kristin Booth, Crystal Lowe]\n",
       "4807            [Daniel Henney, Eliza Coupe, Bill Paxton]\n",
       "4808    [Drew Barrymore, Brian Herzlinger, Corey Feldman]\n",
       "Name: cast, Length: 4806, dtype: object"
      ]
     },
     "execution_count": 33,
     "metadata": {},
     "output_type": "execute_result"
    }
   ],
   "source": [
    "movies['cast'].apply(convertCast)\n",
    "# we can see that we are getting 3 actors for each movie"
   ]
  },
  {
   "cell_type": "code",
   "execution_count": 34,
   "id": "5e7b1fb2-64cb-4d0b-a36e-7ba793538965",
   "metadata": {
    "tags": []
   },
   "outputs": [],
   "source": [
    "movies['cast']=movies['cast'].apply(convertCast)"
   ]
  },
  {
   "cell_type": "code",
   "execution_count": 35,
   "id": "50708fa3-2b6d-4635-bba5-3a10ff5ce898",
   "metadata": {
    "tags": []
   },
   "outputs": [
    {
     "data": {
      "text/html": [
       "<div>\n",
       "<style scoped>\n",
       "    .dataframe tbody tr th:only-of-type {\n",
       "        vertical-align: middle;\n",
       "    }\n",
       "\n",
       "    .dataframe tbody tr th {\n",
       "        vertical-align: top;\n",
       "    }\n",
       "\n",
       "    .dataframe thead th {\n",
       "        text-align: right;\n",
       "    }\n",
       "</style>\n",
       "<table border=\"1\" class=\"dataframe\">\n",
       "  <thead>\n",
       "    <tr style=\"text-align: right;\">\n",
       "      <th></th>\n",
       "      <th>movie_id</th>\n",
       "      <th>title</th>\n",
       "      <th>overview</th>\n",
       "      <th>genres</th>\n",
       "      <th>keywords</th>\n",
       "      <th>cast</th>\n",
       "      <th>crew</th>\n",
       "    </tr>\n",
       "  </thead>\n",
       "  <tbody>\n",
       "    <tr>\n",
       "      <th>0</th>\n",
       "      <td>19995</td>\n",
       "      <td>Avatar</td>\n",
       "      <td>In the 22nd century, a paraplegic Marine is di...</td>\n",
       "      <td>[Action, Adventure, Fantasy, Science Fiction]</td>\n",
       "      <td>[culture clash, future, space war, space colon...</td>\n",
       "      <td>[Sam Worthington, Zoe Saldana, Sigourney Weaver]</td>\n",
       "      <td>[{\"credit_id\": \"52fe48009251416c750aca23\", \"de...</td>\n",
       "    </tr>\n",
       "  </tbody>\n",
       "</table>\n",
       "</div>"
      ],
      "text/plain": [
       "   movie_id   title                                           overview   \n",
       "0     19995  Avatar  In the 22nd century, a paraplegic Marine is di...  \\\n",
       "\n",
       "                                          genres   \n",
       "0  [Action, Adventure, Fantasy, Science Fiction]  \\\n",
       "\n",
       "                                            keywords   \n",
       "0  [culture clash, future, space war, space colon...  \\\n",
       "\n",
       "                                               cast   \n",
       "0  [Sam Worthington, Zoe Saldana, Sigourney Weaver]  \\\n",
       "\n",
       "                                                crew  \n",
       "0  [{\"credit_id\": \"52fe48009251416c750aca23\", \"de...  "
      ]
     },
     "execution_count": 35,
     "metadata": {},
     "output_type": "execute_result"
    }
   ],
   "source": [
    "movies.head(1)"
   ]
  },
  {
   "cell_type": "markdown",
   "id": "90ac567d-6cf1-41e9-95e2-ed67dfcea2fd",
   "metadata": {},
   "source": [
    "## Formatting Crew Column"
   ]
  },
  {
   "cell_type": "markdown",
   "id": "c57898fe-9510-42c8-8e0c-9b00c0f23891",
   "metadata": {},
   "source": [
    "Here we only need the dictionary where job title is \"Director\" because we only want data for director"
   ]
  },
  {
   "cell_type": "code",
   "execution_count": 36,
   "id": "d2b07872-dabe-4810-8688-64fbce86b369",
   "metadata": {
    "scrolled": true,
    "tags": []
   },
   "outputs": [
    {
     "data": {
      "text/plain": [
       "'[{\"credit_id\": \"52fe48009251416c750aca23\", \"department\": \"Editing\", \"gender\": 0, \"id\": 1721, \"job\": \"Editor\", \"name\": \"Stephen E. Rivkin\"}, {\"credit_id\": \"539c47ecc3a36810e3001f87\", \"department\": \"Art\", \"gender\": 2, \"id\": 496, \"job\": \"Production Design\", \"name\": \"Rick Carter\"}, {\"credit_id\": \"54491c89c3a3680fb4001cf7\", \"department\": \"Sound\", \"gender\": 0, \"id\": 900, \"job\": \"Sound Designer\", \"name\": \"Christopher Boyes\"}, {\"credit_id\": \"54491cb70e0a267480001bd0\", \"department\": \"Sound\", \"gender\": 0, \"id\": 900, \"job\": \"Supervising Sound Editor\", \"name\": \"Christopher Boyes\"}, {\"credit_id\": \"539c4a4cc3a36810c9002101\", \"department\": \"Production\", \"gender\": 1, \"id\": 1262, \"job\": \"Casting\", \"name\": \"Mali Finn\"}, {\"credit_id\": \"5544ee3b925141499f0008fc\", \"department\": \"Sound\", \"gender\": 2, \"id\": 1729, \"job\": \"Original Music Composer\", \"name\": \"James Horner\"}, {\"credit_id\": \"52fe48009251416c750ac9c3\", \"department\": \"Directing\", \"gender\": 2, \"id\": 2710, \"job\": \"Director\", \"name\": \"James Cameron\"}, {\"credit_id\": \"52fe48009251416c750ac9d9\", \"department\": \"Writing\", \"gender\": 2, \"id\": 2710, \"job\": \"Writer\", \"name\": \"James Cameron\"}, {\"credit_id\": \"52fe48009251416c750aca17\", \"department\": \"Editing\", \"gender\": 2, \"id\": 2710, \"job\": \"Editor\", \"name\": \"James Cameron\"}, {\"credit_id\": \"52fe48009251416c750aca29\", \"department\": \"Production\", \"gender\": 2, \"id\": 2710, \"job\": \"Producer\", \"name\": \"James Cameron\"}, {\"credit_id\": \"52fe48009251416c750aca3f\", \"department\": \"Writing\", \"gender\": 2, \"id\": 2710, \"job\": \"Screenplay\", \"name\": \"James Cameron\"}, {\"credit_id\": \"539c4987c3a36810ba0021a4\", \"department\": \"Art\", \"gender\": 2, \"id\": 7236, \"job\": \"Art Direction\", \"name\": \"Andrew Menzies\"}, {\"credit_id\": \"549598c3c3a3686ae9004383\", \"department\": \"Visual Effects\", \"gender\": 0, \"id\": 6690, \"job\": \"Visual Effects Producer\", \"name\": \"Jill Brooks\"}, {\"credit_id\": \"52fe48009251416c750aca4b\", \"department\": \"Production\", \"gender\": 1, \"id\": 6347, \"job\": \"Casting\", \"name\": \"Margery Simkin\"}, {\"credit_id\": \"570b6f419251417da70032fe\", \"department\": \"Art\", \"gender\": 2, \"id\": 6878, \"job\": \"Supervising Art Director\", \"name\": \"Kevin Ishioka\"}, {\"credit_id\": \"5495a0fac3a3686ae9004468\", \"department\": \"Sound\", \"gender\": 0, \"id\": 6883, \"job\": \"Music Editor\", \"name\": \"Dick Bernstein\"}, {\"credit_id\": \"54959706c3a3686af3003e81\", \"department\": \"Sound\", \"gender\": 0, \"id\": 8159, \"job\": \"Sound Effects Editor\", \"name\": \"Shannon Mills\"}, {\"credit_id\": \"54491d58c3a3680fb1001ccb\", \"department\": \"Sound\", \"gender\": 0, \"id\": 8160, \"job\": \"Foley\", \"name\": \"Dennie Thorpe\"}, {\"credit_id\": \"54491d6cc3a3680fa5001b2c\", \"department\": \"Sound\", \"gender\": 0, \"id\": 8163, \"job\": \"Foley\", \"name\": \"Jana Vance\"}, {\"credit_id\": \"52fe48009251416c750aca57\", \"department\": \"Costume & Make-Up\", \"gender\": 1, \"id\": 8527, \"job\": \"Costume Design\", \"name\": \"Deborah Lynn Scott\"}, {\"credit_id\": \"52fe48009251416c750aca2f\", \"department\": \"Production\", \"gender\": 2, \"id\": 8529, \"job\": \"Producer\", \"name\": \"Jon Landau\"}, {\"credit_id\": \"539c4937c3a36810ba002194\", \"department\": \"Art\", \"gender\": 0, \"id\": 9618, \"job\": \"Art Direction\", \"name\": \"Sean Haworth\"}, {\"credit_id\": \"539c49b6c3a36810c10020e6\", \"department\": \"Art\", \"gender\": 1, \"id\": 12653, \"job\": \"Set Decoration\", \"name\": \"Kim Sinclair\"}, {\"credit_id\": \"570b6f2f9251413a0e00020d\", \"department\": \"Art\", \"gender\": 1, \"id\": 12653, \"job\": \"Supervising Art Director\", \"name\": \"Kim Sinclair\"}, {\"credit_id\": \"54491a6c0e0a26748c001b19\", \"department\": \"Art\", \"gender\": 2, \"id\": 14350, \"job\": \"Set Designer\", \"name\": \"Richard F. Mays\"}, {\"credit_id\": \"56928cf4c3a3684cff0025c4\", \"department\": \"Production\", \"gender\": 1, \"id\": 20294, \"job\": \"Executive Producer\", \"name\": \"Laeta Kalogridis\"}, {\"credit_id\": \"52fe48009251416c750aca51\", \"department\": \"Costume & Make-Up\", \"gender\": 0, \"id\": 17675, \"job\": \"Costume Design\", \"name\": \"Mayes C. Rubeo\"}, {\"credit_id\": \"52fe48009251416c750aca11\", \"department\": \"Camera\", \"gender\": 2, \"id\": 18265, \"job\": \"Director of Photography\", \"name\": \"Mauro Fiore\"}, {\"credit_id\": \"5449194d0e0a26748f001b39\", \"department\": \"Art\", \"gender\": 0, \"id\": 42281, \"job\": \"Set Designer\", \"name\": \"Scott Herbertson\"}, {\"credit_id\": \"52fe48009251416c750aca05\", \"department\": \"Crew\", \"gender\": 0, \"id\": 42288, \"job\": \"Stunts\", \"name\": \"Woody Schultz\"}, {\"credit_id\": \"5592aefb92514152de0010f5\", \"department\": \"Costume & Make-Up\", \"gender\": 0, \"id\": 29067, \"job\": \"Makeup Artist\", \"name\": \"Linda DeVetta\"}, {\"credit_id\": \"5592afa492514152de00112c\", \"department\": \"Costume & Make-Up\", \"gender\": 0, \"id\": 29067, \"job\": \"Hairstylist\", \"name\": \"Linda DeVetta\"}, {\"credit_id\": \"54959ed592514130fc002e5d\", \"department\": \"Camera\", \"gender\": 2, \"id\": 33302, \"job\": \"Camera Operator\", \"name\": \"Richard Bluck\"}, {\"credit_id\": \"539c4891c3a36810ba002147\", \"department\": \"Art\", \"gender\": 2, \"id\": 33303, \"job\": \"Art Direction\", \"name\": \"Simon Bright\"}, {\"credit_id\": \"54959c069251417a81001f3a\", \"department\": \"Visual Effects\", \"gender\": 0, \"id\": 113145, \"job\": \"Visual Effects Supervisor\", \"name\": \"Richard Martin\"}, {\"credit_id\": \"54959a0dc3a3680ff5002c8d\", \"department\": \"Crew\", \"gender\": 2, \"id\": 58188, \"job\": \"Visual Effects Editor\", \"name\": \"Steve R. Moore\"}, {\"credit_id\": \"52fe48009251416c750aca1d\", \"department\": \"Editing\", \"gender\": 2, \"id\": 58871, \"job\": \"Editor\", \"name\": \"John Refoua\"}, {\"credit_id\": \"54491a4dc3a3680fc30018ca\", \"department\": \"Art\", \"gender\": 0, \"id\": 92359, \"job\": \"Set Designer\", \"name\": \"Karl J. Martin\"}, {\"credit_id\": \"52fe48009251416c750aca35\", \"department\": \"Camera\", \"gender\": 1, \"id\": 72201, \"job\": \"Director of Photography\", \"name\": \"Chiling Lin\"}, {\"credit_id\": \"52fe48009251416c750ac9ff\", \"department\": \"Crew\", \"gender\": 0, \"id\": 89714, \"job\": \"Stunts\", \"name\": \"Ilram Choi\"}, {\"credit_id\": \"54959c529251416e2b004394\", \"department\": \"Visual Effects\", \"gender\": 2, \"id\": 93214, \"job\": \"Visual Effects Supervisor\", \"name\": \"Steven Quale\"}, {\"credit_id\": \"54491edf0e0a267489001c37\", \"department\": \"Crew\", \"gender\": 1, \"id\": 122607, \"job\": \"Dialect Coach\", \"name\": \"Carla Meyer\"}, {\"credit_id\": \"539c485bc3a368653d001a3a\", \"department\": \"Art\", \"gender\": 2, \"id\": 132585, \"job\": \"Art Direction\", \"name\": \"Nick Bassett\"}, {\"credit_id\": \"539c4903c3a368653d001a74\", \"department\": \"Art\", \"gender\": 0, \"id\": 132596, \"job\": \"Art Direction\", \"name\": \"Jill Cormack\"}, {\"credit_id\": \"539c4967c3a368653d001a94\", \"department\": \"Art\", \"gender\": 0, \"id\": 132604, \"job\": \"Art Direction\", \"name\": \"Andy McLaren\"}, {\"credit_id\": \"52fe48009251416c750aca45\", \"department\": \"Crew\", \"gender\": 0, \"id\": 236696, \"job\": \"Motion Capture Artist\", \"name\": \"Terry Notary\"}, {\"credit_id\": \"54959e02c3a3680fc60027d2\", \"department\": \"Crew\", \"gender\": 2, \"id\": 956198, \"job\": \"Stunt Coordinator\", \"name\": \"Garrett Warren\"}, {\"credit_id\": \"54959ca3c3a3686ae300438c\", \"department\": \"Visual Effects\", \"gender\": 2, \"id\": 957874, \"job\": \"Visual Effects Supervisor\", \"name\": \"Jonathan Rothbart\"}, {\"credit_id\": \"570b6f519251412c74001b2f\", \"department\": \"Art\", \"gender\": 0, \"id\": 957889, \"job\": \"Supervising Art Director\", \"name\": \"Stefan Dechant\"}, {\"credit_id\": \"570b6f62c3a3680b77007460\", \"department\": \"Art\", \"gender\": 2, \"id\": 959555, \"job\": \"Supervising Art Director\", \"name\": \"Todd Cherniawsky\"}, {\"credit_id\": \"539c4a3ac3a36810da0021cc\", \"department\": \"Production\", \"gender\": 0, \"id\": 1016177, \"job\": \"Casting\", \"name\": \"Miranda Rivers\"}, {\"credit_id\": \"539c482cc3a36810c1002062\", \"department\": \"Art\", \"gender\": 0, \"id\": 1032536, \"job\": \"Production Design\", \"name\": \"Robert Stromberg\"}, {\"credit_id\": \"539c4b65c3a36810c9002125\", \"department\": \"Costume & Make-Up\", \"gender\": 2, \"id\": 1071680, \"job\": \"Costume Design\", \"name\": \"John Harding\"}, {\"credit_id\": \"54959e6692514130fc002e4e\", \"department\": \"Camera\", \"gender\": 0, \"id\": 1177364, \"job\": \"Steadicam Operator\", \"name\": \"Roberto De Angelis\"}, {\"credit_id\": \"539c49f1c3a368653d001aac\", \"department\": \"Costume & Make-Up\", \"gender\": 2, \"id\": 1202850, \"job\": \"Makeup Department Head\", \"name\": \"Mike Smithson\"}, {\"credit_id\": \"5495999ec3a3686ae100460c\", \"department\": \"Visual Effects\", \"gender\": 0, \"id\": 1204668, \"job\": \"Visual Effects Producer\", \"name\": \"Alain Lalanne\"}, {\"credit_id\": \"54959cdfc3a3681153002729\", \"department\": \"Visual Effects\", \"gender\": 0, \"id\": 1206410, \"job\": \"Visual Effects Supervisor\", \"name\": \"Lucas Salton\"}, {\"credit_id\": \"549596239251417a81001eae\", \"department\": \"Crew\", \"gender\": 0, \"id\": 1234266, \"job\": \"Post Production Supervisor\", \"name\": \"Janace Tashjian\"}, {\"credit_id\": \"54959c859251416e1e003efe\", \"department\": \"Visual Effects\", \"gender\": 0, \"id\": 1271932, \"job\": \"Visual Effects Supervisor\", \"name\": \"Stephen Rosenbaum\"}, {\"credit_id\": \"5592af28c3a368775a00105f\", \"department\": \"Costume & Make-Up\", \"gender\": 0, \"id\": 1310064, \"job\": \"Makeup Artist\", \"name\": \"Frankie Karena\"}, {\"credit_id\": \"539c4adfc3a36810e300203b\", \"department\": \"Costume & Make-Up\", \"gender\": 1, \"id\": 1319844, \"job\": \"Costume Supervisor\", \"name\": \"Lisa Lovaas\"}, {\"credit_id\": \"54959b579251416e2b004371\", \"department\": \"Visual Effects\", \"gender\": 0, \"id\": 1327028, \"job\": \"Visual Effects Supervisor\", \"name\": \"Jonathan Fawkner\"}, {\"credit_id\": \"539c48a7c3a36810b5001fa7\", \"department\": \"Art\", \"gender\": 0, \"id\": 1330561, \"job\": \"Art Direction\", \"name\": \"Robert Bavin\"}, {\"credit_id\": \"539c4a71c3a36810da0021e0\", \"department\": \"Costume & Make-Up\", \"gender\": 0, \"id\": 1330567, \"job\": \"Costume Supervisor\", \"name\": \"Anthony Almaraz\"}, {\"credit_id\": \"539c4a8ac3a36810ba0021e4\", \"department\": \"Costume & Make-Up\", \"gender\": 0, \"id\": 1330570, \"job\": \"Costume Supervisor\", \"name\": \"Carolyn M. Fenton\"}, {\"credit_id\": \"539c4ab6c3a36810da0021f0\", \"department\": \"Costume & Make-Up\", \"gender\": 0, \"id\": 1330574, \"job\": \"Costume Supervisor\", \"name\": \"Beth Koenigsberg\"}, {\"credit_id\": \"54491ab70e0a267480001ba2\", \"department\": \"Art\", \"gender\": 0, \"id\": 1336191, \"job\": \"Set Designer\", \"name\": \"Sam Page\"}, {\"credit_id\": \"544919d9c3a3680fc30018bd\", \"department\": \"Art\", \"gender\": 0, \"id\": 1339441, \"job\": \"Set Designer\", \"name\": \"Tex Kadonaga\"}, {\"credit_id\": \"54491cf50e0a267483001b0c\", \"department\": \"Editing\", \"gender\": 0, \"id\": 1352422, \"job\": \"Dialogue Editor\", \"name\": \"Kim Foscato\"}, {\"credit_id\": \"544919f40e0a26748c001b09\", \"department\": \"Art\", \"gender\": 0, \"id\": 1352962, \"job\": \"Set Designer\", \"name\": \"Tammy S. Lee\"}, {\"credit_id\": \"5495a115c3a3680ff5002d71\", \"department\": \"Crew\", \"gender\": 0, \"id\": 1357070, \"job\": \"Transportation Coordinator\", \"name\": \"Denny Caira\"}, {\"credit_id\": \"5495a12f92514130fc002e94\", \"department\": \"Crew\", \"gender\": 0, \"id\": 1357071, \"job\": \"Transportation Coordinator\", \"name\": \"James Waitkus\"}, {\"credit_id\": \"5495976fc3a36811530026b0\", \"department\": \"Sound\", \"gender\": 0, \"id\": 1360103, \"job\": \"Supervising Sound Editor\", \"name\": \"Addison Teague\"}, {\"credit_id\": \"54491837c3a3680fb1001c5a\", \"department\": \"Art\", \"gender\": 2, \"id\": 1376887, \"job\": \"Set Designer\", \"name\": \"C. Scott Baker\"}, {\"credit_id\": \"54491878c3a3680fb4001c9d\", \"department\": \"Art\", \"gender\": 0, \"id\": 1376888, \"job\": \"Set Designer\", \"name\": \"Luke Caska\"}, {\"credit_id\": \"544918dac3a3680fa5001ae0\", \"department\": \"Art\", \"gender\": 0, \"id\": 1376889, \"job\": \"Set Designer\", \"name\": \"David Chow\"}, {\"credit_id\": \"544919110e0a267486001b68\", \"department\": \"Art\", \"gender\": 0, \"id\": 1376890, \"job\": \"Set Designer\", \"name\": \"Jonathan Dyer\"}, {\"credit_id\": \"54491967c3a3680faa001b5e\", \"department\": \"Art\", \"gender\": 0, \"id\": 1376891, \"job\": \"Set Designer\", \"name\": \"Joseph Hiura\"}, {\"credit_id\": \"54491997c3a3680fb1001c8a\", \"department\": \"Art\", \"gender\": 0, \"id\": 1376892, \"job\": \"Art Department Coordinator\", \"name\": \"Rebecca Jellie\"}, {\"credit_id\": \"544919ba0e0a26748f001b42\", \"department\": \"Art\", \"gender\": 0, \"id\": 1376893, \"job\": \"Set Designer\", \"name\": \"Robert Andrew Johnson\"}, {\"credit_id\": \"54491b1dc3a3680faa001b8c\", \"department\": \"Art\", \"gender\": 0, \"id\": 1376895, \"job\": \"Assistant Art Director\", \"name\": \"Mike Stassi\"}, {\"credit_id\": \"54491b79c3a3680fbb001826\", \"department\": \"Art\", \"gender\": 0, \"id\": 1376897, \"job\": \"Construction Coordinator\", \"name\": \"John Villarino\"}, {\"credit_id\": \"54491baec3a3680fb4001ce6\", \"department\": \"Art\", \"gender\": 2, \"id\": 1376898, \"job\": \"Assistant Art Director\", \"name\": \"Jeffrey Wisniewski\"}, {\"credit_id\": \"54491d2fc3a3680fb4001d07\", \"department\": \"Editing\", \"gender\": 0, \"id\": 1376899, \"job\": \"Dialogue Editor\", \"name\": \"Cheryl Nardi\"}, {\"credit_id\": \"54491d86c3a3680fa5001b2f\", \"department\": \"Editing\", \"gender\": 0, \"id\": 1376901, \"job\": \"Dialogue Editor\", \"name\": \"Marshall Winn\"}, {\"credit_id\": \"54491d9dc3a3680faa001bb0\", \"department\": \"Sound\", \"gender\": 0, \"id\": 1376902, \"job\": \"Supervising Sound Editor\", \"name\": \"Gwendolyn Yates Whittle\"}, {\"credit_id\": \"54491dc10e0a267486001bce\", \"department\": \"Sound\", \"gender\": 0, \"id\": 1376903, \"job\": \"Sound Re-Recording Mixer\", \"name\": \"William Stein\"}, {\"credit_id\": \"54491f500e0a26747c001c07\", \"department\": \"Crew\", \"gender\": 0, \"id\": 1376909, \"job\": \"Choreographer\", \"name\": \"Lula Washington\"}, {\"credit_id\": \"549599239251412c4e002a2e\", \"department\": \"Visual Effects\", \"gender\": 0, \"id\": 1391692, \"job\": \"Visual Effects Producer\", \"name\": \"Chris Del Conte\"}, {\"credit_id\": \"54959d54c3a36831b8001d9a\", \"department\": \"Visual Effects\", \"gender\": 2, \"id\": 1391695, \"job\": \"Visual Effects Supervisor\", \"name\": \"R. Christopher White\"}, {\"credit_id\": \"54959bdf9251412c4e002a66\", \"department\": \"Visual Effects\", \"gender\": 0, \"id\": 1394070, \"job\": \"Visual Effects Supervisor\", \"name\": \"Dan Lemmon\"}, {\"credit_id\": \"5495971d92514132ed002922\", \"department\": \"Sound\", \"gender\": 0, \"id\": 1394129, \"job\": \"Sound Effects Editor\", \"name\": \"Tim Nielsen\"}, {\"credit_id\": \"5592b25792514152cc0011aa\", \"department\": \"Crew\", \"gender\": 0, \"id\": 1394286, \"job\": \"CG Supervisor\", \"name\": \"Michael Mulholland\"}, {\"credit_id\": \"54959a329251416e2b004355\", \"department\": \"Crew\", \"gender\": 0, \"id\": 1394750, \"job\": \"Visual Effects Editor\", \"name\": \"Thomas Nittmann\"}, {\"credit_id\": \"54959d6dc3a3686ae9004401\", \"department\": \"Visual Effects\", \"gender\": 0, \"id\": 1394755, \"job\": \"Visual Effects Supervisor\", \"name\": \"Edson Williams\"}, {\"credit_id\": \"5495a08fc3a3686ae300441c\", \"department\": \"Editing\", \"gender\": 0, \"id\": 1394953, \"job\": \"Digital Intermediate\", \"name\": \"Christine Carr\"}, {\"credit_id\": \"55402d659251413d6d000249\", \"department\": \"Visual Effects\", \"gender\": 0, \"id\": 1395269, \"job\": \"Visual Effects Supervisor\", \"name\": \"John Bruno\"}, {\"credit_id\": \"54959e7b9251416e1e003f3e\", \"department\": \"Camera\", \"gender\": 0, \"id\": 1398970, \"job\": \"Steadicam Operator\", \"name\": \"David Emmerichs\"}, {\"credit_id\": \"54959734c3a3686ae10045e0\", \"department\": \"Sound\", \"gender\": 0, \"id\": 1400906, \"job\": \"Sound Effects Editor\", \"name\": \"Christopher Scarabosio\"}, {\"credit_id\": \"549595dd92514130fc002d79\", \"department\": \"Production\", \"gender\": 0, \"id\": 1401784, \"job\": \"Production Supervisor\", \"name\": \"Jennifer Teves\"}, {\"credit_id\": \"549596009251413af70028cc\", \"department\": \"Production\", \"gender\": 0, \"id\": 1401785, \"job\": \"Production Manager\", \"name\": \"Brigitte Yorke\"}, {\"credit_id\": \"549596e892514130fc002d99\", \"department\": \"Sound\", \"gender\": 0, \"id\": 1401786, \"job\": \"Sound Effects Editor\", \"name\": \"Ken Fischer\"}, {\"credit_id\": \"549598229251412c4e002a1c\", \"department\": \"Crew\", \"gender\": 0, \"id\": 1401787, \"job\": \"Special Effects Coordinator\", \"name\": \"Iain Hutton\"}, {\"credit_id\": \"549598349251416e2b00432b\", \"department\": \"Crew\", \"gender\": 0, \"id\": 1401788, \"job\": \"Special Effects Coordinator\", \"name\": \"Steve Ingram\"}, {\"credit_id\": \"54959905c3a3686ae3004324\", \"department\": \"Visual Effects\", \"gender\": 0, \"id\": 1401789, \"job\": \"Visual Effects Producer\", \"name\": \"Joyce Cox\"}, {\"credit_id\": \"5495994b92514132ed002951\", \"department\": \"Visual Effects\", \"gender\": 0, \"id\": 1401790, \"job\": \"Visual Effects Producer\", \"name\": \"Jenny Foster\"}, {\"credit_id\": \"549599cbc3a3686ae1004613\", \"department\": \"Crew\", \"gender\": 0, \"id\": 1401791, \"job\": \"Visual Effects Editor\", \"name\": \"Christopher Marino\"}, {\"credit_id\": \"549599f2c3a3686ae100461e\", \"department\": \"Crew\", \"gender\": 0, \"id\": 1401792, \"job\": \"Visual Effects Editor\", \"name\": \"Jim Milton\"}, {\"credit_id\": \"54959a51c3a3686af3003eb5\", \"department\": \"Visual Effects\", \"gender\": 0, \"id\": 1401793, \"job\": \"Visual Effects Producer\", \"name\": \"Cyndi Ochs\"}, {\"credit_id\": \"54959a7cc3a36811530026f4\", \"department\": \"Crew\", \"gender\": 0, \"id\": 1401794, \"job\": \"Visual Effects Editor\", \"name\": \"Lucas Putnam\"}, {\"credit_id\": \"54959b91c3a3680ff5002cb4\", \"department\": \"Visual Effects\", \"gender\": 0, \"id\": 1401795, \"job\": \"Visual Effects Supervisor\", \"name\": \"Anthony \\'Max\\' Ivins\"}, {\"credit_id\": \"54959bb69251412c4e002a5f\", \"department\": \"Visual Effects\", \"gender\": 0, \"id\": 1401796, \"job\": \"Visual Effects Supervisor\", \"name\": \"John Knoll\"}, {\"credit_id\": \"54959cbbc3a3686ae3004391\", \"department\": \"Visual Effects\", \"gender\": 2, \"id\": 1401799, \"job\": \"Visual Effects Supervisor\", \"name\": \"Eric Saindon\"}, {\"credit_id\": \"54959d06c3a3686ae90043f6\", \"department\": \"Visual Effects\", \"gender\": 0, \"id\": 1401800, \"job\": \"Visual Effects Supervisor\", \"name\": \"Wayne Stables\"}, {\"credit_id\": \"54959d259251416e1e003f11\", \"department\": \"Visual Effects\", \"gender\": 0, \"id\": 1401801, \"job\": \"Visual Effects Supervisor\", \"name\": \"David Stinnett\"}, {\"credit_id\": \"54959db49251413af7002975\", \"department\": \"Visual Effects\", \"gender\": 0, \"id\": 1401803, \"job\": \"Visual Effects Supervisor\", \"name\": \"Guy Williams\"}, {\"credit_id\": \"54959de4c3a3681153002750\", \"department\": \"Crew\", \"gender\": 0, \"id\": 1401804, \"job\": \"Stunt Coordinator\", \"name\": \"Stuart Thorp\"}, {\"credit_id\": \"54959ef2c3a3680fc60027f2\", \"department\": \"Lighting\", \"gender\": 0, \"id\": 1401805, \"job\": \"Best Boy Electric\", \"name\": \"Giles Coburn\"}, {\"credit_id\": \"54959f07c3a3680fc60027f9\", \"department\": \"Camera\", \"gender\": 2, \"id\": 1401806, \"job\": \"Still Photographer\", \"name\": \"Mark Fellman\"}, {\"credit_id\": \"54959f47c3a3681153002774\", \"department\": \"Lighting\", \"gender\": 0, \"id\": 1401807, \"job\": \"Lighting Technician\", \"name\": \"Scott Sprague\"}, {\"credit_id\": \"54959f8cc3a36831b8001df2\", \"department\": \"Visual Effects\", \"gender\": 0, \"id\": 1401808, \"job\": \"Animation Director\", \"name\": \"Jeremy Hollobon\"}, {\"credit_id\": \"54959fa0c3a36831b8001dfb\", \"department\": \"Visual Effects\", \"gender\": 0, \"id\": 1401809, \"job\": \"Animation Director\", \"name\": \"Orlando Meunier\"}, {\"credit_id\": \"54959fb6c3a3686af3003f54\", \"department\": \"Visual Effects\", \"gender\": 0, \"id\": 1401810, \"job\": \"Animation Director\", \"name\": \"Taisuke Tanimura\"}, {\"credit_id\": \"54959fd2c3a36831b8001e02\", \"department\": \"Costume & Make-Up\", \"gender\": 0, \"id\": 1401812, \"job\": \"Set Costumer\", \"name\": \"Lilia Mishel Acevedo\"}, {\"credit_id\": \"54959ff9c3a3686ae300440c\", \"department\": \"Costume & Make-Up\", \"gender\": 0, \"id\": 1401814, \"job\": \"Set Costumer\", \"name\": \"Alejandro M. Hernandez\"}, {\"credit_id\": \"5495a0ddc3a3686ae10046fe\", \"department\": \"Editing\", \"gender\": 0, \"id\": 1401815, \"job\": \"Digital Intermediate\", \"name\": \"Marvin Hall\"}, {\"credit_id\": \"5495a1f7c3a3686ae3004443\", \"department\": \"Production\", \"gender\": 0, \"id\": 1401816, \"job\": \"Publicist\", \"name\": \"Judy Alley\"}, {\"credit_id\": \"5592b29fc3a36869d100002f\", \"department\": \"Crew\", \"gender\": 0, \"id\": 1418381, \"job\": \"CG Supervisor\", \"name\": \"Mike Perry\"}, {\"credit_id\": \"5592b23a9251415df8001081\", \"department\": \"Crew\", \"gender\": 0, \"id\": 1426854, \"job\": \"CG Supervisor\", \"name\": \"Andrew Morley\"}, {\"credit_id\": \"55491e1192514104c40002d8\", \"department\": \"Art\", \"gender\": 0, \"id\": 1438901, \"job\": \"Conceptual Design\", \"name\": \"Seth Engstrom\"}, {\"credit_id\": \"5525d5809251417276002b06\", \"department\": \"Crew\", \"gender\": 0, \"id\": 1447362, \"job\": \"Visual Effects Art Director\", \"name\": \"Eric Oliver\"}, {\"credit_id\": \"554427ca925141586500312a\", \"department\": \"Visual Effects\", \"gender\": 0, \"id\": 1447503, \"job\": \"Modeling\", \"name\": \"Matsune Suzuki\"}, {\"credit_id\": \"551906889251415aab001c88\", \"department\": \"Art\", \"gender\": 0, \"id\": 1447524, \"job\": \"Art Department Manager\", \"name\": \"Paul Tobin\"}, {\"credit_id\": \"5592af8492514152cc0010de\", \"department\": \"Costume & Make-Up\", \"gender\": 0, \"id\": 1452643, \"job\": \"Hairstylist\", \"name\": \"Roxane Griffin\"}, {\"credit_id\": \"553d3c109251415852001318\", \"department\": \"Lighting\", \"gender\": 0, \"id\": 1453938, \"job\": \"Lighting Artist\", \"name\": \"Arun Ram-Mohan\"}, {\"credit_id\": \"5592af4692514152d5001355\", \"department\": \"Costume & Make-Up\", \"gender\": 0, \"id\": 1457305, \"job\": \"Makeup Artist\", \"name\": \"Georgia Lockhart-Adams\"}, {\"credit_id\": \"5592b2eac3a36877470012a5\", \"department\": \"Crew\", \"gender\": 0, \"id\": 1466035, \"job\": \"CG Supervisor\", \"name\": \"Thrain Shadbolt\"}, {\"credit_id\": \"5592b032c3a36877450015f1\", \"department\": \"Crew\", \"gender\": 0, \"id\": 1483220, \"job\": \"CG Supervisor\", \"name\": \"Brad Alexander\"}, {\"credit_id\": \"5592b05592514152d80012f6\", \"department\": \"Crew\", \"gender\": 0, \"id\": 1483221, \"job\": \"CG Supervisor\", \"name\": \"Shadi Almassizadeh\"}, {\"credit_id\": \"5592b090c3a36877570010b5\", \"department\": \"Crew\", \"gender\": 0, \"id\": 1483222, \"job\": \"CG Supervisor\", \"name\": \"Simon Clutterbuck\"}, {\"credit_id\": \"5592b0dbc3a368774b00112c\", \"department\": \"Crew\", \"gender\": 0, \"id\": 1483223, \"job\": \"CG Supervisor\", \"name\": \"Graeme Demmocks\"}, {\"credit_id\": \"5592b0fe92514152db0010c1\", \"department\": \"Crew\", \"gender\": 0, \"id\": 1483224, \"job\": \"CG Supervisor\", \"name\": \"Adrian Fernandes\"}, {\"credit_id\": \"5592b11f9251415df8001059\", \"department\": \"Crew\", \"gender\": 0, \"id\": 1483225, \"job\": \"CG Supervisor\", \"name\": \"Mitch Gates\"}, {\"credit_id\": \"5592b15dc3a3687745001645\", \"department\": \"Crew\", \"gender\": 0, \"id\": 1483226, \"job\": \"CG Supervisor\", \"name\": \"Jerry Kung\"}, {\"credit_id\": \"5592b18e925141645a0004ae\", \"department\": \"Crew\", \"gender\": 0, \"id\": 1483227, \"job\": \"CG Supervisor\", \"name\": \"Andy Lomas\"}, {\"credit_id\": \"5592b1bfc3a368775d0010e7\", \"department\": \"Crew\", \"gender\": 0, \"id\": 1483228, \"job\": \"CG Supervisor\", \"name\": \"Sebastian Marino\"}, {\"credit_id\": \"5592b2049251415df8001078\", \"department\": \"Crew\", \"gender\": 0, \"id\": 1483229, \"job\": \"CG Supervisor\", \"name\": \"Matthias Menz\"}, {\"credit_id\": \"5592b27b92514152d800136a\", \"department\": \"Crew\", \"gender\": 0, \"id\": 1483230, \"job\": \"CG Supervisor\", \"name\": \"Sergei Nevshupov\"}, {\"credit_id\": \"5592b2c3c3a36869e800003c\", \"department\": \"Crew\", \"gender\": 0, \"id\": 1483231, \"job\": \"CG Supervisor\", \"name\": \"Philippe Rebours\"}, {\"credit_id\": \"5592b317c3a36877470012af\", \"department\": \"Crew\", \"gender\": 0, \"id\": 1483232, \"job\": \"CG Supervisor\", \"name\": \"Michael Takarangi\"}, {\"credit_id\": \"5592b345c3a36877470012bb\", \"department\": \"Crew\", \"gender\": 0, \"id\": 1483233, \"job\": \"CG Supervisor\", \"name\": \"David Weitzberg\"}, {\"credit_id\": \"5592b37cc3a368775100113b\", \"department\": \"Crew\", \"gender\": 0, \"id\": 1483234, \"job\": \"CG Supervisor\", \"name\": \"Ben White\"}, {\"credit_id\": \"573c8e2f9251413f5d000094\", \"department\": \"Crew\", \"gender\": 1, \"id\": 1621932, \"job\": \"Stunts\", \"name\": \"Min Windle\"}]'"
      ]
     },
     "execution_count": 36,
     "metadata": {},
     "output_type": "execute_result"
    }
   ],
   "source": [
    "movies.iloc[0].crew"
   ]
  },
  {
   "cell_type": "code",
   "execution_count": 37,
   "id": "ca79be47-fe9d-4c58-a875-5828debb09cf",
   "metadata": {
    "tags": []
   },
   "outputs": [],
   "source": [
    "def convertCrew(obj):\n",
    "    L = []\n",
    "    counter = 0\n",
    "    for i in ast.literal_eval(obj): # to convert string to a list\n",
    "        # for each i we will get a dictionary, and from that dictionary, we will access the name and append it to a list\n",
    "        if(i['job']=='Director'):\n",
    "            L.append(i['name'])\n",
    "            break\n",
    "    return L "
   ]
  },
  {
   "cell_type": "code",
   "execution_count": 38,
   "id": "63031dc9-f0f3-4205-aa3a-a03029c91450",
   "metadata": {
    "tags": []
   },
   "outputs": [
    {
     "data": {
      "text/plain": [
       "0           [James Cameron]\n",
       "1          [Gore Verbinski]\n",
       "2              [Sam Mendes]\n",
       "3       [Christopher Nolan]\n",
       "4          [Andrew Stanton]\n",
       "               ...         \n",
       "4804     [Robert Rodriguez]\n",
       "4805         [Edward Burns]\n",
       "4806          [Scott Smith]\n",
       "4807          [Daniel Hsia]\n",
       "4808     [Brian Herzlinger]\n",
       "Name: crew, Length: 4806, dtype: object"
      ]
     },
     "execution_count": 38,
     "metadata": {},
     "output_type": "execute_result"
    }
   ],
   "source": [
    "movies['crew'].apply(convertCrew)"
   ]
  },
  {
   "cell_type": "code",
   "execution_count": 39,
   "id": "8a6c0568-e0c8-4d02-94d2-2023e7352c36",
   "metadata": {
    "tags": []
   },
   "outputs": [],
   "source": [
    "movies['crew'] = movies['crew'].apply(convertCrew)"
   ]
  },
  {
   "cell_type": "code",
   "execution_count": 40,
   "id": "42c49f29-73be-4869-ae10-15e430346497",
   "metadata": {},
   "outputs": [
    {
     "data": {
      "text/html": [
       "<div>\n",
       "<style scoped>\n",
       "    .dataframe tbody tr th:only-of-type {\n",
       "        vertical-align: middle;\n",
       "    }\n",
       "\n",
       "    .dataframe tbody tr th {\n",
       "        vertical-align: top;\n",
       "    }\n",
       "\n",
       "    .dataframe thead th {\n",
       "        text-align: right;\n",
       "    }\n",
       "</style>\n",
       "<table border=\"1\" class=\"dataframe\">\n",
       "  <thead>\n",
       "    <tr style=\"text-align: right;\">\n",
       "      <th></th>\n",
       "      <th>movie_id</th>\n",
       "      <th>title</th>\n",
       "      <th>overview</th>\n",
       "      <th>genres</th>\n",
       "      <th>keywords</th>\n",
       "      <th>cast</th>\n",
       "      <th>crew</th>\n",
       "    </tr>\n",
       "  </thead>\n",
       "  <tbody>\n",
       "    <tr>\n",
       "      <th>0</th>\n",
       "      <td>19995</td>\n",
       "      <td>Avatar</td>\n",
       "      <td>In the 22nd century, a paraplegic Marine is di...</td>\n",
       "      <td>[Action, Adventure, Fantasy, Science Fiction]</td>\n",
       "      <td>[culture clash, future, space war, space colon...</td>\n",
       "      <td>[Sam Worthington, Zoe Saldana, Sigourney Weaver]</td>\n",
       "      <td>[James Cameron]</td>\n",
       "    </tr>\n",
       "  </tbody>\n",
       "</table>\n",
       "</div>"
      ],
      "text/plain": [
       "   movie_id   title                                           overview   \n",
       "0     19995  Avatar  In the 22nd century, a paraplegic Marine is di...  \\\n",
       "\n",
       "                                          genres   \n",
       "0  [Action, Adventure, Fantasy, Science Fiction]  \\\n",
       "\n",
       "                                            keywords   \n",
       "0  [culture clash, future, space war, space colon...  \\\n",
       "\n",
       "                                               cast             crew  \n",
       "0  [Sam Worthington, Zoe Saldana, Sigourney Weaver]  [James Cameron]  "
      ]
     },
     "execution_count": 40,
     "metadata": {},
     "output_type": "execute_result"
    }
   ],
   "source": [
    "movies.head(1)"
   ]
  },
  {
   "cell_type": "markdown",
   "id": "12bc6d1e-c1ea-44fd-bf9b-92f8007cd618",
   "metadata": {},
   "source": [
    "## Converting overview from string to list\n",
    "The overview column is in the form of strings. So we will convert it to lists so that we can concatenate it with the other lists that we have made while creating tags"
   ]
  },
  {
   "cell_type": "code",
   "execution_count": 41,
   "id": "90879da5-987b-4d97-90d1-04268cf54d4e",
   "metadata": {
    "tags": []
   },
   "outputs": [
    {
     "data": {
      "text/plain": [
       "0       [In, the, 22nd, century,, a, paraplegic, Marin...\n",
       "1       [Captain, Barbossa,, long, believed, to, be, d...\n",
       "2       [A, cryptic, message, from, Bond’s, past, send...\n",
       "3       [Following, the, death, of, District, Attorney...\n",
       "4       [John, Carter, is, a, war-weary,, former, mili...\n",
       "                              ...                        \n",
       "4804    [El, Mariachi, just, wants, to, play, his, gui...\n",
       "4805    [A, newlywed, couple's, honeymoon, is, upended...\n",
       "4806    [\"Signed,, Sealed,, Delivered\", introduces, a,...\n",
       "4807    [When, ambitious, New, York, attorney, Sam, is...\n",
       "4808    [Ever, since, the, second, grade, when, he, fi...\n",
       "Name: overview, Length: 4806, dtype: object"
      ]
     },
     "execution_count": 41,
     "metadata": {},
     "output_type": "execute_result"
    }
   ],
   "source": [
    "movies['overview'].apply(lambda x : x.split())"
   ]
  },
  {
   "cell_type": "code",
   "execution_count": 42,
   "id": "8035bb10-15ed-42ef-8ee1-c9fb3c120661",
   "metadata": {
    "tags": []
   },
   "outputs": [],
   "source": [
    "movies['overview']= movies['overview'].apply(lambda x : x.split())"
   ]
  },
  {
   "cell_type": "code",
   "execution_count": 43,
   "id": "9298123f-bfa4-4288-81fa-c5a28c31a75f",
   "metadata": {
    "tags": []
   },
   "outputs": [
    {
     "data": {
      "text/html": [
       "<div>\n",
       "<style scoped>\n",
       "    .dataframe tbody tr th:only-of-type {\n",
       "        vertical-align: middle;\n",
       "    }\n",
       "\n",
       "    .dataframe tbody tr th {\n",
       "        vertical-align: top;\n",
       "    }\n",
       "\n",
       "    .dataframe thead th {\n",
       "        text-align: right;\n",
       "    }\n",
       "</style>\n",
       "<table border=\"1\" class=\"dataframe\">\n",
       "  <thead>\n",
       "    <tr style=\"text-align: right;\">\n",
       "      <th></th>\n",
       "      <th>movie_id</th>\n",
       "      <th>title</th>\n",
       "      <th>overview</th>\n",
       "      <th>genres</th>\n",
       "      <th>keywords</th>\n",
       "      <th>cast</th>\n",
       "      <th>crew</th>\n",
       "    </tr>\n",
       "  </thead>\n",
       "  <tbody>\n",
       "    <tr>\n",
       "      <th>0</th>\n",
       "      <td>19995</td>\n",
       "      <td>Avatar</td>\n",
       "      <td>[In, the, 22nd, century,, a, paraplegic, Marin...</td>\n",
       "      <td>[Action, Adventure, Fantasy, Science Fiction]</td>\n",
       "      <td>[culture clash, future, space war, space colon...</td>\n",
       "      <td>[Sam Worthington, Zoe Saldana, Sigourney Weaver]</td>\n",
       "      <td>[James Cameron]</td>\n",
       "    </tr>\n",
       "  </tbody>\n",
       "</table>\n",
       "</div>"
      ],
      "text/plain": [
       "   movie_id   title                                           overview   \n",
       "0     19995  Avatar  [In, the, 22nd, century,, a, paraplegic, Marin...  \\\n",
       "\n",
       "                                          genres   \n",
       "0  [Action, Adventure, Fantasy, Science Fiction]  \\\n",
       "\n",
       "                                            keywords   \n",
       "0  [culture clash, future, space war, space colon...  \\\n",
       "\n",
       "                                               cast             crew  \n",
       "0  [Sam Worthington, Zoe Saldana, Sigourney Weaver]  [James Cameron]  "
      ]
     },
     "execution_count": 43,
     "metadata": {},
     "output_type": "execute_result"
    }
   ],
   "source": [
    "movies.head(1)"
   ]
  },
  {
   "cell_type": "markdown",
   "id": "2ce8929d-1a2f-424d-8e5d-3f62e58b514b",
   "metadata": {},
   "source": [
    "## A Prolbem !! \n",
    "All the data that is present in the list is sepereated by spaces, this might create a problem\n",
    "\n",
    "Suppose we have 2 Actors Sam Worthington and Sam Mendes\n",
    "Now we want Sam Worthington, but our model might get confused as in which Sam do we want \n",
    "\n",
    "That is why it is important that we remove the blank spaces between name"
   ]
  },
  {
   "cell_type": "code",
   "execution_count": 44,
   "id": "04ac8130-890d-4718-8a4b-1c236b40a668",
   "metadata": {
    "tags": []
   },
   "outputs": [
    {
     "data": {
      "text/plain": [
       "0       [Action, Adventure, Fantasy, ScienceFiction]\n",
       "1                       [Adventure, Fantasy, Action]\n",
       "2                         [Action, Adventure, Crime]\n",
       "3                   [Action, Crime, Drama, Thriller]\n",
       "4                [Action, Adventure, ScienceFiction]\n",
       "                            ...                     \n",
       "4804                       [Action, Crime, Thriller]\n",
       "4805                               [Comedy, Romance]\n",
       "4806               [Comedy, Drama, Romance, TVMovie]\n",
       "4807                                              []\n",
       "4808                                   [Documentary]\n",
       "Name: genres, Length: 4806, dtype: object"
      ]
     },
     "execution_count": 44,
     "metadata": {},
     "output_type": "execute_result"
    }
   ],
   "source": [
    "# we will use list comprehension\n",
    "movies['genres'].apply(lambda x : [i.replace(\" \",\"\") for i in x])\n",
    "# we will do this same thing for all columns"
   ]
  },
  {
   "cell_type": "code",
   "execution_count": 45,
   "id": "e294c86c-e931-4191-9543-18fcec4a5ec5",
   "metadata": {
    "tags": []
   },
   "outputs": [],
   "source": [
    "movies['genres'] = movies['genres'].apply(lambda x : [i.replace(\" \",\"\") for i in x])\n",
    "movies['keywords'] = movies['keywords'].apply(lambda x : [i.replace(\" \",\"\") for i in x])\n",
    "movies['cast'] = movies['cast'].apply(lambda x : [i.replace(\" \",\"\") for i in x])\n",
    "movies['crew'] = movies['crew'].apply(lambda x : [i.replace(\" \",\"\") for i in x])\n"
   ]
  },
  {
   "cell_type": "code",
   "execution_count": 46,
   "id": "7c1f44ef-3538-41b0-95cf-bf42f6a6aa2a",
   "metadata": {
    "tags": []
   },
   "outputs": [
    {
     "data": {
      "text/html": [
       "<div>\n",
       "<style scoped>\n",
       "    .dataframe tbody tr th:only-of-type {\n",
       "        vertical-align: middle;\n",
       "    }\n",
       "\n",
       "    .dataframe tbody tr th {\n",
       "        vertical-align: top;\n",
       "    }\n",
       "\n",
       "    .dataframe thead th {\n",
       "        text-align: right;\n",
       "    }\n",
       "</style>\n",
       "<table border=\"1\" class=\"dataframe\">\n",
       "  <thead>\n",
       "    <tr style=\"text-align: right;\">\n",
       "      <th></th>\n",
       "      <th>movie_id</th>\n",
       "      <th>title</th>\n",
       "      <th>overview</th>\n",
       "      <th>genres</th>\n",
       "      <th>keywords</th>\n",
       "      <th>cast</th>\n",
       "      <th>crew</th>\n",
       "    </tr>\n",
       "  </thead>\n",
       "  <tbody>\n",
       "    <tr>\n",
       "      <th>0</th>\n",
       "      <td>19995</td>\n",
       "      <td>Avatar</td>\n",
       "      <td>[In, the, 22nd, century,, a, paraplegic, Marin...</td>\n",
       "      <td>[Action, Adventure, Fantasy, ScienceFiction]</td>\n",
       "      <td>[cultureclash, future, spacewar, spacecolony, ...</td>\n",
       "      <td>[SamWorthington, ZoeSaldana, SigourneyWeaver]</td>\n",
       "      <td>[JamesCameron]</td>\n",
       "    </tr>\n",
       "    <tr>\n",
       "      <th>1</th>\n",
       "      <td>285</td>\n",
       "      <td>Pirates of the Caribbean: At World's End</td>\n",
       "      <td>[Captain, Barbossa,, long, believed, to, be, d...</td>\n",
       "      <td>[Adventure, Fantasy, Action]</td>\n",
       "      <td>[ocean, drugabuse, exoticisland, eastindiatrad...</td>\n",
       "      <td>[JohnnyDepp, OrlandoBloom, KeiraKnightley]</td>\n",
       "      <td>[GoreVerbinski]</td>\n",
       "    </tr>\n",
       "    <tr>\n",
       "      <th>2</th>\n",
       "      <td>206647</td>\n",
       "      <td>Spectre</td>\n",
       "      <td>[A, cryptic, message, from, Bond’s, past, send...</td>\n",
       "      <td>[Action, Adventure, Crime]</td>\n",
       "      <td>[spy, basedonnovel, secretagent, sequel, mi6, ...</td>\n",
       "      <td>[DanielCraig, ChristophWaltz, LéaSeydoux]</td>\n",
       "      <td>[SamMendes]</td>\n",
       "    </tr>\n",
       "    <tr>\n",
       "      <th>3</th>\n",
       "      <td>49026</td>\n",
       "      <td>The Dark Knight Rises</td>\n",
       "      <td>[Following, the, death, of, District, Attorney...</td>\n",
       "      <td>[Action, Crime, Drama, Thriller]</td>\n",
       "      <td>[dccomics, crimefighter, terrorist, secretiden...</td>\n",
       "      <td>[ChristianBale, MichaelCaine, GaryOldman]</td>\n",
       "      <td>[ChristopherNolan]</td>\n",
       "    </tr>\n",
       "    <tr>\n",
       "      <th>4</th>\n",
       "      <td>49529</td>\n",
       "      <td>John Carter</td>\n",
       "      <td>[John, Carter, is, a, war-weary,, former, mili...</td>\n",
       "      <td>[Action, Adventure, ScienceFiction]</td>\n",
       "      <td>[basedonnovel, mars, medallion, spacetravel, p...</td>\n",
       "      <td>[TaylorKitsch, LynnCollins, SamanthaMorton]</td>\n",
       "      <td>[AndrewStanton]</td>\n",
       "    </tr>\n",
       "  </tbody>\n",
       "</table>\n",
       "</div>"
      ],
      "text/plain": [
       "   movie_id                                     title   \n",
       "0     19995                                    Avatar  \\\n",
       "1       285  Pirates of the Caribbean: At World's End   \n",
       "2    206647                                   Spectre   \n",
       "3     49026                     The Dark Knight Rises   \n",
       "4     49529                               John Carter   \n",
       "\n",
       "                                            overview   \n",
       "0  [In, the, 22nd, century,, a, paraplegic, Marin...  \\\n",
       "1  [Captain, Barbossa,, long, believed, to, be, d...   \n",
       "2  [A, cryptic, message, from, Bond’s, past, send...   \n",
       "3  [Following, the, death, of, District, Attorney...   \n",
       "4  [John, Carter, is, a, war-weary,, former, mili...   \n",
       "\n",
       "                                         genres   \n",
       "0  [Action, Adventure, Fantasy, ScienceFiction]  \\\n",
       "1                  [Adventure, Fantasy, Action]   \n",
       "2                    [Action, Adventure, Crime]   \n",
       "3              [Action, Crime, Drama, Thriller]   \n",
       "4           [Action, Adventure, ScienceFiction]   \n",
       "\n",
       "                                            keywords   \n",
       "0  [cultureclash, future, spacewar, spacecolony, ...  \\\n",
       "1  [ocean, drugabuse, exoticisland, eastindiatrad...   \n",
       "2  [spy, basedonnovel, secretagent, sequel, mi6, ...   \n",
       "3  [dccomics, crimefighter, terrorist, secretiden...   \n",
       "4  [basedonnovel, mars, medallion, spacetravel, p...   \n",
       "\n",
       "                                            cast                crew  \n",
       "0  [SamWorthington, ZoeSaldana, SigourneyWeaver]      [JamesCameron]  \n",
       "1     [JohnnyDepp, OrlandoBloom, KeiraKnightley]     [GoreVerbinski]  \n",
       "2      [DanielCraig, ChristophWaltz, LéaSeydoux]         [SamMendes]  \n",
       "3      [ChristianBale, MichaelCaine, GaryOldman]  [ChristopherNolan]  \n",
       "4    [TaylorKitsch, LynnCollins, SamanthaMorton]     [AndrewStanton]  "
      ]
     },
     "execution_count": 46,
     "metadata": {},
     "output_type": "execute_result"
    }
   ],
   "source": [
    "movies.head(5)"
   ]
  },
  {
   "cell_type": "markdown",
   "id": "9f1e32c4-97ac-461f-b47d-1515fd784b05",
   "metadata": {},
   "source": [
    "## Creating a new column named tags\n"
   ]
  },
  {
   "cell_type": "code",
   "execution_count": 47,
   "id": "a5f75e3f-5f7d-472c-992b-09fb680f1891",
   "metadata": {
    "tags": []
   },
   "outputs": [],
   "source": [
    "movies['tags'] = movies['overview'] + movies['keywords'] + movies['cast'] + movies['crew']"
   ]
  },
  {
   "cell_type": "code",
   "execution_count": 48,
   "id": "b2678b81-08c8-485f-b16f-81239756ca87",
   "metadata": {
    "tags": []
   },
   "outputs": [
    {
     "data": {
      "text/html": [
       "<div>\n",
       "<style scoped>\n",
       "    .dataframe tbody tr th:only-of-type {\n",
       "        vertical-align: middle;\n",
       "    }\n",
       "\n",
       "    .dataframe tbody tr th {\n",
       "        vertical-align: top;\n",
       "    }\n",
       "\n",
       "    .dataframe thead th {\n",
       "        text-align: right;\n",
       "    }\n",
       "</style>\n",
       "<table border=\"1\" class=\"dataframe\">\n",
       "  <thead>\n",
       "    <tr style=\"text-align: right;\">\n",
       "      <th></th>\n",
       "      <th>movie_id</th>\n",
       "      <th>title</th>\n",
       "      <th>overview</th>\n",
       "      <th>genres</th>\n",
       "      <th>keywords</th>\n",
       "      <th>cast</th>\n",
       "      <th>crew</th>\n",
       "      <th>tags</th>\n",
       "    </tr>\n",
       "  </thead>\n",
       "  <tbody>\n",
       "    <tr>\n",
       "      <th>0</th>\n",
       "      <td>19995</td>\n",
       "      <td>Avatar</td>\n",
       "      <td>[In, the, 22nd, century,, a, paraplegic, Marin...</td>\n",
       "      <td>[Action, Adventure, Fantasy, ScienceFiction]</td>\n",
       "      <td>[cultureclash, future, spacewar, spacecolony, ...</td>\n",
       "      <td>[SamWorthington, ZoeSaldana, SigourneyWeaver]</td>\n",
       "      <td>[JamesCameron]</td>\n",
       "      <td>[In, the, 22nd, century,, a, paraplegic, Marin...</td>\n",
       "    </tr>\n",
       "  </tbody>\n",
       "</table>\n",
       "</div>"
      ],
      "text/plain": [
       "   movie_id   title                                           overview   \n",
       "0     19995  Avatar  [In, the, 22nd, century,, a, paraplegic, Marin...  \\\n",
       "\n",
       "                                         genres   \n",
       "0  [Action, Adventure, Fantasy, ScienceFiction]  \\\n",
       "\n",
       "                                            keywords   \n",
       "0  [cultureclash, future, spacewar, spacecolony, ...  \\\n",
       "\n",
       "                                            cast            crew   \n",
       "0  [SamWorthington, ZoeSaldana, SigourneyWeaver]  [JamesCameron]  \\\n",
       "\n",
       "                                                tags  \n",
       "0  [In, the, 22nd, century,, a, paraplegic, Marin...  "
      ]
     },
     "execution_count": 48,
     "metadata": {},
     "output_type": "execute_result"
    }
   ],
   "source": [
    "movies.head(1)"
   ]
  },
  {
   "cell_type": "markdown",
   "id": "40ef3d1b-eead-4d67-a020-824e79a0abdc",
   "metadata": {},
   "source": [
    "## Creating a new DataFrame"
   ]
  },
  {
   "cell_type": "code",
   "execution_count": 49,
   "id": "7ff77dad-a2ed-4584-94b6-7e3f7fb3858b",
   "metadata": {
    "tags": []
   },
   "outputs": [],
   "source": [
    "final_df = movies[['movie_id','title','tags']]"
   ]
  },
  {
   "cell_type": "code",
   "execution_count": 50,
   "id": "1c2800b9-52e2-4631-9fa3-571818ee3006",
   "metadata": {
    "tags": []
   },
   "outputs": [
    {
     "data": {
      "text/html": [
       "<div>\n",
       "<style scoped>\n",
       "    .dataframe tbody tr th:only-of-type {\n",
       "        vertical-align: middle;\n",
       "    }\n",
       "\n",
       "    .dataframe tbody tr th {\n",
       "        vertical-align: top;\n",
       "    }\n",
       "\n",
       "    .dataframe thead th {\n",
       "        text-align: right;\n",
       "    }\n",
       "</style>\n",
       "<table border=\"1\" class=\"dataframe\">\n",
       "  <thead>\n",
       "    <tr style=\"text-align: right;\">\n",
       "      <th></th>\n",
       "      <th>movie_id</th>\n",
       "      <th>title</th>\n",
       "      <th>tags</th>\n",
       "    </tr>\n",
       "  </thead>\n",
       "  <tbody>\n",
       "    <tr>\n",
       "      <th>0</th>\n",
       "      <td>19995</td>\n",
       "      <td>Avatar</td>\n",
       "      <td>[In, the, 22nd, century,, a, paraplegic, Marin...</td>\n",
       "    </tr>\n",
       "    <tr>\n",
       "      <th>1</th>\n",
       "      <td>285</td>\n",
       "      <td>Pirates of the Caribbean: At World's End</td>\n",
       "      <td>[Captain, Barbossa,, long, believed, to, be, d...</td>\n",
       "    </tr>\n",
       "    <tr>\n",
       "      <th>2</th>\n",
       "      <td>206647</td>\n",
       "      <td>Spectre</td>\n",
       "      <td>[A, cryptic, message, from, Bond’s, past, send...</td>\n",
       "    </tr>\n",
       "    <tr>\n",
       "      <th>3</th>\n",
       "      <td>49026</td>\n",
       "      <td>The Dark Knight Rises</td>\n",
       "      <td>[Following, the, death, of, District, Attorney...</td>\n",
       "    </tr>\n",
       "    <tr>\n",
       "      <th>4</th>\n",
       "      <td>49529</td>\n",
       "      <td>John Carter</td>\n",
       "      <td>[John, Carter, is, a, war-weary,, former, mili...</td>\n",
       "    </tr>\n",
       "    <tr>\n",
       "      <th>...</th>\n",
       "      <td>...</td>\n",
       "      <td>...</td>\n",
       "      <td>...</td>\n",
       "    </tr>\n",
       "    <tr>\n",
       "      <th>4804</th>\n",
       "      <td>9367</td>\n",
       "      <td>El Mariachi</td>\n",
       "      <td>[El, Mariachi, just, wants, to, play, his, gui...</td>\n",
       "    </tr>\n",
       "    <tr>\n",
       "      <th>4805</th>\n",
       "      <td>72766</td>\n",
       "      <td>Newlyweds</td>\n",
       "      <td>[A, newlywed, couple's, honeymoon, is, upended...</td>\n",
       "    </tr>\n",
       "    <tr>\n",
       "      <th>4806</th>\n",
       "      <td>231617</td>\n",
       "      <td>Signed, Sealed, Delivered</td>\n",
       "      <td>[\"Signed,, Sealed,, Delivered\", introduces, a,...</td>\n",
       "    </tr>\n",
       "    <tr>\n",
       "      <th>4807</th>\n",
       "      <td>126186</td>\n",
       "      <td>Shanghai Calling</td>\n",
       "      <td>[When, ambitious, New, York, attorney, Sam, is...</td>\n",
       "    </tr>\n",
       "    <tr>\n",
       "      <th>4808</th>\n",
       "      <td>25975</td>\n",
       "      <td>My Date with Drew</td>\n",
       "      <td>[Ever, since, the, second, grade, when, he, fi...</td>\n",
       "    </tr>\n",
       "  </tbody>\n",
       "</table>\n",
       "<p>4806 rows × 3 columns</p>\n",
       "</div>"
      ],
      "text/plain": [
       "      movie_id                                     title   \n",
       "0        19995                                    Avatar  \\\n",
       "1          285  Pirates of the Caribbean: At World's End   \n",
       "2       206647                                   Spectre   \n",
       "3        49026                     The Dark Knight Rises   \n",
       "4        49529                               John Carter   \n",
       "...        ...                                       ...   \n",
       "4804      9367                               El Mariachi   \n",
       "4805     72766                                 Newlyweds   \n",
       "4806    231617                 Signed, Sealed, Delivered   \n",
       "4807    126186                          Shanghai Calling   \n",
       "4808     25975                         My Date with Drew   \n",
       "\n",
       "                                                   tags  \n",
       "0     [In, the, 22nd, century,, a, paraplegic, Marin...  \n",
       "1     [Captain, Barbossa,, long, believed, to, be, d...  \n",
       "2     [A, cryptic, message, from, Bond’s, past, send...  \n",
       "3     [Following, the, death, of, District, Attorney...  \n",
       "4     [John, Carter, is, a, war-weary,, former, mili...  \n",
       "...                                                 ...  \n",
       "4804  [El, Mariachi, just, wants, to, play, his, gui...  \n",
       "4805  [A, newlywed, couple's, honeymoon, is, upended...  \n",
       "4806  [\"Signed,, Sealed,, Delivered\", introduces, a,...  \n",
       "4807  [When, ambitious, New, York, attorney, Sam, is...  \n",
       "4808  [Ever, since, the, second, grade, when, he, fi...  \n",
       "\n",
       "[4806 rows x 3 columns]"
      ]
     },
     "execution_count": 50,
     "metadata": {},
     "output_type": "execute_result"
    }
   ],
   "source": [
    "final_df"
   ]
  },
  {
   "cell_type": "code",
   "execution_count": 51,
   "id": "d8758af7-2468-4721-b0eb-4da4878a74bc",
   "metadata": {
    "tags": []
   },
   "outputs": [
    {
     "data": {
      "text/plain": [
       "0       In the 22nd century, a paraplegic Marine is di...\n",
       "1       Captain Barbossa, long believed to be dead, ha...\n",
       "2       A cryptic message from Bond’s past sends him o...\n",
       "3       Following the death of District Attorney Harve...\n",
       "4       John Carter is a war-weary, former military ca...\n",
       "                              ...                        \n",
       "4804    El Mariachi just wants to play his guitar and ...\n",
       "4805    A newlywed couple's honeymoon is upended by th...\n",
       "4806    \"Signed, Sealed, Delivered\" introduces a dedic...\n",
       "4807    When ambitious New York attorney Sam is sent t...\n",
       "4808    Ever since the second grade when he first saw ...\n",
       "Name: tags, Length: 4806, dtype: object"
      ]
     },
     "execution_count": 51,
     "metadata": {},
     "output_type": "execute_result"
    }
   ],
   "source": [
    "# Convertin the tags from list to string\n",
    "final_df['tags'].apply(lambda x : \" \".join(x))"
   ]
  },
  {
   "cell_type": "code",
   "execution_count": 52,
   "id": "557dcea8-2b97-43f0-a719-f94510a1bf75",
   "metadata": {
    "tags": []
   },
   "outputs": [
    {
     "name": "stderr",
     "output_type": "stream",
     "text": [
      "/run/user/1000/app/org.jupyter.JupyterLab/ipykernel_256/278550751.py:1: SettingWithCopyWarning: \n",
      "A value is trying to be set on a copy of a slice from a DataFrame.\n",
      "Try using .loc[row_indexer,col_indexer] = value instead\n",
      "\n",
      "See the caveats in the documentation: https://pandas.pydata.org/pandas-docs/stable/user_guide/indexing.html#returning-a-view-versus-a-copy\n",
      "  final_df['tags'] = final_df['tags'].apply(lambda x : \" \".join(x))\n"
     ]
    }
   ],
   "source": [
    "final_df['tags'] = final_df['tags'].apply(lambda x : \" \".join(x))"
   ]
  },
  {
   "cell_type": "code",
   "execution_count": 53,
   "id": "24b23441-eb6a-4abc-adb3-97b8d4d2c591",
   "metadata": {
    "tags": []
   },
   "outputs": [
    {
     "data": {
      "text/html": [
       "<div>\n",
       "<style scoped>\n",
       "    .dataframe tbody tr th:only-of-type {\n",
       "        vertical-align: middle;\n",
       "    }\n",
       "\n",
       "    .dataframe tbody tr th {\n",
       "        vertical-align: top;\n",
       "    }\n",
       "\n",
       "    .dataframe thead th {\n",
       "        text-align: right;\n",
       "    }\n",
       "</style>\n",
       "<table border=\"1\" class=\"dataframe\">\n",
       "  <thead>\n",
       "    <tr style=\"text-align: right;\">\n",
       "      <th></th>\n",
       "      <th>movie_id</th>\n",
       "      <th>title</th>\n",
       "      <th>tags</th>\n",
       "    </tr>\n",
       "  </thead>\n",
       "  <tbody>\n",
       "    <tr>\n",
       "      <th>0</th>\n",
       "      <td>19995</td>\n",
       "      <td>Avatar</td>\n",
       "      <td>In the 22nd century, a paraplegic Marine is di...</td>\n",
       "    </tr>\n",
       "    <tr>\n",
       "      <th>1</th>\n",
       "      <td>285</td>\n",
       "      <td>Pirates of the Caribbean: At World's End</td>\n",
       "      <td>Captain Barbossa, long believed to be dead, ha...</td>\n",
       "    </tr>\n",
       "    <tr>\n",
       "      <th>2</th>\n",
       "      <td>206647</td>\n",
       "      <td>Spectre</td>\n",
       "      <td>A cryptic message from Bond’s past sends him o...</td>\n",
       "    </tr>\n",
       "    <tr>\n",
       "      <th>3</th>\n",
       "      <td>49026</td>\n",
       "      <td>The Dark Knight Rises</td>\n",
       "      <td>Following the death of District Attorney Harve...</td>\n",
       "    </tr>\n",
       "    <tr>\n",
       "      <th>4</th>\n",
       "      <td>49529</td>\n",
       "      <td>John Carter</td>\n",
       "      <td>John Carter is a war-weary, former military ca...</td>\n",
       "    </tr>\n",
       "  </tbody>\n",
       "</table>\n",
       "</div>"
      ],
      "text/plain": [
       "   movie_id                                     title   \n",
       "0     19995                                    Avatar  \\\n",
       "1       285  Pirates of the Caribbean: At World's End   \n",
       "2    206647                                   Spectre   \n",
       "3     49026                     The Dark Knight Rises   \n",
       "4     49529                               John Carter   \n",
       "\n",
       "                                                tags  \n",
       "0  In the 22nd century, a paraplegic Marine is di...  \n",
       "1  Captain Barbossa, long believed to be dead, ha...  \n",
       "2  A cryptic message from Bond’s past sends him o...  \n",
       "3  Following the death of District Attorney Harve...  \n",
       "4  John Carter is a war-weary, former military ca...  "
      ]
     },
     "execution_count": 53,
     "metadata": {},
     "output_type": "execute_result"
    }
   ],
   "source": [
    "final_df.head()"
   ]
  },
  {
   "cell_type": "code",
   "execution_count": 54,
   "id": "de8e0227-431a-4de7-8cab-81485cd5fc41",
   "metadata": {
    "tags": []
   },
   "outputs": [
    {
     "data": {
      "text/plain": [
       "'In the 22nd century, a paraplegic Marine is dispatched to the moon Pandora on a unique mission, but becomes torn between following orders and protecting an alien civilization. cultureclash future spacewar spacecolony society spacetravel futuristic romance space alien tribe alienplanet cgi marine soldier battle loveaffair antiwar powerrelations mindandsoul 3d SamWorthington ZoeSaldana SigourneyWeaver JamesCameron'"
      ]
     },
     "execution_count": 54,
     "metadata": {},
     "output_type": "execute_result"
    }
   ],
   "source": [
    "final_df['tags'][0]"
   ]
  },
  {
   "cell_type": "markdown",
   "id": "82efcfb0-881a-4fa8-a2c9-e27b07cd8317",
   "metadata": {},
   "source": [
    "### Lower casing all the tags ( in general this is recommended) "
   ]
  },
  {
   "cell_type": "code",
   "execution_count": 55,
   "id": "1b85a7cd-b6b6-4191-9778-9020f1ae4ecb",
   "metadata": {
    "tags": []
   },
   "outputs": [
    {
     "name": "stderr",
     "output_type": "stream",
     "text": [
      "/run/user/1000/app/org.jupyter.JupyterLab/ipykernel_256/1483259704.py:1: SettingWithCopyWarning: \n",
      "A value is trying to be set on a copy of a slice from a DataFrame.\n",
      "Try using .loc[row_indexer,col_indexer] = value instead\n",
      "\n",
      "See the caveats in the documentation: https://pandas.pydata.org/pandas-docs/stable/user_guide/indexing.html#returning-a-view-versus-a-copy\n",
      "  final_df['tags'] = final_df['tags'].apply(lambda x : x.lower())\n"
     ]
    }
   ],
   "source": [
    "final_df['tags'] = final_df['tags'].apply(lambda x : x.lower())"
   ]
  },
  {
   "cell_type": "code",
   "execution_count": 56,
   "id": "68ebb4ad-4a4f-4017-acec-8b949ef52bab",
   "metadata": {
    "tags": []
   },
   "outputs": [
    {
     "data": {
      "text/html": [
       "<div>\n",
       "<style scoped>\n",
       "    .dataframe tbody tr th:only-of-type {\n",
       "        vertical-align: middle;\n",
       "    }\n",
       "\n",
       "    .dataframe tbody tr th {\n",
       "        vertical-align: top;\n",
       "    }\n",
       "\n",
       "    .dataframe thead th {\n",
       "        text-align: right;\n",
       "    }\n",
       "</style>\n",
       "<table border=\"1\" class=\"dataframe\">\n",
       "  <thead>\n",
       "    <tr style=\"text-align: right;\">\n",
       "      <th></th>\n",
       "      <th>movie_id</th>\n",
       "      <th>title</th>\n",
       "      <th>tags</th>\n",
       "    </tr>\n",
       "  </thead>\n",
       "  <tbody>\n",
       "    <tr>\n",
       "      <th>0</th>\n",
       "      <td>19995</td>\n",
       "      <td>Avatar</td>\n",
       "      <td>in the 22nd century, a paraplegic marine is di...</td>\n",
       "    </tr>\n",
       "  </tbody>\n",
       "</table>\n",
       "</div>"
      ],
      "text/plain": [
       "   movie_id   title                                               tags\n",
       "0     19995  Avatar  in the 22nd century, a paraplegic marine is di..."
      ]
     },
     "execution_count": 56,
     "metadata": {},
     "output_type": "execute_result"
    }
   ],
   "source": [
    "final_df.head(1)"
   ]
  },
  {
   "cell_type": "markdown",
   "id": "76f52fd9-f58d-49cf-8ebb-6c45b891a12d",
   "metadata": {},
   "source": [
    "# Vectorization "
   ]
  },
  {
   "cell_type": "markdown",
   "id": "25bb8fc2-fa76-40ae-a6eb-22c318b8a458",
   "metadata": {},
   "source": [
    " **Our Task : Create a system where the user will enter a movie and we will recommend 5 similar movies to the user**"
   ]
  },
  {
   "cell_type": "code",
   "execution_count": 57,
   "id": "990ce714-445a-47b6-90bc-8f0663bc36ce",
   "metadata": {
    "tags": []
   },
   "outputs": [
    {
     "data": {
      "text/plain": [
       "'in the 22nd century, a paraplegic marine is dispatched to the moon pandora on a unique mission, but becomes torn between following orders and protecting an alien civilization. cultureclash future spacewar spacecolony society spacetravel futuristic romance space alien tribe alienplanet cgi marine soldier battle loveaffair antiwar powerrelations mindandsoul 3d samworthington zoesaldana sigourneyweaver jamescameron'"
      ]
     },
     "execution_count": 57,
     "metadata": {},
     "output_type": "execute_result"
    }
   ],
   "source": [
    " # displaying all tags in first movie\n",
    "final_df['tags'][0]"
   ]
  },
  {
   "cell_type": "code",
   "execution_count": 58,
   "id": "a4265f5a-448f-42c1-ace7-bdb6463a82da",
   "metadata": {
    "tags": []
   },
   "outputs": [
    {
     "data": {
      "text/plain": [
       "\"captain barbossa, long believed to be dead, has come back to life and is headed to the edge of the earth with will turner and elizabeth swann. but nothing is quite as it seems. ocean drugabuse exoticisland eastindiatradingcompany loveofone'slife traitor shipwreck strongwoman ship alliance calypso afterlife fighter pirate swashbuckler aftercreditsstinger johnnydepp orlandobloom keiraknightley goreverbinski\""
      ]
     },
     "execution_count": 58,
     "metadata": {},
     "output_type": "execute_result"
    }
   ],
   "source": [
    "# displaying all tags in second movie\n",
    "final_df['tags'][1]"
   ]
  },
  {
   "cell_type": "markdown",
   "id": "3fe22a36-f79e-4e58-9924-232d1a08f156",
   "metadata": {},
   "source": [
    "**Our Challenge is to find similarities between tags of each movie**"
   ]
  },
  {
   "cell_type": "markdown",
   "id": "c33a63f9-415b-4605-be96-c1203fb5a182",
   "metadata": {},
   "source": [
    "We can choose a strategy where we calculate the scroes between movies depending upon the number of same words they have. But this is not a good approach as most of the times the data will be misleading "
   ]
  },
  {
   "cell_type": "markdown",
   "id": "235cb1e5-0baf-4267-b5d3-b184497653fb",
   "metadata": {
    "tags": []
   },
   "source": [
    "This is why we choose vectorization, where we will convert all tags to vectors, and then when a user says he like a certain movie, then we will recommend him other movies that are very close to that particular vector"
   ]
  },
  {
   "cell_type": "markdown",
   "id": "1a4ea504-42e8-449a-b47e-558ad83a20f7",
   "metadata": {},
   "source": [
    "**This Process is called Text Vectorization**\n",
    "\n",
    "There are different techniques for text Vectorization, but the technique that we will use is called `bag of words`\n",
    "\n",
    "Other techniques are `tf idf`, `word to vec` etc"
   ]
  },
  {
   "cell_type": "markdown",
   "id": "46f77486-d075-460a-a21b-5d70d2478310",
   "metadata": {},
   "source": [
    "## Bag of Words Approach"
   ]
  },
  {
   "cell_type": "markdown",
   "id": "26c3050e-c47e-41e0-a1c0-8451f8bc81ad",
   "metadata": {},
   "source": [
    "First we will combine all the tags together(All tags from all movies combined).\n",
    "\n",
    "tag1+tag2+tag3+.....\n",
    "\n",
    "Now we have a very long string of words. **From this string of words we will choose the 5000 most commonly used words**"
   ]
  },
  {
   "cell_type": "markdown",
   "id": "3b2135ae-0a2e-4d90-b59e-4d6516e97511",
   "metadata": {},
   "source": [
    "Once we have the 5000 words, we will extract them and now we will check how many times each of the 5000 words have occured in tags of every single movie"
   ]
  },
  {
   "cell_type": "markdown",
   "id": "135bfc8f-c90e-4c0f-a6cd-581efe0acd98",
   "metadata": {},
   "source": [
    "        word1   word2   word3   word 4 ...... word5000\n",
    "\n",
    "movie1  3        5       1        0               0\n",
    "\n",
    "movie2  5        1       2        4               1\n",
    "\n"
   ]
  },
  {
   "cell_type": "markdown",
   "id": "07fa55b3-2f1c-4d25-8e7c-87255bf2bb60",
   "metadata": {},
   "source": [
    "We will gat a dataframe that will have 5000 rows(approx, they will be equal to number of movies in database) and 5000 columns"
   ]
  },
  {
   "cell_type": "markdown",
   "id": "4c08a949-c53a-49bd-9acd-0957ab335e86",
   "metadata": {},
   "source": [
    "Here each single movie is converted into a vector"
   ]
  },
  {
   "cell_type": "markdown",
   "id": "80361e09-fa33-4b90-bf6d-a29f7eb1f5c0",
   "metadata": {},
   "source": [
    "**Important Point : During Vectorization, we will not consider stop words(such as and,or,are,to,that etc)**"
   ]
  },
  {
   "cell_type": "markdown",
   "id": "38352421-076c-4d49-9c21-ccbc37bb3056",
   "metadata": {},
   "source": [
    "**We will use a library from sklearn called countvectorization to do our vectorizaion(although we want also do the vectorization manually, like concatinating all tags,extracting most common words and so on**"
   ]
  },
  {
   "cell_type": "code",
   "execution_count": 59,
   "id": "e75fc1c8-6637-4847-964f-782113033993",
   "metadata": {
    "tags": []
   },
   "outputs": [],
   "source": [
    "from sklearn.feature_extraction.text import CountVectorizer"
   ]
  },
  {
   "cell_type": "code",
   "execution_count": 60,
   "id": "cd428797-df3f-446a-8989-0b031f43f6f2",
   "metadata": {},
   "outputs": [],
   "source": [
    "cv = CountVectorizer(max_features=5000,stop_words='english')"
   ]
  },
  {
   "cell_type": "code",
   "execution_count": 61,
   "id": "bd041a47-4858-41c0-a718-aeff399f7550",
   "metadata": {
    "tags": []
   },
   "outputs": [
    {
     "data": {
      "text/plain": [
       "array([[0, 0, 0, ..., 0, 0, 0],\n",
       "       [0, 0, 0, ..., 0, 0, 0],\n",
       "       [0, 0, 0, ..., 0, 0, 0],\n",
       "       ...,\n",
       "       [0, 0, 0, ..., 0, 0, 0],\n",
       "       [0, 0, 0, ..., 0, 0, 0],\n",
       "       [0, 0, 0, ..., 0, 0, 0]])"
      ]
     },
     "execution_count": 61,
     "metadata": {},
     "output_type": "execute_result"
    }
   ],
   "source": [
    "cv.fit_transform(final_df['tags']).toarray()"
   ]
  },
  {
   "cell_type": "code",
   "execution_count": 62,
   "id": "922a3227-c18e-4770-98d8-dbbdd724b2fb",
   "metadata": {
    "tags": []
   },
   "outputs": [
    {
     "data": {
      "text/plain": [
       "(4806, 5000)"
      ]
     },
     "execution_count": 62,
     "metadata": {},
     "output_type": "execute_result"
    }
   ],
   "source": [
    "cv.fit_transform(final_df['tags']).toarray().shape"
   ]
  },
  {
   "cell_type": "code",
   "execution_count": 63,
   "id": "a2d3db5f-b6a9-4e2b-8b07-810a0515a31e",
   "metadata": {
    "tags": []
   },
   "outputs": [],
   "source": []
  },
  {
   "cell_type": "code",
   "execution_count": 67,
   "id": "638cab7a-d786-4cf5-8b86-e435ffa7255a",
   "metadata": {},
   "outputs": [
    {
     "data": {
      "text/plain": [
       "array([0, 0, 0, ..., 0, 0, 0])"
      ]
     },
     "execution_count": 67,
     "metadata": {},
     "output_type": "execute_result"
    }
   ],
   "source": [
    "vectors[0]"
   ]
  },
  {
   "cell_type": "code",
   "execution_count": 72,
   "id": "80ceb045-9da7-4e32-9bc0-a8dd7df1f1ef",
   "metadata": {
    "tags": []
   },
   "outputs": [
    {
     "data": {
      "text/plain": [
       "array(['000', '007', '10', ..., 'zone', 'zoo', 'zooeydeschanel'],\n",
       "      dtype=object)"
      ]
     },
     "execution_count": 72,
     "metadata": {},
     "output_type": "execute_result"
    }
   ],
   "source": [
    "cv.get_feature_names_out() # these are the 5000 most used wordsthat are present in our tags "
   ]
  },
  {
   "cell_type": "code",
   "execution_count": 73,
   "id": "22915c3e-19b9-4e16-8aeb-5c36bff92878",
   "metadata": {
    "tags": []
   },
   "outputs": [
    {
     "data": {
      "text/plain": [
       "5000"
      ]
     },
     "execution_count": 73,
     "metadata": {},
     "output_type": "execute_result"
    }
   ],
   "source": [
    "len(cv.get_feature_names_out())"
   ]
  },
  {
   "cell_type": "markdown",
   "id": "eea80a97-1272-485f-b6f5-0e3be4abf98b",
   "metadata": {},
   "source": [
    "the words loved,loving,love are all same meaning, and we dont need them as different tags in our tags column becuase this will create confusion while we try to relate movies to each other.\n",
    "\n",
    "that's why to remove such words and use only one of them we will use stem "
   ]
  },
  {
   "cell_type": "code",
   "execution_count": 75,
   "id": "514794d3-462e-41e7-b189-974867840263",
   "metadata": {
    "tags": []
   },
   "outputs": [],
   "source": [
    "import nltk"
   ]
  },
  {
   "cell_type": "code",
   "execution_count": 76,
   "id": "d5eecc9e-be42-490d-9aef-e1a042ec5147",
   "metadata": {
    "tags": []
   },
   "outputs": [],
   "source": [
    "from nltk.stem.porter import PorterStemmer \n",
    "\n",
    "ps = PorterStemmer()"
   ]
  },
  {
   "cell_type": "code",
   "execution_count": 85,
   "id": "670b38e5-4613-4bb7-81c0-084bb2d0f804",
   "metadata": {
    "tags": []
   },
   "outputs": [],
   "source": [
    "def stem(text):\n",
    "    y = []\n",
    "    for i in text.split():\n",
    "        y.append(ps.stem(i))\n",
    "        \n",
    "    return \" \".join(y) # converting the list we created above to string once again  "
   ]
  },
  {
   "cell_type": "code",
   "execution_count": 86,
   "id": "113fb3fa-eb40-4f21-bdd1-a14ddee6bde6",
   "metadata": {
    "tags": []
   },
   "outputs": [
    {
     "data": {
      "text/plain": [
       "'love'"
      ]
     },
     "execution_count": 86,
     "metadata": {},
     "output_type": "execute_result"
    }
   ],
   "source": [
    "ps.stem('loving')"
   ]
  },
  {
   "cell_type": "code",
   "execution_count": 87,
   "id": "1500dc19-4ebc-4f73-95dc-7cd43a651b44",
   "metadata": {
    "tags": []
   },
   "outputs": [
    {
     "data": {
      "text/plain": [
       "'love'"
      ]
     },
     "execution_count": 87,
     "metadata": {},
     "output_type": "execute_result"
    }
   ],
   "source": [
    "ps.stem('loved')"
   ]
  },
  {
   "cell_type": "code",
   "execution_count": 90,
   "id": "54d85a7e-95de-4a17-abfe-76b3bea5dc5a",
   "metadata": {
    "tags": []
   },
   "outputs": [
    {
     "data": {
      "text/plain": [
       "0       in the 22nd century, a parapleg marin is dispa...\n",
       "1       captain barbossa, long believ to be dead, ha c...\n",
       "2       a cryptic messag from bond’ past send him on a...\n",
       "3       follow the death of district attorney harvey d...\n",
       "4       john carter is a war-weary, former militari ca...\n",
       "                              ...                        \n",
       "4804    el mariachi just want to play hi guitar and ca...\n",
       "4805    a newlyw couple' honeymoon is upend by the arr...\n",
       "4806    \"signed, sealed, delivered\" introduc a dedic q...\n",
       "4807    when ambiti new york attorney sam is sent to s...\n",
       "4808    ever sinc the second grade when he first saw h...\n",
       "Name: tags, Length: 4806, dtype: object"
      ]
     },
     "execution_count": 90,
     "metadata": {},
     "output_type": "execute_result"
    }
   ],
   "source": [
    "final_df['tags'].apply(stem)"
   ]
  },
  {
   "cell_type": "code",
   "execution_count": 91,
   "id": "c1ce6c57-f4e3-4c49-90d6-f8deecc07f0d",
   "metadata": {
    "tags": []
   },
   "outputs": [
    {
     "name": "stderr",
     "output_type": "stream",
     "text": [
      "/run/user/1000/app/org.jupyter.JupyterLab/ipykernel_256/3982203710.py:1: SettingWithCopyWarning: \n",
      "A value is trying to be set on a copy of a slice from a DataFrame.\n",
      "Try using .loc[row_indexer,col_indexer] = value instead\n",
      "\n",
      "See the caveats in the documentation: https://pandas.pydata.org/pandas-docs/stable/user_guide/indexing.html#returning-a-view-versus-a-copy\n",
      "  final_df['tags'] = final_df['tags'].apply(stem)\n"
     ]
    }
   ],
   "source": [
    "final_df['tags'] = final_df['tags'].apply(stem)    "
   ]
  },
  {
   "cell_type": "code",
   "execution_count": 92,
   "id": "1b32ac6e-28da-4398-94e0-5c12e7f13fd5",
   "metadata": {
    "tags": []
   },
   "outputs": [],
   "source": [
    "from sklearn.feature_extraction.text import CountVectorizer"
   ]
  },
  {
   "cell_type": "code",
   "execution_count": 93,
   "id": "4d0decba-90c5-482e-b71a-c577da1e4e89",
   "metadata": {
    "tags": []
   },
   "outputs": [],
   "source": [
    "cv = CountVectorizer(max_features=5000,stop_words='english')"
   ]
  },
  {
   "cell_type": "code",
   "execution_count": 94,
   "id": "de05c90b-154c-4f74-946c-bf4e78c25c5c",
   "metadata": {
    "tags": []
   },
   "outputs": [
    {
     "data": {
      "text/plain": [
       "array([[0, 0, 0, ..., 0, 0, 0],\n",
       "       [0, 0, 0, ..., 0, 0, 0],\n",
       "       [0, 0, 0, ..., 0, 0, 0],\n",
       "       ...,\n",
       "       [0, 0, 0, ..., 0, 0, 0],\n",
       "       [0, 0, 0, ..., 0, 0, 0],\n",
       "       [0, 0, 0, ..., 0, 0, 0]])"
      ]
     },
     "execution_count": 94,
     "metadata": {},
     "output_type": "execute_result"
    }
   ],
   "source": [
    "cv.fit_transform(final_df['tags']).toarray()"
   ]
  },
  {
   "cell_type": "code",
   "execution_count": 95,
   "id": "85df3444-d879-4c79-846c-721815536737",
   "metadata": {
    "tags": []
   },
   "outputs": [],
   "source": [
    "vectors = cv.fit_transform(final_df['tags']).toarray()"
   ]
  },
  {
   "cell_type": "code",
   "execution_count": 97,
   "id": "ada5e325-d5ab-4470-be9f-d52fa304a401",
   "metadata": {
    "tags": []
   },
   "outputs": [
    {
     "data": {
      "text/plain": [
       "array(['000', '007', '10', ..., 'zone', 'zoo', 'zooeydeschanel'],\n",
       "      dtype=object)"
      ]
     },
     "execution_count": 97,
     "metadata": {},
     "output_type": "execute_result"
    }
   ],
   "source": [
    "cv.get_feature_names_out() # these are the 5000 most used wordsthat are present in our tags \n",
    "# I am for some reason unable to display all the 5000 words here, otherwise we would be able to see the ouput clearly"
   ]
  },
  {
   "cell_type": "markdown",
   "id": "b85b4305-6b92-4245-8618-6cbd1cc03def",
   "metadata": {},
   "source": [
    "**Now we have gotten our vectors. We have around 4800 vectors(equal to toal movies). Now our task is to calculate the distance between each vector**\n",
    "\n",
    "**Smaller the distance, more the similarities between the vectors(movies)**"
   ]
  },
  {
   "cell_type": "markdown",
   "id": "c22e0b81-8c97-4398-89d8-f9ac94fd034c",
   "metadata": {},
   "source": [
    "**We will not calculate the eculidian distance between them(distance from the tip of one vector to another)**\n",
    "\n",
    "Reason : Eucldian distance fails for higher dimension of data. Here we are having 5000 dimensional data, that's why we are not using Eculidian distance\n",
    "\n",
    "**Instead we will calculate the cosine distance(the angle between the vectors). Smaller the angle more similarities between movies**"
   ]
  },
  {
   "cell_type": "markdown",
   "id": "ad5dd4a6-5395-46bd-8130-c4d039f64824",
   "metadata": {
    "tags": []
   },
   "source": [
    "### Using the cosine similarity function from scikt learn"
   ]
  },
  {
   "cell_type": "code",
   "execution_count": 99,
   "id": "6338d402-6a07-4320-9433-35a4c652e6c2",
   "metadata": {
    "tags": []
   },
   "outputs": [],
   "source": [
    "from sklearn.metrics.pairwise import cosine_similarity # similarity will always be between 0 and 1. 1 being very very very similar"
   ]
  },
  {
   "cell_type": "code",
   "execution_count": 100,
   "id": "5181492b-024a-4fba-a51b-67061c84780f",
   "metadata": {
    "tags": []
   },
   "outputs": [
    {
     "data": {
      "text/plain": [
       "array([[1.        , 0.        , 0.03184649, ..., 0.02475369, 0.        ,\n",
       "        0.        ],\n",
       "       [0.        , 1.        , 0.        , ..., 0.02592379, 0.        ,\n",
       "        0.0277137 ],\n",
       "       [0.03184649, 0.        , 1.        , ..., 0.02680281, 0.        ,\n",
       "        0.        ],\n",
       "       ...,\n",
       "       [0.02475369, 0.02592379, 0.02680281, ..., 1.        , 0.0412393 ,\n",
       "        0.04454354],\n",
       "       [0.        , 0.        , 0.        , ..., 0.0412393 , 1.        ,\n",
       "        0.08817334],\n",
       "       [0.        , 0.0277137 , 0.        , ..., 0.04454354, 0.08817334,\n",
       "        1.        ]])"
      ]
     },
     "execution_count": 100,
     "metadata": {},
     "output_type": "execute_result"
    }
   ],
   "source": [
    "cosine_similarity(vectors)"
   ]
  },
  {
   "cell_type": "code",
   "execution_count": 101,
   "id": "335ea98d-b150-4283-9b3c-c320f82a2586",
   "metadata": {
    "tags": []
   },
   "outputs": [
    {
     "data": {
      "text/plain": [
       "(4806, 4806)"
      ]
     },
     "execution_count": 101,
     "metadata": {},
     "output_type": "execute_result"
    }
   ],
   "source": [
    "cosine_similarity(vectors).shape"
   ]
  },
  {
   "cell_type": "code",
   "execution_count": 102,
   "id": "20bb81a7-b1dc-4a83-bcdf-70d1b99711c8",
   "metadata": {
    "tags": []
   },
   "outputs": [],
   "source": [
    "similarity = cosine_similarity(vectors)"
   ]
  },
  {
   "cell_type": "code",
   "execution_count": 104,
   "id": "21306890-7788-427f-a644-af558b8ad3d1",
   "metadata": {
    "tags": []
   },
   "outputs": [
    {
     "data": {
      "text/plain": [
       "array([1.        , 0.        , 0.03184649, ..., 0.02475369, 0.        ,\n",
       "       0.        ])"
      ]
     },
     "execution_count": 104,
     "metadata": {},
     "output_type": "execute_result"
    }
   ],
   "source": [
    "similarity[0] # this tell us the similarity of 1st movie with every other movie\n",
    "# the similarity score of 1st movie with itself will be ofcourse 1 becuase both are same movies "
   ]
  },
  {
   "cell_type": "code",
   "execution_count": 105,
   "id": "06cd84ec-fbe8-4c6e-b7a6-76719b0d98f2",
   "metadata": {
    "tags": []
   },
   "outputs": [
    {
     "data": {
      "text/plain": [
       "array([0.        , 1.        , 0.        , ..., 0.02592379, 0.        ,\n",
       "       0.0277137 ])"
      ]
     },
     "execution_count": 105,
     "metadata": {},
     "output_type": "execute_result"
    }
   ],
   "source": [
    "similarity[1]"
   ]
  },
  {
   "cell_type": "markdown",
   "id": "25d553ef-9f7e-47c8-a3a0-52be908b4121",
   "metadata": {},
   "source": [
    "## Creating the final recommend function"
   ]
  },
  {
   "cell_type": "code",
   "execution_count": 113,
   "id": "7856d472-3e2d-4d37-979c-579eb7861422",
   "metadata": {
    "tags": []
   },
   "outputs": [
    {
     "data": {
      "text/html": [
       "<div>\n",
       "<style scoped>\n",
       "    .dataframe tbody tr th:only-of-type {\n",
       "        vertical-align: middle;\n",
       "    }\n",
       "\n",
       "    .dataframe tbody tr th {\n",
       "        vertical-align: top;\n",
       "    }\n",
       "\n",
       "    .dataframe thead th {\n",
       "        text-align: right;\n",
       "    }\n",
       "</style>\n",
       "<table border=\"1\" class=\"dataframe\">\n",
       "  <thead>\n",
       "    <tr style=\"text-align: right;\">\n",
       "      <th></th>\n",
       "      <th>movie_id</th>\n",
       "      <th>title</th>\n",
       "      <th>tags</th>\n",
       "    </tr>\n",
       "  </thead>\n",
       "  <tbody>\n",
       "    <tr>\n",
       "      <th>0</th>\n",
       "      <td>19995</td>\n",
       "      <td>Avatar</td>\n",
       "      <td>in the 22nd century, a parapleg marin is dispa...</td>\n",
       "    </tr>\n",
       "    <tr>\n",
       "      <th>1</th>\n",
       "      <td>285</td>\n",
       "      <td>Pirates of the Caribbean: At World's End</td>\n",
       "      <td>captain barbossa, long believ to be dead, ha c...</td>\n",
       "    </tr>\n",
       "    <tr>\n",
       "      <th>2</th>\n",
       "      <td>206647</td>\n",
       "      <td>Spectre</td>\n",
       "      <td>a cryptic messag from bond’ past send him on a...</td>\n",
       "    </tr>\n",
       "    <tr>\n",
       "      <th>3</th>\n",
       "      <td>49026</td>\n",
       "      <td>The Dark Knight Rises</td>\n",
       "      <td>follow the death of district attorney harvey d...</td>\n",
       "    </tr>\n",
       "    <tr>\n",
       "      <th>4</th>\n",
       "      <td>49529</td>\n",
       "      <td>John Carter</td>\n",
       "      <td>john carter is a war-weary, former militari ca...</td>\n",
       "    </tr>\n",
       "    <tr>\n",
       "      <th>...</th>\n",
       "      <td>...</td>\n",
       "      <td>...</td>\n",
       "      <td>...</td>\n",
       "    </tr>\n",
       "    <tr>\n",
       "      <th>4804</th>\n",
       "      <td>9367</td>\n",
       "      <td>El Mariachi</td>\n",
       "      <td>el mariachi just want to play hi guitar and ca...</td>\n",
       "    </tr>\n",
       "    <tr>\n",
       "      <th>4805</th>\n",
       "      <td>72766</td>\n",
       "      <td>Newlyweds</td>\n",
       "      <td>a newlyw couple' honeymoon is upend by the arr...</td>\n",
       "    </tr>\n",
       "    <tr>\n",
       "      <th>4806</th>\n",
       "      <td>231617</td>\n",
       "      <td>Signed, Sealed, Delivered</td>\n",
       "      <td>\"signed, sealed, delivered\" introduc a dedic q...</td>\n",
       "    </tr>\n",
       "    <tr>\n",
       "      <th>4807</th>\n",
       "      <td>126186</td>\n",
       "      <td>Shanghai Calling</td>\n",
       "      <td>when ambiti new york attorney sam is sent to s...</td>\n",
       "    </tr>\n",
       "    <tr>\n",
       "      <th>4808</th>\n",
       "      <td>25975</td>\n",
       "      <td>My Date with Drew</td>\n",
       "      <td>ever sinc the second grade when he first saw h...</td>\n",
       "    </tr>\n",
       "  </tbody>\n",
       "</table>\n",
       "<p>4806 rows × 3 columns</p>\n",
       "</div>"
      ],
      "text/plain": [
       "      movie_id                                     title   \n",
       "0        19995                                    Avatar  \\\n",
       "1          285  Pirates of the Caribbean: At World's End   \n",
       "2       206647                                   Spectre   \n",
       "3        49026                     The Dark Knight Rises   \n",
       "4        49529                               John Carter   \n",
       "...        ...                                       ...   \n",
       "4804      9367                               El Mariachi   \n",
       "4805     72766                                 Newlyweds   \n",
       "4806    231617                 Signed, Sealed, Delivered   \n",
       "4807    126186                          Shanghai Calling   \n",
       "4808     25975                         My Date with Drew   \n",
       "\n",
       "                                                   tags  \n",
       "0     in the 22nd century, a parapleg marin is dispa...  \n",
       "1     captain barbossa, long believ to be dead, ha c...  \n",
       "2     a cryptic messag from bond’ past send him on a...  \n",
       "3     follow the death of district attorney harvey d...  \n",
       "4     john carter is a war-weary, former militari ca...  \n",
       "...                                                 ...  \n",
       "4804  el mariachi just want to play hi guitar and ca...  \n",
       "4805  a newlyw couple' honeymoon is upend by the arr...  \n",
       "4806  \"signed, sealed, delivered\" introduc a dedic q...  \n",
       "4807  when ambiti new york attorney sam is sent to s...  \n",
       "4808  ever sinc the second grade when he first saw h...  \n",
       "\n",
       "[4806 rows x 3 columns]"
      ]
     },
     "execution_count": 113,
     "metadata": {},
     "output_type": "execute_result"
    }
   ],
   "source": [
    "final_df"
   ]
  },
  {
   "cell_type": "code",
   "execution_count": 112,
   "id": "6458eeef-9168-4c88-9144-50d6dd29f596",
   "metadata": {
    "tags": []
   },
   "outputs": [
    {
     "data": {
      "text/plain": [
       "119"
      ]
     },
     "execution_count": 112,
     "metadata": {},
     "output_type": "execute_result"
    }
   ],
   "source": [
    "final_df[final_df['title'] == 'Batman Begins'].index[0] # fetch index of movie"
   ]
  },
  {
   "cell_type": "code",
   "execution_count": 115,
   "id": "aaa355c7-9ef0-44ba-b7f9-f6485475a91a",
   "metadata": {
    "scrolled": true,
    "tags": []
   },
   "outputs": [
    {
     "data": {
      "text/plain": [
       "[(0, 1.0),\n",
       " (1, 0.0),\n",
       " (2, 0.031846487764924096),\n",
       " (3, 0.06063390625908324),\n",
       " (4, 0.1292719224987548),\n",
       " (5, 0.04711428474315455),\n",
       " (6, 0.02195814375455294),\n",
       " (7, 0.05492350363810897),\n",
       " (8, 0.0),\n",
       " (9, 0.0),\n",
       " (10, 0.0),\n",
       " (11, 0.026783579200279007),\n",
       " (12, 0.0),\n",
       " (13, 0.0),\n",
       " (14, 0.028583097523751468),\n",
       " (15, 0.0),\n",
       " (16, 0.0),\n",
       " (17, 0.06587443126365883),\n",
       " (18, 0.06149400462680908),\n",
       " (19, 0.022518867455552243),\n",
       " (20, 0.015526752351113421),\n",
       " (21, 0.05970814340265321),\n",
       " (22, 0.0),\n",
       " (23, 0.0),\n",
       " (24, 0.0),\n",
       " (25, 0.03656362120635653),\n",
       " (26, 0.08458258116519013),\n",
       " (27, 0.13629325512727639),\n",
       " (28, 0.03300491809922247),\n",
       " (29, 0.023557142371577276),\n",
       " (30, 0.0),\n",
       " (31, 0.07151985398521515),\n",
       " (32, 0.023557142371577276),\n",
       " (33, 0.0),\n",
       " (34, 0.0),\n",
       " (35, 0.0),\n",
       " (36, 0.10713431680111603),\n",
       " (37, 0.029411764705882346),\n",
       " (38, 0.02195814375455294),\n",
       " (39, 0.0),\n",
       " (40, 0.030316953129541614),\n",
       " (41, 0.10461315619318828),\n",
       " (42, 0.0),\n",
       " (43, 0.049507377148833714),\n",
       " (44, 0.0),\n",
       " (45, 0.045037734911104486),\n",
       " (46, 0.03131121455425747),\n",
       " (47, 0.14890247043403096),\n",
       " (48, 0.04583492485141056),\n",
       " (49, 0.031846487764924096),\n",
       " (50, 0.0),\n",
       " (51, 0.02160679078507214),\n",
       " (52, 0.08035073760083702),\n",
       " (53, 0.0),\n",
       " (54, 0.0),\n",
       " (55, 0.019295098316976823),\n",
       " (56, 0.03934447376823168),\n",
       " (57, 0.02615328904829707),\n",
       " (58, 0.025286086871208677),\n",
       " (59, 0.019544077624852604),\n",
       " (60, 0.01967223688411584),\n",
       " (61, 0.11504474832710555),\n",
       " (62, 0.0),\n",
       " (63, 0.044280744277004756),\n",
       " (64, 0.0),\n",
       " (65, 0.0),\n",
       " (66, 0.0),\n",
       " (67, 0.09095085938862485),\n",
       " (68, 0.03363363969981562),\n",
       " (69, 0.014144964899666775),\n",
       " (70, 0.0),\n",
       " (71, 0.0),\n",
       " (72, 0.03131121455425747),\n",
       " (73, 0.0),\n",
       " (74, 0.16977493752543305),\n",
       " (75, 0.056388387443460086),\n",
       " (76, 0.0),\n",
       " (77, 0.015721249524260256),\n",
       " (78, 0.0),\n",
       " (79, 0.0),\n",
       " (80, 0.01807753815155468),\n",
       " (81, 0.04014478229518501),\n",
       " (82, 0.028194193721730043),\n",
       " (83, 0.07756315349925287),\n",
       " (84, 0.04583492485141056),\n",
       " (85, 0.0700140042014005),\n",
       " (86, 0.026462806201248155),\n",
       " (87, 0.06262242910851494),\n",
       " (88, 0.03500700210070025),\n",
       " (89, 0.04639051998342824),\n",
       " (90, 0.0),\n",
       " (91, 0.09240616554505461),\n",
       " (92, 0.02271554252121273),\n",
       " (93, 0.025854384499750957),\n",
       " (94, 0.07312724241271305),\n",
       " (95, 0.07845986714489121),\n",
       " (96, 0.0),\n",
       " (97, 0.0),\n",
       " (98, 0.0),\n",
       " (99, 0.0),\n",
       " (100, 0.0),\n",
       " (101, 0.0),\n",
       " (102, 0.06755660236665673),\n",
       " (103, 0.02195814375455294),\n",
       " (104, 0.0),\n",
       " (105, 0.03742405942825598),\n",
       " (106, 0.02291746242570528),\n",
       " (107, 0.0),\n",
       " (108, 0.08035073760083702),\n",
       " (109, 0.0),\n",
       " (110, 0.025015639663712994),\n",
       " (111, 0.08238525545716345),\n",
       " (112, 0.0),\n",
       " (113, 0.0),\n",
       " (114, 0.0),\n",
       " (115, 0.0),\n",
       " (116, 0.0),\n",
       " (117, 0.0),\n",
       " (118, 0.01838657828382305),\n",
       " (119, 0.024014605321403704),\n",
       " (120, 0.0),\n",
       " (121, 0.0),\n",
       " (122, 0.03300491809922247),\n",
       " (123, 0.04899959575500252),\n",
       " (124, 0.02556549962824568),\n",
       " (125, 0.04080216746870543),\n",
       " (126, 0.05882352941176469),\n",
       " (127, 0.06105941257599791),\n",
       " (128, 0.0),\n",
       " (129, 0.025286086871208677),\n",
       " (130, 0.0),\n",
       " (131, 0.029854071701326604),\n",
       " (132, 0.024014605321403704),\n",
       " (133, 0.0),\n",
       " (134, 0.07312724241271305),\n",
       " (135, 0.0),\n",
       " (136, 0.0),\n",
       " (137, 0.032124628310161774),\n",
       " (138, 0.029411764705882346),\n",
       " (139, 0.06642111641550713),\n",
       " (140, 0.02449979787750126),\n",
       " (141, 0.06482037235521643),\n",
       " (142, 0.03300491809922247),\n",
       " (143, 0.024014605321403704),\n",
       " (144, 0.0),\n",
       " (145, 0.0),\n",
       " (146, 0.017783574850739465),\n",
       " (147, 0.0),\n",
       " (148, 0.03656362120635653),\n",
       " (149, 0.10555008273018726),\n",
       " (150, 0.1188177051572009),\n",
       " (151, 0.15339299776947407),\n",
       " (152, 0.0),\n",
       " (153, 0.0425435629811517),\n",
       " (154, 0.034299717028501764),\n",
       " (155, 0.021780342093451605),\n",
       " (156, 0.04356068418690321),\n",
       " (157, 0.03742405942825598),\n",
       " (158, 0.049507377148833714),\n",
       " (159, 0.0),\n",
       " (160, 0.05547950410914818),\n",
       " (161, 0.0),\n",
       " (162, 0.0),\n",
       " (163, 0.0),\n",
       " (164, 0.0),\n",
       " (165, 0.0),\n",
       " (166, 0.05564148840746572),\n",
       " (167, 0.0),\n",
       " (168, 0.08574929257125441),\n",
       " (169, 0.024014605321403704),\n",
       " (170, 0.06937459350943204),\n",
       " (171, 0.0),\n",
       " (172, 0.13284223283101426),\n",
       " (173, 0.02556549962824568),\n",
       " (174, 0.0),\n",
       " (175, 0.025854384499750957),\n",
       " (176, 0.0),\n",
       " (177, 0.0),\n",
       " (178, 0.0),\n",
       " (179, 0.042874646285627205),\n",
       " (180, 0.0),\n",
       " (181, 0.024753688574416857),\n",
       " (182, 0.05113099925649136),\n",
       " (183, 0.01893885047696425),\n",
       " (184, 0.14097096860865022),\n",
       " (185, 0.0),\n",
       " (186, 0.02160679078507214),\n",
       " (187, 0.03080205518168487),\n",
       " (188, 0.0),\n",
       " (189, 0.08574929257125441),\n",
       " (190, 0.023338001400466827),\n",
       " (191, 0.0),\n",
       " (192, 0.050572173742417355),\n",
       " (193, 0.033796515420933156),\n",
       " (194, 0.0),\n",
       " (195, 0.0),\n",
       " (196, 0.0),\n",
       " (197, 0.0),\n",
       " (198, 0.0),\n",
       " (199, 0.023557142371577276),\n",
       " (200, 0.041594516540385144),\n",
       " (201, 0.0),\n",
       " (202, 0.0),\n",
       " (203, 0.0),\n",
       " (204, 0.02711630722733202),\n",
       " (205, 0.0),\n",
       " (206, 0.059808916712167495),\n",
       " (207, 0.0),\n",
       " (208, 0.034299717028501764),\n",
       " (209, 0.0),\n",
       " (210, 0.028194193721730043),\n",
       " (211, 0.0),\n",
       " (212, 0.0),\n",
       " (213, 0.02127178149057585),\n",
       " (214, 0.0),\n",
       " (215, 0.0),\n",
       " (216, 0.0),\n",
       " (217, 0.046676002800933654),\n",
       " (218, 0.0),\n",
       " (219, 0.034299717028501764),\n",
       " (220, 0.1320196723968899),\n",
       " (221, 0.0),\n",
       " (222, 0.04356068418690321),\n",
       " (223, 0.057166195047502935),\n",
       " (224, 0.021780342093451605),\n",
       " (225, 0.0),\n",
       " (226, 0.0),\n",
       " (227, 0.029854071701326604),\n",
       " (228, 0.04850712500726659),\n",
       " (229, 0.05788529495093047),\n",
       " (230, 0.039605901719066965),\n",
       " (231, 0.0),\n",
       " (232, 0.0),\n",
       " (233, 0.0),\n",
       " (234, 0.025854384499750957),\n",
       " (235, 0.028194193721730043),\n",
       " (236, 0.10090091909944687),\n",
       " (237, 0.0),\n",
       " (238, 0.040422604172722164),\n",
       " (239, 0.07868894753646336),\n",
       " (240, 0.0),\n",
       " (241, 0.0),\n",
       " (242, 0.0),\n",
       " (243, 0.025854384499750957),\n",
       " (244, 0.06859943405700353),\n",
       " (245, 0.029854071701326604),\n",
       " (246, 0.06285566056425843),\n",
       " (247, 0.0),\n",
       " (248, 0.0),\n",
       " (249, 0.07868894753646336),\n",
       " (250, 0.0),\n",
       " (251, 0.04583492485141056),\n",
       " (252, 0.0),\n",
       " (253, 0.023338001400466827),\n",
       " (254, 0.026462806201248155),\n",
       " (255, 0.0),\n",
       " (256, 0.041594516540385144),\n",
       " (257, 0.0),\n",
       " (258, 0.0),\n",
       " (259, 0.0),\n",
       " (260, 0.10289915108550529),\n",
       " (261, 0.0),\n",
       " (262, 0.04624972900628803),\n",
       " (263, 0.0),\n",
       " (264, 0.0),\n",
       " (265, 0.0),\n",
       " (266, 0.053567158400558014),\n",
       " (267, 0.0),\n",
       " (268, 0.0),\n",
       " (269, 0.0),\n",
       " (270, 0.04802921064280741),\n",
       " (271, 0.0),\n",
       " (272, 0.0),\n",
       " (273, 0.0),\n",
       " (274, 0.06843538575349505),\n",
       " (275, 0.09723055853282464),\n",
       " (276, 0.0),\n",
       " (277, 0.019055398349167644),\n",
       " (278, 0.051708768999501914),\n",
       " (279, 0.050572173742417355),\n",
       " (280, 0.0),\n",
       " (281, 0.07134772412317411),\n",
       " (282, 0.024014605321403704),\n",
       " (283, 0.03131121455425747),\n",
       " (284, 0.0),\n",
       " (285, 0.0),\n",
       " (286, 0.06381534447172756),\n",
       " (287, 0.028194193721730043),\n",
       " (288, 0.030316953129541614),\n",
       " (289, 0.0),\n",
       " (290, 0.0),\n",
       " (291, 0.0),\n",
       " (292, 0.0),\n",
       " (293, 0.0),\n",
       " (294, 0.06726727939963124),\n",
       " (295, 0.06160411036336974),\n",
       " (296, 0.0),\n",
       " (297, 0.024253562503633294),\n",
       " (298, 0.0),\n",
       " (299, 0.021437323142813602),\n",
       " (300, 0.10846522890932808),\n",
       " (301, 0.04014478229518501),\n",
       " (302, 0.02556549962824568),\n",
       " (303, 0.0),\n",
       " (304, 0.042008402520840295),\n",
       " (305, 0.14269544824634822),\n",
       " (306, 0.029854071701326604),\n",
       " (307, 0.08328707558159618),\n",
       " (308, 0.03834824944236852),\n",
       " (309, 0.0),\n",
       " (310, 0.0),\n",
       " (311, 0.10984700727621793),\n",
       " (312, 0.056388387443460086),\n",
       " (313, 0.05882352941176469),\n",
       " (314, 0.0),\n",
       " (315, 0.0),\n",
       " (316, 0.0),\n",
       " (317, 0.0),\n",
       " (318, 0.0),\n",
       " (319, 0.03742405942825598),\n",
       " (320, 0.0),\n",
       " (321, 0.0),\n",
       " (322, 0.11941628680530642),\n",
       " (323, 0.0),\n",
       " (324, 0.0),\n",
       " (325, 0.040422604172722164),\n",
       " (326, 0.0),\n",
       " (327, 0.0),\n",
       " (328, 0.0),\n",
       " (329, 0.0),\n",
       " (330, 0.027461751819054483),\n",
       " (331, 0.04850712500726659),\n",
       " (332, 0.029854071701326604),\n",
       " (333, 0.0),\n",
       " (334, 0.026783579200279007),\n",
       " (335, 0.0),\n",
       " (336, 0.0),\n",
       " (337, 0.02449979787750126),\n",
       " (338, 0.0),\n",
       " (339, 0.0),\n",
       " (340, 0.0),\n",
       " (341, 0.030316953129541614),\n",
       " (342, 0.11651034560709259),\n",
       " (343, 0.020797258270192572),\n",
       " (344, 0.0),\n",
       " (345, 0.0),\n",
       " (346, 0.0),\n",
       " (347, 0.0),\n",
       " (348, 0.03500700210070025),\n",
       " (349, 0.0),\n",
       " (350, 0.0),\n",
       " (351, 0.0),\n",
       " (352, 0.0),\n",
       " (353, 0.022140372138502378),\n",
       " (354, 0.023782574707724703),\n",
       " (355, 0.0),\n",
       " (356, 0.034299717028501764),\n",
       " (357, 0.0),\n",
       " (358, 0.0),\n",
       " (359, 0.0),\n",
       " (360, 0.023338001400466827),\n",
       " (361, 0.05423261445466404),\n",
       " (362, 0.03575992699260758),\n",
       " (363, 0.06482037235521643),\n",
       " (364, 0.0),\n",
       " (365, 0.05492350363810897),\n",
       " (366, 0.0),\n",
       " (367, 0.0),\n",
       " (368, 0.07312724241271305),\n",
       " (369, 0.056388387443460086),\n",
       " (370, 0.0),\n",
       " (371, 0.0),\n",
       " (372, 0.025854384499750957),\n",
       " (373, 0.14969623771302393),\n",
       " (374, 0.0),\n",
       " (375, 0.04391628750910588),\n",
       " (376, 0.0),\n",
       " (377, 0.0),\n",
       " (378, 0.0),\n",
       " (379, 0.0),\n",
       " (380, 0.028583097523751468),\n",
       " (381, 0.0),\n",
       " (382, 0.0),\n",
       " (383, 0.0),\n",
       " (384, 0.0),\n",
       " (385, 0.0),\n",
       " (386, 0.0),\n",
       " (387, 0.0),\n",
       " (388, 0.0),\n",
       " (389, 0.03241018617760821),\n",
       " (390, 0.0),\n",
       " (391, 0.020797258270192572),\n",
       " (392, 0.0),\n",
       " (393, 0.0),\n",
       " (394, 0.0),\n",
       " (395, 0.028988551782622416),\n",
       " (396, 0.023782574707724703),\n",
       " (397, 0.028988551782622416),\n",
       " (398, 0.0),\n",
       " (399, 0.0),\n",
       " (400, 0.0),\n",
       " (401, 0.03656362120635653),\n",
       " (402, 0.028988551782622416),\n",
       " (403, 0.0),\n",
       " (404, 0.034299717028501764),\n",
       " (405, 0.03131121455425747),\n",
       " (406, 0.02271554252121273),\n",
       " (407, 0.0),\n",
       " (408, 0.0),\n",
       " (409, 0.0),\n",
       " (410, 0.02782074420373286),\n",
       " (411, 0.0),\n",
       " (412, 0.026462806201248155),\n",
       " (413, 0.03300491809922247),\n",
       " (414, 0.0),\n",
       " (415, 0.019055398349167644),\n",
       " (416, 0.0),\n",
       " (417, 0.0),\n",
       " (418, 0.03934447376823168),\n",
       " (419, 0.0),\n",
       " (420, 0.025015639663712994),\n",
       " (421, 0.02556549962824568),\n",
       " (422, 0.06262242910851494),\n",
       " (423, 0.022140372138502378),\n",
       " (424, 0.0),\n",
       " (425, 0.023124864503144014),\n",
       " (426, 0.0),\n",
       " (427, 0.0),\n",
       " (428, 0.0199363055707225),\n",
       " (429, 0.0),\n",
       " (430, 0.056388387443460086),\n",
       " (431, 0.0),\n",
       " (432, 0.07426106572325057),\n",
       " (433, 0.0),\n",
       " (434, 0.0),\n",
       " (435, 0.0),\n",
       " (436, 0.0),\n",
       " (437, 0.0),\n",
       " (438, 0.10713431680111603),\n",
       " (439, 0.030316953129541614),\n",
       " (440, 0.0),\n",
       " (441, 0.03241018617760821),\n",
       " (442, 0.0),\n",
       " (443, 0.0),\n",
       " (444, 0.0),\n",
       " (445, 0.08238525545716345),\n",
       " (446, 0.0),\n",
       " (447, 0.024253562503633294),\n",
       " (448, 0.02271554252121273),\n",
       " (449, 0.06063390625908323),\n",
       " (450, 0.0),\n",
       " (451, 0.0),\n",
       " (452, 0.0),\n",
       " (453, 0.0),\n",
       " (454, 0.10114434748483471),\n",
       " (455, 0.044280744277004756),\n",
       " (456, 0.02449979787750126),\n",
       " (457, 0.0),\n",
       " (458, 0.024253562503633294),\n",
       " (459, 0.0),\n",
       " (460, 0.0),\n",
       " (461, 0.0939336436627724),\n",
       " (462, 0.034647946433761845),\n",
       " (463, 0.0),\n",
       " (464, 0.0),\n",
       " (465, 0.0),\n",
       " (466, 0.041594516540385144),\n",
       " (467, 0.04624972900628803),\n",
       " (468, 0.0),\n",
       " (469, 0.02127178149057585),\n",
       " (470, 0.0),\n",
       " (471, 0.0),\n",
       " (472, 0.030316953129541614),\n",
       " (473, 0.051708768999501914),\n",
       " (474, 0.0),\n",
       " (475, 0.0),\n",
       " (476, 0.07669649888473704),\n",
       " (477, 0.0),\n",
       " (478, 0.01941839093451543),\n",
       " (479, 0.075755401907857),\n",
       " (480, 0.053567158400558014),\n",
       " (481, 0.0),\n",
       " (482, 0.0),\n",
       " (483, 0.03500700210070025),\n",
       " (484, 0.0),\n",
       " (485, 0.0),\n",
       " (486, 0.034299717028501764),\n",
       " (487, 0.07151985398521515),\n",
       " (488, 0.0367731565676461),\n",
       " (489, 0.0),\n",
       " (490, 0.041594516540385144),\n",
       " (491, 0.04356068418690321),\n",
       " (492, 0.056388387443460086),\n",
       " (493, 0.016351748504193214),\n",
       " (494, 0.0),\n",
       " (495, 0.10727978097782273),\n",
       " (496, 0.0),\n",
       " (497, 0.0),\n",
       " (498, 0.0),\n",
       " (499, 0.0),\n",
       " (500, 0.0),\n",
       " (501, 0.022518867455552243),\n",
       " (502, 0.12007302660701852),\n",
       " (503, 0.0),\n",
       " (504, 0.0),\n",
       " (505, 0.03934447376823168),\n",
       " (506, 0.03934447376823168),\n",
       " (507, 0.20812378052829614),\n",
       " (508, 0.0),\n",
       " (509, 0.0),\n",
       " (510, 0.05492350363810897),\n",
       " (511, 0.0),\n",
       " (512, 0.0),\n",
       " (513, 0.10846522890932808),\n",
       " (514, 0.0),\n",
       " (515, 0.0),\n",
       " (516, 0.0),\n",
       " (517, 0.0),\n",
       " (518, 0.0),\n",
       " (519, 0.0),\n",
       " (520, 0.0),\n",
       " (521, 0.027461751819054483),\n",
       " (522, 0.02615328904829707),\n",
       " (523, 0.0),\n",
       " (524, 0.0),\n",
       " (525, 0.026783579200279007),\n",
       " (526, 0.030316953129541614),\n",
       " (527, 0.03656362120635653),\n",
       " (528, 0.0),\n",
       " (529, 0.1569197342897824),\n",
       " (530, 0.0),\n",
       " (531, 0.0),\n",
       " (532, 0.02271554252121273),\n",
       " (533, 0.034299717028501764),\n",
       " (534, 0.0),\n",
       " (535, 0.02782074420373286),\n",
       " (536, 0.10226199851298272),\n",
       " (537, 0.0),\n",
       " (538, 0.0),\n",
       " (539, 0.1980295085953348),\n",
       " (540, 0.02782074420373286),\n",
       " (541, 0.06875238727711584),\n",
       " (542, 0.0),\n",
       " (543, 0.0),\n",
       " (544, 0.0),\n",
       " (545, 0.0),\n",
       " (546, 0.03656362120635653),\n",
       " (547, 0.0),\n",
       " (548, 0.0),\n",
       " (549, 0.10226199851298272),\n",
       " (550, 0.026783579200279007),\n",
       " (551, 0.0),\n",
       " (552, 0.0),\n",
       " (553, 0.0),\n",
       " (554, 0.0),\n",
       " (555, 0.016277925334825298),\n",
       " (556, 0.0),\n",
       " (557, 0.10846522890932808),\n",
       " (558, 0.0),\n",
       " (559, 0.0),\n",
       " (560, 0.01917412472118426),\n",
       " (561, 0.0),\n",
       " (562, 0.0),\n",
       " (563, 0.0),\n",
       " (564, 0.0700140042014005),\n",
       " (565, 0.0),\n",
       " (566, 0.0),\n",
       " (567, 0.0),\n",
       " (568, 0.0939336436627724),\n",
       " (569, 0.026783579200279007),\n",
       " (570, 0.03742405942825598),\n",
       " (571, 0.023557142371577276),\n",
       " (572, 0.02449979787750126),\n",
       " (573, 0.0),\n",
       " (574, 0.0),\n",
       " (575, 0.0),\n",
       " (576, 0.028988551782622416),\n",
       " (577, 0.12524485821702988),\n",
       " (578, 0.021437323142813602),\n",
       " (579, 0.1345345587992625),\n",
       " (580, 0.0),\n",
       " (581, 0.06600983619844494),\n",
       " (582, 0.21613144789263333),\n",
       " (583, 0.0),\n",
       " (584, 0.044280744277004756),\n",
       " (585, 0.02711630722733202),\n",
       " (586, 0.0),\n",
       " (587, 0.02615328904829707),\n",
       " (588, 0.02782074420373286),\n",
       " (589, 0.0850871259623034),\n",
       " (590, 0.0),\n",
       " (591, 0.0),\n",
       " (592, 0.0),\n",
       " (593, 0.0),\n",
       " (594, 0.0),\n",
       " (595, 0.12507819831856498),\n",
       " (596, 0.02615328904829707),\n",
       " (597, 0.0),\n",
       " (598, 0.0),\n",
       " (599, 0.029630442547297988),\n",
       " (600, 0.025015639663712994),\n",
       " (601, 0.0),\n",
       " (602, 0.049507377148833714),\n",
       " (603, 0.0),\n",
       " (604, 0.0),\n",
       " (605, 0.027461751819054483),\n",
       " (606, 0.0),\n",
       " (607, 0.0),\n",
       " (608, 0.0),\n",
       " (609, 0.0),\n",
       " (610, 0.015590780467500802),\n",
       " (611, 0.0),\n",
       " (612, 0.0),\n",
       " (613, 0.0),\n",
       " (614, 0.05292561240249631),\n",
       " (615, 0.034299717028501764),\n",
       " (616, 0.03742405942825598),\n",
       " (617, 0.028988551782622416),\n",
       " (618, 0.0),\n",
       " (619, 0.0),\n",
       " (620, 0.0),\n",
       " (621, 0.03742405942825598),\n",
       " (622, 0.0),\n",
       " (623, 0.0),\n",
       " (624, 0.03834824944236852),\n",
       " (625, 0.0),\n",
       " (626, 0.06063390625908323),\n",
       " (627, 0.0),\n",
       " (628, 0.0),\n",
       " (629, 0.026783579200279007),\n",
       " (630, 0.0),\n",
       " (631, 0.028194193721730043),\n",
       " (632, 0.057166195047502935),\n",
       " (633, 0.0),\n",
       " (634, 0.026783579200279007),\n",
       " (635, 0.07067142711473183),\n",
       " (636, 0.0),\n",
       " (637, 0.0),\n",
       " (638, 0.0),\n",
       " (639, 0.0),\n",
       " (640, 0.021437323142813602),\n",
       " (641, 0.0),\n",
       " (642, 0.0),\n",
       " (643, 0.05492350363810897),\n",
       " (644, 0.0),\n",
       " (645, 0.0),\n",
       " (646, 0.028988551782622416),\n",
       " (647, 0.05292561240249631),\n",
       " (648, 0.0),\n",
       " (649, 0.0),\n",
       " (650, 0.028194193721730043),\n",
       " (651, 0.0),\n",
       " (652, 0.023557142371577276),\n",
       " (653, 0.041594516540385144),\n",
       " (654, 0.023124864503144014),\n",
       " (655, 0.0),\n",
       " (656, 0.0),\n",
       " (657, 0.0),\n",
       " (658, 0.0),\n",
       " (659, 0.0),\n",
       " (660, 0.0),\n",
       " (661, 0.09249945801257606),\n",
       " (662, 0.0),\n",
       " (663, 0.0),\n",
       " (664, 0.0),\n",
       " (665, 0.0),\n",
       " (666, 0.02711630722733202),\n",
       " (667, 0.0),\n",
       " (668, 0.07484811885651196),\n",
       " (669, 0.03934447376823168),\n",
       " (670, 0.0),\n",
       " (671, 0.04899959575500252),\n",
       " (672, 0.0),\n",
       " (673, 0.0),\n",
       " (674, 0.02615328904829707),\n",
       " (675, 0.0),\n",
       " (676, 0.0),\n",
       " (677, 0.0),\n",
       " (678, 0.06482037235521643),\n",
       " (679, 0.0),\n",
       " (680, 0.05882352941176469),\n",
       " (681, 0.0),\n",
       " (682, 0.0),\n",
       " (683, 0.0),\n",
       " (684, 0.0),\n",
       " (685, 0.0),\n",
       " (686, 0.03575992699260758),\n",
       " (687, 0.057166195047502935),\n",
       " (688, 0.023338001400466827),\n",
       " (689, 0.0),\n",
       " (690, 0.0),\n",
       " (691, 0.0),\n",
       " (692, 0.12126781251816647),\n",
       " (693, 0.03834824944236852),\n",
       " (694, 0.0),\n",
       " (695, 0.0),\n",
       " (696, 0.023557142371577276),\n",
       " (697, 0.0),\n",
       " (698, 0.024014605321403704),\n",
       " (699, 0.042874646285627205),\n",
       " (700, 0.0),\n",
       " (701, 0.06262242910851494),\n",
       " (702, 0.0),\n",
       " (703, 0.0),\n",
       " (704, 0.05113099925649136),\n",
       " (705, 0.0),\n",
       " (706, 0.0),\n",
       " (707, 0.0),\n",
       " (708, 0.0),\n",
       " (709, 0.02195814375455294),\n",
       " (710, 0.020951886854752806),\n",
       " (711, 0.0),\n",
       " (712, 0.0),\n",
       " (713, 0.0),\n",
       " (714, 0.0),\n",
       " (715, 0.0),\n",
       " (716, 0.0),\n",
       " (717, 0.0),\n",
       " (718, 0.0),\n",
       " (719, 0.0),\n",
       " (720, 0.0),\n",
       " (721, 0.0),\n",
       " (722, 0.0),\n",
       " (723, 0.0),\n",
       " (724, 0.0),\n",
       " (725, 0.0),\n",
       " (726, 0.0),\n",
       " (727, 0.0),\n",
       " (728, 0.0),\n",
       " (729, 0.05230657809659414),\n",
       " (730, 0.016277925334825298),\n",
       " (731, 0.0),\n",
       " (732, 0.0),\n",
       " (733, 0.04465442806891065),\n",
       " (734, 0.024753688574416857),\n",
       " (735, 0.02449979787750126),\n",
       " (736, 0.0),\n",
       " (737, 0.056388387443460086),\n",
       " (738, 0.0),\n",
       " (739, 0.0),\n",
       " (740, 0.07067142711473183),\n",
       " (741, 0.0),\n",
       " (742, 0.0),\n",
       " (743, 0.0),\n",
       " (744, 0.0),\n",
       " (745, 0.03300491809922247),\n",
       " (746, 0.0),\n",
       " (747, 0.021437323142813602),\n",
       " (748, 0.0),\n",
       " (749, 0.0),\n",
       " (750, 0.02271554252121273),\n",
       " (751, 0.0),\n",
       " (752, 0.07204381596421111),\n",
       " (753, 0.0),\n",
       " (754, 0.08458258116519013),\n",
       " (755, 0.0),\n",
       " (756, 0.0),\n",
       " (757, 0.0),\n",
       " (758, 0.02556549962824568),\n",
       " (759, 0.0),\n",
       " (760, 0.0),\n",
       " (761, 0.0),\n",
       " (762, 0.03363363969981562),\n",
       " (763, 0.0),\n",
       " (764, 0.0),\n",
       " (765, 0.027461751819054483),\n",
       " (766, 0.02782074420373286),\n",
       " (767, 0.0),\n",
       " (768, 0.0),\n",
       " (769, 0.0),\n",
       " (770, 0.024253562503633294),\n",
       " (771, 0.0),\n",
       " (772, 0.0),\n",
       " (773, 0.0),\n",
       " (774, 0.0),\n",
       " (775, 0.06369297552984819),\n",
       " (776, 0.0),\n",
       " (777, 0.05003127932742599),\n",
       " (778, 0.2045239970259654),\n",
       " (779, 0.0),\n",
       " (780, 0.0),\n",
       " (781, 0.0),\n",
       " (782, 0.025854384499750957),\n",
       " (783, 0.0),\n",
       " (784, 0.0),\n",
       " (785, 0.06285566056425843),\n",
       " (786, 0.030316953129541614),\n",
       " (787, 0.06482037235521643),\n",
       " (788, 0.0),\n",
       " (789, 0.0),\n",
       " (790, 0.05863223287455781),\n",
       " (791, 0.03742405942825598),\n",
       " (792, 0.0),\n",
       " (793, 0.0),\n",
       " (794, 0.03300491809922247),\n",
       " (795, 0.0),\n",
       " (796, 0.0),\n",
       " (797, 0.041594516540385144),\n",
       " (798, 0.0),\n",
       " (799, 0.039872611141445),\n",
       " (800, 0.0),\n",
       " (801, 0.0),\n",
       " (802, 0.0),\n",
       " (803, 0.025286086871208677),\n",
       " (804, 0.028583097523751468),\n",
       " (805, 0.0),\n",
       " (806, 0.02449979787750126),\n",
       " (807, 0.03131121455425747),\n",
       " (808, 0.044280744277004756),\n",
       " (809, 0.0),\n",
       " (810, 0.0),\n",
       " (811, 0.0),\n",
       " (812, 0.046676002800933654),\n",
       " (813, 0.0),\n",
       " (814, 0.028988551782622416),\n",
       " (815, 0.0),\n",
       " (816, 0.0),\n",
       " (817, 0.0),\n",
       " (818, 0.0),\n",
       " (819, 0.0),\n",
       " (820, 0.0),\n",
       " (821, 0.0),\n",
       " (822, 0.0),\n",
       " (823, 0.02615328904829707),\n",
       " (824, 0.0),\n",
       " (825, 0.0),\n",
       " (826, 0.0),\n",
       " (827, 0.04802921064280741),\n",
       " (828, 0.0),\n",
       " (829, 0.0),\n",
       " (830, 0.0),\n",
       " (831, 0.0),\n",
       " (832, 0.0),\n",
       " (833, 0.026783579200279007),\n",
       " (834, 0.0),\n",
       " (835, 0.027461751819054483),\n",
       " (836, 0.0),\n",
       " (837, 0.031846487764924096),\n",
       " (838, 0.12478354962115544),\n",
       " (839, 0.0),\n",
       " (840, 0.0),\n",
       " (841, 0.0),\n",
       " (842, 0.0),\n",
       " (843, 0.1449427589131121),\n",
       " (844, 0.028988551782622416),\n",
       " (845, 0.0),\n",
       " (846, 0.020646003475383347),\n",
       " (847, 0.050435306986068934),\n",
       " (848, 0.020072391147592506),\n",
       " (849, 0.0),\n",
       " (850, 0.0),\n",
       " (851, 0.02782074420373286),\n",
       " (852, 0.0),\n",
       " (853, 0.0),\n",
       " (854, 0.028988551782622416),\n",
       " (855, 0.056388387443460086),\n",
       " (856, 0.0),\n",
       " (857, 0.0),\n",
       " (858, 0.0),\n",
       " (859, 0.031846487764924096),\n",
       " (860, 0.036986336072765455),\n",
       " (861, 0.021780342093451605),\n",
       " (862, 0.028583097523751468),\n",
       " (863, 0.03363363969981562),\n",
       " (864, 0.0),\n",
       " (865, 0.0),\n",
       " (866, 0.047565149415449405),\n",
       " (867, 0.0),\n",
       " (868, 0.0),\n",
       " (869, 0.02711630722733202),\n",
       " (870, 0.026462806201248155),\n",
       " (871, 0.05292561240249631),\n",
       " (872, 0.0),\n",
       " (873, 0.0),\n",
       " (874, 0.0),\n",
       " (875, 0.029411764705882346),\n",
       " (876, 0.0),\n",
       " (877, 0.0),\n",
       " (878, 0.10969086361906957),\n",
       " (879, 0.0),\n",
       " (880, 0.0),\n",
       " (881, 0.0),\n",
       " (882, 0.0),\n",
       " (883, 0.027461751819054483),\n",
       " (884, 0.0),\n",
       " (885, 0.05492350363810897),\n",
       " (886, 0.0),\n",
       " (887, 0.01860163329510811),\n",
       " (888, 0.0),\n",
       " (889, 0.10613237065158374),\n",
       " (890, 0.0),\n",
       " (891, 0.0),\n",
       " (892, 0.0),\n",
       " (893, 0.0),\n",
       " (894, 0.03131121455425747),\n",
       " (895, 0.0),\n",
       " (896, 0.0),\n",
       " (897, 0.044280744277004756),\n",
       " (898, 0.02711630722733202),\n",
       " (899, 0.030316953129541614),\n",
       " (900, 0.07845986714489121),\n",
       " (901, 0.05797710356524483),\n",
       " (902, 0.0),\n",
       " (903, 0.0),\n",
       " (904, 0.0),\n",
       " (905, 0.0),\n",
       " (906, 0.0),\n",
       " (907, 0.0),\n",
       " (908, 0.053567158400558014),\n",
       " (909, 0.0),\n",
       " (910, 0.0),\n",
       " (911, 0.0),\n",
       " (912, 0.0),\n",
       " (913, 0.0),\n",
       " (914, 0.0),\n",
       " (915, 0.0),\n",
       " (916, 0.03742405942825598),\n",
       " (917, 0.0),\n",
       " (918, 0.0),\n",
       " (919, 0.0),\n",
       " (920, 0.0),\n",
       " (921, 0.0),\n",
       " (922, 0.0),\n",
       " (923, 0.0),\n",
       " (924, 0.0),\n",
       " (925, 0.0),\n",
       " (926, 0.0),\n",
       " (927, 0.0),\n",
       " (928, 0.0),\n",
       " (929, 0.0),\n",
       " (930, 0.02711630722733202),\n",
       " (931, 0.06859943405700353),\n",
       " (932, 0.02615328904829707),\n",
       " (933, 0.026462806201248155),\n",
       " (934, 0.0),\n",
       " (935, 0.040422604172722164),\n",
       " (936, 0.0),\n",
       " (937, 0.08346223261119858),\n",
       " (938, 0.028583097523751468),\n",
       " (939, 0.039605901719066965),\n",
       " (940, 0.0),\n",
       " (941, 0.0),\n",
       " (942, 0.11433239009500587),\n",
       " (943, 0.0),\n",
       " (944, 0.0),\n",
       " (945, 0.03363363969981562),\n",
       " (946, 0.026783579200279007),\n",
       " (947, 0.0),\n",
       " (948, 0.0),\n",
       " (949, 0.0),\n",
       " (950, 0.0),\n",
       " (951, 0.03500700210070025),\n",
       " (952, 0.0),\n",
       " (953, 0.0),\n",
       " (954, 0.0),\n",
       " (955, 0.0),\n",
       " (956, 0.0),\n",
       " (957, 0.034299717028501764),\n",
       " (958, 0.026783579200279007),\n",
       " (959, 0.0),\n",
       " (960, 0.0),\n",
       " (961, 0.0),\n",
       " (962, 0.0),\n",
       " (963, 0.045037734911104486),\n",
       " (964, 0.0),\n",
       " (965, 0.0),\n",
       " (966, 0.0),\n",
       " (967, 0.0),\n",
       " (968, 0.0),\n",
       " (969, 0.020951886854752806),\n",
       " (970, 0.03363363969981562),\n",
       " (971, 0.0),\n",
       " (972, 0.10502100630210075),\n",
       " (973, 0.09723055853282464),\n",
       " (974, 0.01267754020759564),\n",
       " (975, 0.012409202105269959),\n",
       " (976, 0.0),\n",
       " (977, 0.0),\n",
       " (978, 0.0),\n",
       " (979, 0.0),\n",
       " (980, 0.0),\n",
       " (981, 0.0),\n",
       " (982, 0.0),\n",
       " (983, 0.0),\n",
       " (984, 0.031846487764924096),\n",
       " (985, 0.01768872844193062),\n",
       " (986, 0.0),\n",
       " (987, 0.0),\n",
       " (988, 0.056388387443460086),\n",
       " (989, 0.031846487764924096),\n",
       " (990, 0.0),\n",
       " (991, 0.0),\n",
       " (992, 0.0),\n",
       " (993, 0.03363363969981562),\n",
       " (994, 0.0),\n",
       " (995, 0.041594516540385144),\n",
       " (996, 0.0),\n",
       " (997, 0.049507377148833714),\n",
       " (998, 0.0),\n",
       " (999, 0.0),\n",
       " ...]"
      ]
     },
     "execution_count": 115,
     "metadata": {},
     "output_type": "execute_result"
    }
   ],
   "source": [
    "list(enumerate(similarity[0]))\n",
    "# this will give us the similarity between moive 0 and all the other movies"
   ]
  },
  {
   "cell_type": "code",
   "execution_count": 118,
   "id": "58c872d6-c0a9-48f6-b4a7-faaba7ebe77b",
   "metadata": {
    "scrolled": true,
    "tags": []
   },
   "outputs": [
    {
     "data": {
      "text/plain": [
       "[(0, 1.0),\n",
       " (1216, 0.25142264225703365),\n",
       " (2409, 0.24404676504598818),\n",
       " (582, 0.21613144789263333),\n",
       " (507, 0.20812378052829614),\n",
       " (3730, 0.20797258270192573),\n",
       " (778, 0.2045239970259654),\n",
       " (3608, 0.19926334924652142),\n",
       " (539, 0.1980295085953348),\n",
       " (1920, 0.19474520942613002),\n",
       " (1204, 0.18981415059132414),\n",
       " (2786, 0.17503501050350123),\n",
       " (74, 0.16977493752543305),\n",
       " (1089, 0.16516802780306677),\n",
       " (3675, 0.1647705109143269),\n",
       " (1321, 0.16169041669088866),\n",
       " (3538, 0.15877683720748892),\n",
       " (529, 0.1569197342897824),\n",
       " (151, 0.15339299776947407),\n",
       " (2333, 0.150093837982278),\n",
       " (373, 0.14969623771302393),\n",
       " (1201, 0.14969623771302393),\n",
       " (4192, 0.14969623771302393),\n",
       " (47, 0.14890247043403096),\n",
       " (4048, 0.14777011582226215),\n",
       " (2971, 0.14666320798326962),\n",
       " (843, 0.1449427589131121),\n",
       " (2515, 0.1430397079704303),\n",
       " (1071, 0.14291548761875733),\n",
       " (305, 0.14269544824634822),\n",
       " (3327, 0.14269544824634822),\n",
       " (184, 0.14097096860865022),\n",
       " (1774, 0.140028008402801),\n",
       " (2731, 0.140028008402801),\n",
       " (3162, 0.14002800840280097),\n",
       " (2204, 0.1373087590952724),\n",
       " (4336, 0.1373087590952724),\n",
       " (1275, 0.13719886811400706),\n",
       " (27, 0.13629325512727639),\n",
       " (579, 0.1345345587992625),\n",
       " (1329, 0.1345345587992625),\n",
       " (1479, 0.13396328420673195),\n",
       " (172, 0.13284223283101426),\n",
       " (3083, 0.13284223283101426),\n",
       " (220, 0.1320196723968899),\n",
       " (4, 0.1292719224987548),\n",
       " (1056, 0.1292719224987548),\n",
       " (577, 0.12524485821702988),\n",
       " (595, 0.12507819831856498),\n",
       " (838, 0.12478354962115544),\n",
       " (1348, 0.12478354962115543),\n",
       " (4538, 0.1224989893875063),\n",
       " (692, 0.12126781251816647),\n",
       " (502, 0.12007302660701852),\n",
       " (322, 0.11941628680530642),\n",
       " (150, 0.1188177051572009),\n",
       " (342, 0.11651034560709259),\n",
       " (61, 0.11504474832710555),\n",
       " (1166, 0.11504474832710555),\n",
       " (942, 0.11433239009500587),\n",
       " (1560, 0.11433239009500587),\n",
       " (3982, 0.11227217828476795),\n",
       " (1383, 0.11128297681493143),\n",
       " (311, 0.10984700727621793),\n",
       " (878, 0.10969086361906957),\n",
       " (300, 0.10846522890932808),\n",
       " (513, 0.10846522890932808),\n",
       " (557, 0.10846522890932808),\n",
       " (3628, 0.10846522890932808),\n",
       " (495, 0.10727978097782273),\n",
       " (36, 0.10713431680111603),\n",
       " (438, 0.10713431680111603),\n",
       " (1965, 0.10635890745287925),\n",
       " (889, 0.10613237065158374),\n",
       " (1355, 0.10585122480499262),\n",
       " (149, 0.10555008273018726),\n",
       " (972, 0.10502100630210075),\n",
       " (3999, 0.10502100630210075),\n",
       " (41, 0.10461315619318828),\n",
       " (2284, 0.10461315619318828),\n",
       " (1322, 0.10398629135096286),\n",
       " (2789, 0.10341753799900383),\n",
       " (260, 0.10289915108550529),\n",
       " (2652, 0.10289915108550529),\n",
       " (536, 0.10226199851298272),\n",
       " (549, 0.10226199851298272),\n",
       " (1537, 0.10226199851298272),\n",
       " (454, 0.10114434748483471),\n",
       " (1357, 0.10114434748483471),\n",
       " (2547, 0.10114434748483471),\n",
       " (236, 0.10090091909944687),\n",
       " (3462, 0.09901475429766743),\n",
       " (4587, 0.09901475429766743),\n",
       " (275, 0.09723055853282464),\n",
       " (973, 0.09723055853282464),\n",
       " (1097, 0.0955394632947723),\n",
       " (1982, 0.09553946329477228),\n",
       " (1444, 0.09513029883089881),\n",
       " (2740, 0.0942285694863091),\n",
       " (461, 0.0939336436627724),\n",
       " (568, 0.0939336436627724),\n",
       " (2873, 0.09335200560186731),\n",
       " (661, 0.09249945801257606),\n",
       " (2760, 0.09249945801257606),\n",
       " (3630, 0.09249945801257606),\n",
       " (91, 0.09240616554505461),\n",
       " (2674, 0.09166984970282112),\n",
       " (67, 0.09095085938862485),\n",
       " (1178, 0.09095085938862485),\n",
       " (3409, 0.09095085938862485),\n",
       " (1741, 0.09086217008485092),\n",
       " (4506, 0.0893088561378213),\n",
       " (2099, 0.08856148855400953),\n",
       " (1715, 0.08856148855400951),\n",
       " (1002, 0.08712136837380642),\n",
       " (2247, 0.08696565534786725),\n",
       " (3164, 0.08696565534786725),\n",
       " (3622, 0.08696565534786725),\n",
       " (4079, 0.08696565534786725),\n",
       " (168, 0.08574929257125441),\n",
       " (189, 0.08574929257125441),\n",
       " (1015, 0.08574929257125441),\n",
       " (1045, 0.08574929257125441),\n",
       " (1194, 0.08574929257125441),\n",
       " (1771, 0.08574929257125441),\n",
       " (2551, 0.08574929257125441),\n",
       " (3117, 0.08574929257125441),\n",
       " (3716, 0.08574929257125441),\n",
       " (4230, 0.08574929257125441),\n",
       " (589, 0.0850871259623034),\n",
       " (26, 0.08458258116519013),\n",
       " (754, 0.08458258116519013),\n",
       " (937, 0.08346223261119858),\n",
       " (1344, 0.08346223261119858),\n",
       " (2148, 0.08346223261119858),\n",
       " (2219, 0.08346223261119858),\n",
       " (2556, 0.08346223261119858),\n",
       " (3874, 0.08346223261119858),\n",
       " (307, 0.08328707558159618),\n",
       " (1254, 0.08318903308077029),\n",
       " (1488, 0.08318903308077029),\n",
       " (1497, 0.08318903308077029),\n",
       " (2772, 0.08318903308077029),\n",
       " (2999, 0.08318903308077029),\n",
       " (3839, 0.08318903308077029),\n",
       " (4011, 0.08318903308077029),\n",
       " (4545, 0.08258401390153339),\n",
       " (111, 0.08238525545716345),\n",
       " (445, 0.08238525545716345),\n",
       " (1831, 0.08238525545716345),\n",
       " (4268, 0.08238525545716345),\n",
       " (1745, 0.08084520834544433),\n",
       " (2456, 0.08084520834544433),\n",
       " (3147, 0.08084520834544433),\n",
       " (52, 0.08035073760083702),\n",
       " (108, 0.08035073760083702),\n",
       " (239, 0.07868894753646336),\n",
       " (249, 0.07868894753646336),\n",
       " (3976, 0.07868894753646336),\n",
       " (95, 0.07845986714489121),\n",
       " (900, 0.07845986714489121),\n",
       " (1273, 0.07845986714489121),\n",
       " (1765, 0.07845986714489121),\n",
       " (2241, 0.07845986714489121),\n",
       " (3235, 0.07845986714489121),\n",
       " (83, 0.07756315349925287),\n",
       " (4483, 0.07756315349925287),\n",
       " (476, 0.07669649888473704),\n",
       " (2584, 0.07669649888473704),\n",
       " (2622, 0.07669649888473704),\n",
       " (2787, 0.07669649888473704),\n",
       " (3020, 0.07669649888473704),\n",
       " (3663, 0.07669649888473704),\n",
       " (3954, 0.07669649888473704),\n",
       " (2488, 0.07585826061362604),\n",
       " (479, 0.075755401907857),\n",
       " (1220, 0.07504691899113898),\n",
       " (1846, 0.07504691899113898),\n",
       " (668, 0.07484811885651196),\n",
       " (1373, 0.07484811885651196),\n",
       " (2970, 0.07484811885651196),\n",
       " (432, 0.07426106572325057),\n",
       " (1418, 0.07426106572325057),\n",
       " (2109, 0.07426106572325057),\n",
       " (1538, 0.07349939363250378),\n",
       " (3881, 0.07349939363250378),\n",
       " (94, 0.07312724241271305),\n",
       " (134, 0.07312724241271305),\n",
       " (368, 0.07312724241271305),\n",
       " (1573, 0.07312724241271305),\n",
       " (4351, 0.07312724241271305),\n",
       " (1512, 0.07276068751089988),\n",
       " (2372, 0.07276068751089988),\n",
       " (3553, 0.07276068751089988),\n",
       " (752, 0.07204381596421111),\n",
       " (31, 0.07151985398521515),\n",
       " (487, 0.07151985398521515),\n",
       " (1486, 0.07151985398521515),\n",
       " (3195, 0.07151985398521515),\n",
       " (3376, 0.07151985398521515),\n",
       " (3537, 0.07151985398521515),\n",
       " (4472, 0.07151985398521515),\n",
       " (281, 0.07134772412317411),\n",
       " (1531, 0.07134772412317411),\n",
       " (635, 0.07067142711473183),\n",
       " (740, 0.07067142711473183),\n",
       " (85, 0.0700140042014005),\n",
       " (564, 0.0700140042014005),\n",
       " (1274, 0.0700140042014005),\n",
       " (1304, 0.0700140042014005),\n",
       " (1455, 0.07001400420140048),\n",
       " (3093, 0.07001400420140048),\n",
       " (170, 0.06937459350943204),\n",
       " (541, 0.06875238727711584),\n",
       " (244, 0.06859943405700353),\n",
       " (931, 0.06859943405700353),\n",
       " (2741, 0.06859943405700353),\n",
       " (3736, 0.06859943405700353),\n",
       " (274, 0.06843538575349505),\n",
       " (102, 0.06755660236665673),\n",
       " (1878, 0.06755660236665673),\n",
       " (2203, 0.06755660236665673),\n",
       " (294, 0.06726727939963124),\n",
       " (2093, 0.06726727939963124),\n",
       " (2718, 0.06726727939963124),\n",
       " (3449, 0.06726727939963124),\n",
       " (4652, 0.06726727939963124),\n",
       " (139, 0.06642111641550713),\n",
       " (3441, 0.06642111641550713),\n",
       " (581, 0.06600983619844494),\n",
       " (2060, 0.06600983619844494),\n",
       " (3109, 0.06600983619844494),\n",
       " (3135, 0.06600983619844494),\n",
       " (4408, 0.06600983619844494),\n",
       " (4468, 0.06600983619844494),\n",
       " (17, 0.06587443126365883),\n",
       " (1439, 0.06587443126365883),\n",
       " (1405, 0.06534102628035482),\n",
       " (2648, 0.0653410262803548),\n",
       " (3331, 0.06511170133930119),\n",
       " (141, 0.06482037235521643),\n",
       " (363, 0.06482037235521643),\n",
       " (678, 0.06482037235521643),\n",
       " (787, 0.06482037235521643),\n",
       " (1207, 0.06482037235521643),\n",
       " (1356, 0.06482037235521643),\n",
       " (1775, 0.06482037235521643),\n",
       " (2216, 0.06482037235521643),\n",
       " (2660, 0.06482037235521643),\n",
       " (2955, 0.06482037235521643),\n",
       " (3448, 0.06482037235521643),\n",
       " (3634, 0.06482037235521643),\n",
       " (4046, 0.06482037235521643),\n",
       " (4793, 0.06482037235521643),\n",
       " (1007, 0.06431196942844081),\n",
       " (286, 0.06381534447172756),\n",
       " (1534, 0.06381534447172756),\n",
       " (2397, 0.06381534447172756),\n",
       " (775, 0.06369297552984819),\n",
       " (1301, 0.06369297552984819),\n",
       " (1427, 0.06369297552984819),\n",
       " (3131, 0.06369297552984819),\n",
       " (3301, 0.06369297552984819),\n",
       " (4042, 0.06369297552984819),\n",
       " (4112, 0.06369297552984819),\n",
       " (4125, 0.06369297552984819),\n",
       " (1659, 0.06333004963811235),\n",
       " (1926, 0.06333004963811235),\n",
       " (246, 0.06285566056425843),\n",
       " (785, 0.06285566056425843),\n",
       " (3560, 0.06285566056425843),\n",
       " (87, 0.06262242910851494),\n",
       " (422, 0.06262242910851494),\n",
       " (701, 0.06262242910851494),\n",
       " (1378, 0.06262242910851494),\n",
       " (1616, 0.06262242910851494),\n",
       " (1929, 0.06262242910851494),\n",
       " (2496, 0.06262242910851494),\n",
       " (4578, 0.06262242910851494),\n",
       " (4754, 0.06262242910851494),\n",
       " (1491, 0.06237343238042664),\n",
       " (295, 0.06160411036336974),\n",
       " (1031, 0.06160411036336974),\n",
       " (2768, 0.06160411036336974),\n",
       " (3754, 0.06160411036336974),\n",
       " (18, 0.06149400462680908),\n",
       " (127, 0.06105941257599791),\n",
       " (2570, 0.06105941257599791),\n",
       " (1574, 0.0610594125759979),\n",
       " (3, 0.06063390625908324),\n",
       " (449, 0.06063390625908323),\n",
       " (626, 0.06063390625908323),\n",
       " (1161, 0.06063390625908323),\n",
       " (2232, 0.06063390625908323),\n",
       " (2593, 0.06063390625908323),\n",
       " (3008, 0.06063390625908323),\n",
       " (3084, 0.06063390625908323),\n",
       " (3919, 0.06063390625908323),\n",
       " (4097, 0.06063390625908323),\n",
       " (4246, 0.06063390625908323),\n",
       " (206, 0.059808916712167495),\n",
       " (21, 0.05970814340265321),\n",
       " (1519, 0.05970814340265321),\n",
       " (1808, 0.05970814340265321),\n",
       " (3431, 0.05940885257860044),\n",
       " (126, 0.05882352941176469),\n",
       " (313, 0.05882352941176469),\n",
       " (680, 0.05882352941176469),\n",
       " (1237, 0.05882352941176469),\n",
       " (2552, 0.05882352941176469),\n",
       " (2644, 0.05882352941176469),\n",
       " (3182, 0.05882352941176469),\n",
       " (4558, 0.05882352941176469),\n",
       " (790, 0.05863223287455781),\n",
       " (901, 0.05797710356524483),\n",
       " (2181, 0.05797710356524483),\n",
       " (2295, 0.05797710356524483),\n",
       " (2902, 0.05797710356524483),\n",
       " (3233, 0.05797710356524483),\n",
       " (3340, 0.05797710356524483),\n",
       " (229, 0.05788529495093047),\n",
       " (223, 0.057166195047502935),\n",
       " (632, 0.057166195047502935),\n",
       " (687, 0.057166195047502935),\n",
       " (1086, 0.057166195047502935),\n",
       " (1231, 0.057166195047502935),\n",
       " (1294, 0.057166195047502935),\n",
       " (1747, 0.057166195047502935),\n",
       " (2115, 0.057166195047502935),\n",
       " (2419, 0.057166195047502935),\n",
       " (2432, 0.057166195047502935),\n",
       " (2817, 0.057166195047502935),\n",
       " (3299, 0.057166195047502935),\n",
       " (3507, 0.057166195047502935),\n",
       " (3720, 0.057166195047502935),\n",
       " (3755, 0.057166195047502935),\n",
       " (4757, 0.057166195047502935),\n",
       " (75, 0.056388387443460086),\n",
       " (312, 0.056388387443460086),\n",
       " (369, 0.056388387443460086),\n",
       " (430, 0.056388387443460086),\n",
       " (492, 0.056388387443460086),\n",
       " (737, 0.056388387443460086),\n",
       " (855, 0.056388387443460086),\n",
       " (988, 0.056388387443460086),\n",
       " (4341, 0.056388387443460086),\n",
       " (3212, 0.05601120336112039),\n",
       " (166, 0.05564148840746572),\n",
       " (1109, 0.05564148840746572),\n",
       " (2449, 0.05564148840746572),\n",
       " (2938, 0.05564148840746572),\n",
       " (3028, 0.05564148840746572),\n",
       " (3673, 0.05564148840746572),\n",
       " (4624, 0.05564148840746572),\n",
       " (160, 0.05547950410914818),\n",
       " (7, 0.05492350363810897),\n",
       " (365, 0.05492350363810897),\n",
       " (510, 0.05492350363810897),\n",
       " (643, 0.05492350363810897),\n",
       " (885, 0.05492350363810897),\n",
       " (1297, 0.05492350363810897),\n",
       " (1823, 0.05492350363810897),\n",
       " (2253, 0.05492350363810897),\n",
       " (2440, 0.05492350363810897),\n",
       " (2450, 0.05492350363810897),\n",
       " (3864, 0.05492350363810897),\n",
       " (361, 0.05423261445466404),\n",
       " (1070, 0.05423261445466404),\n",
       " (1614, 0.05423261445466404),\n",
       " (2813, 0.05423261445466404),\n",
       " (3935, 0.05423261445466404),\n",
       " (4205, 0.05423261445466404),\n",
       " (4512, 0.05423261445466404),\n",
       " (4640, 0.05423261445466404),\n",
       " (266, 0.053567158400558014),\n",
       " (480, 0.053567158400558014),\n",
       " (908, 0.053567158400558014),\n",
       " (1401, 0.053567158400558014),\n",
       " (3022, 0.053567158400558014),\n",
       " (3305, 0.053567158400558014),\n",
       " (3478, 0.053567158400558014),\n",
       " (3783, 0.053567158400558014),\n",
       " (4087, 0.053567158400558014),\n",
       " (614, 0.05292561240249631),\n",
       " (647, 0.05292561240249631),\n",
       " (871, 0.05292561240249631),\n",
       " (1145, 0.05292561240249631),\n",
       " (2021, 0.05292561240249631),\n",
       " (3423, 0.05292561240249631),\n",
       " (4080, 0.05292561240249631),\n",
       " (4265, 0.05292561240249631),\n",
       " (4019, 0.05278615073083401),\n",
       " (729, 0.05230657809659414),\n",
       " (1970, 0.05230657809659414),\n",
       " (2592, 0.05230657809659414),\n",
       " (3206, 0.05230657809659414),\n",
       " (3475, 0.05230657809659414),\n",
       " (3737, 0.05230657809659414),\n",
       " (3838, 0.05230657809659414),\n",
       " (278, 0.051708768999501914),\n",
       " (473, 0.051708768999501914),\n",
       " (1629, 0.051708768999501914),\n",
       " (2331, 0.051708768999501914),\n",
       " (2376, 0.051708768999501914),\n",
       " (2529, 0.051708768999501914),\n",
       " (2701, 0.051708768999501914),\n",
       " (3393, 0.051708768999501914),\n",
       " (3497, 0.051708768999501914),\n",
       " (3733, 0.051708768999501914),\n",
       " (2519, 0.051449575542752646),\n",
       " (182, 0.05113099925649136),\n",
       " (704, 0.05113099925649136),\n",
       " (1432, 0.05113099925649136),\n",
       " (1446, 0.05113099925649136),\n",
       " (1617, 0.05113099925649136),\n",
       " (1847, 0.05113099925649136),\n",
       " (2650, 0.05113099925649136),\n",
       " (3300, 0.05113099925649136),\n",
       " (3485, 0.05113099925649136),\n",
       " (192, 0.050572173742417355),\n",
       " (279, 0.050572173742417355),\n",
       " (1906, 0.050572173742417355),\n",
       " (2002, 0.050572173742417355),\n",
       " (3310, 0.050572173742417355),\n",
       " (3493, 0.050572173742417355),\n",
       " (3748, 0.050572173742417355),\n",
       " (847, 0.050435306986068934),\n",
       " (777, 0.05003127932742599),\n",
       " (3392, 0.05003127932742599),\n",
       " (3588, 0.05003127932742599),\n",
       " (3910, 0.05003127932742599),\n",
       " (4325, 0.05003127932742599),\n",
       " (43, 0.049507377148833714),\n",
       " (158, 0.049507377148833714),\n",
       " (602, 0.049507377148833714),\n",
       " (997, 0.049507377148833714),\n",
       " (1278, 0.049507377148833714),\n",
       " (1698, 0.049507377148833714),\n",
       " (1802, 0.049507377148833714),\n",
       " (1957, 0.049507377148833714),\n",
       " (2018, 0.049507377148833714),\n",
       " (2133, 0.049507377148833714),\n",
       " (2880, 0.049507377148833714),\n",
       " (3225, 0.049507377148833714),\n",
       " (3389, 0.049507377148833714),\n",
       " (3879, 0.049507377148833714),\n",
       " (3978, 0.049507377148833714),\n",
       " (4606, 0.049507377148833714),\n",
       " (4619, 0.049507377148833714),\n",
       " (4679, 0.049507377148833714),\n",
       " (123, 0.04899959575500252),\n",
       " (671, 0.04899959575500252),\n",
       " (3443, 0.04899959575500252),\n",
       " (4343, 0.04899959575500252),\n",
       " (4392, 0.04899959575500252),\n",
       " (228, 0.04850712500726659),\n",
       " (331, 0.04850712500726659),\n",
       " (1214, 0.04850712500726659),\n",
       " (1783, 0.04850712500726659),\n",
       " (2130, 0.04850712500726659),\n",
       " (3309, 0.04850712500726659),\n",
       " (270, 0.04802921064280741),\n",
       " (827, 0.04802921064280741),\n",
       " (1121, 0.04802921064280741),\n",
       " (3174, 0.04802921064280741),\n",
       " (866, 0.047565149415449405),\n",
       " (1018, 0.047565149415449405),\n",
       " (1175, 0.047565149415449405),\n",
       " (1530, 0.047565149415449405),\n",
       " (1725, 0.047565149415449405),\n",
       " (1832, 0.047565149415449405),\n",
       " (1958, 0.047565149415449405),\n",
       " (2388, 0.047565149415449405),\n",
       " (2894, 0.047565149415449405),\n",
       " (3180, 0.047565149415449405),\n",
       " (3728, 0.047565149415449405),\n",
       " (3914, 0.047565149415449405),\n",
       " (3930, 0.047565149415449405),\n",
       " (3938, 0.047565149415449405),\n",
       " (3941, 0.047565149415449405),\n",
       " (4448, 0.04736317334630044),\n",
       " (5, 0.04711428474315455),\n",
       " (1462, 0.04711428474315455),\n",
       " (2968, 0.04711428474315455),\n",
       " (217, 0.046676002800933654),\n",
       " (812, 0.046676002800933654),\n",
       " (89, 0.04639051998342824),\n",
       " (262, 0.04624972900628803),\n",
       " (467, 0.04624972900628803),\n",
       " (1396, 0.04624972900628803),\n",
       " (1817, 0.04624972900628803),\n",
       " (3740, 0.04624972900628803),\n",
       " (3810, 0.046203082772527305),\n",
       " (48, 0.04583492485141056),\n",
       " (84, 0.04583492485141056),\n",
       " (251, 0.04583492485141056),\n",
       " (1496, 0.04583492485141056),\n",
       " (1639, 0.04583492485141056),\n",
       " (2671, 0.04583492485141056),\n",
       " (2853, 0.04583492485141056),\n",
       " (2877, 0.04583492485141056),\n",
       " (3070, 0.04583492485141056),\n",
       " (3218, 0.04583492485141056),\n",
       " (3298, 0.04583492485141056),\n",
       " (3519, 0.04583492485141056),\n",
       " (3753, 0.04583492485141056),\n",
       " (4000, 0.04583492485141056),\n",
       " (4236, 0.04583492485141056),\n",
       " (4243, 0.04583492485141056),\n",
       " (4492, 0.04583492485141056),\n",
       " (4555, 0.04583492485141056),\n",
       " (4654, 0.04583492485141056),\n",
       " (1191, 0.04543108504242546),\n",
       " (2498, 0.04543108504242546),\n",
       " (3078, 0.04543108504242546),\n",
       " (3344, 0.04543108504242546),\n",
       " (45, 0.045037734911104486),\n",
       " (963, 0.045037734911104486),\n",
       " (2439, 0.045037734911104486),\n",
       " (3013, 0.045037734911104486),\n",
       " (3905, 0.045037734911104486),\n",
       " (4798, 0.045037734911104486),\n",
       " (733, 0.04465442806891065),\n",
       " (63, 0.044280744277004756),\n",
       " (455, 0.044280744277004756),\n",
       " (584, 0.044280744277004756),\n",
       " (808, 0.044280744277004756),\n",
       " (897, 0.044280744277004756),\n",
       " (1655, 0.044280744277004756),\n",
       " (1898, 0.044280744277004756),\n",
       " (1922, 0.044280744277004756),\n",
       " (2297, 0.044280744277004756),\n",
       " (2573, 0.044280744277004756),\n",
       " (3072, 0.044280744277004756),\n",
       " (3098, 0.044280744277004756),\n",
       " (3430, 0.044280744277004756),\n",
       " (4139, 0.044280744277004756),\n",
       " (4279, 0.044280744277004756),\n",
       " (4332, 0.044280744277004756),\n",
       " (4412, 0.044280744277004756),\n",
       " (4651, 0.044280744277004756),\n",
       " (375, 0.04391628750910588),\n",
       " (4138, 0.04391628750910588),\n",
       " (156, 0.04356068418690321),\n",
       " (222, 0.04356068418690321),\n",
       " (491, 0.04356068418690321),\n",
       " (2663, 0.04356068418690321),\n",
       " (2792, 0.04356068418690321),\n",
       " (3777, 0.04356068418690321),\n",
       " (4627, 0.04356068418690321),\n",
       " (4695, 0.04356068418690321),\n",
       " (4789, 0.04356068418690321),\n",
       " (4310, 0.04321358157014428),\n",
       " (4358, 0.04321358157014428),\n",
       " (179, 0.042874646285627205),\n",
       " (699, 0.042874646285627205),\n",
       " (1327, 0.042874646285627205),\n",
       " (1782, 0.042874646285627205),\n",
       " (1828, 0.042874646285627205),\n",
       " (2136, 0.042874646285627205),\n",
       " (2205, 0.042874646285627205),\n",
       " (2226, 0.042874646285627205),\n",
       " (2417, 0.042874646285627205),\n",
       " (2621, 0.042874646285627205),\n",
       " (2712, 0.042874646285627205),\n",
       " (2725, 0.042874646285627205),\n",
       " (3069, 0.042874646285627205),\n",
       " (3505, 0.042874646285627205),\n",
       " (3775, 0.042874646285627205),\n",
       " (4044, 0.042874646285627205),\n",
       " (4120, 0.042874646285627205),\n",
       " (4655, 0.042874646285627205),\n",
       " (153, 0.0425435629811517),\n",
       " (1130, 0.0425435629811517),\n",
       " (2567, 0.0425435629811517),\n",
       " (1099, 0.0422200330920749),\n",
       " (304, 0.042008402520840295),\n",
       " (200, 0.041594516540385144),\n",
       " (256, 0.041594516540385144),\n",
       " (466, 0.041594516540385144),\n",
       " (490, 0.041594516540385144),\n",
       " (653, 0.041594516540385144),\n",
       " (797, 0.041594516540385144),\n",
       " (995, 0.041594516540385144),\n",
       " (1282, 0.041594516540385144),\n",
       " (1489, 0.041594516540385144),\n",
       " (2634, 0.041594516540385144),\n",
       " (2762, 0.041594516540385144),\n",
       " (3126, 0.041594516540385144),\n",
       " (3217, 0.041594516540385144),\n",
       " (3781, 0.041594516540385144),\n",
       " (4477, 0.041594516540385144),\n",
       " (2256, 0.041292006950766694),\n",
       " (2729, 0.041292006950766694),\n",
       " (4330, 0.041292006950766694),\n",
       " (125, 0.04080216746870543),\n",
       " (238, 0.040422604172722164),\n",
       " (325, 0.040422604172722164),\n",
       " (935, 0.040422604172722164),\n",
       " (1240, 0.040422604172722164),\n",
       " (1413, 0.040422604172722164),\n",
       " (1582, 0.040422604172722164),\n",
       " (2161, 0.040422604172722164),\n",
       " (2479, 0.040422604172722164),\n",
       " (2640, 0.040422604172722164),\n",
       " (2812, 0.040422604172722164),\n",
       " (3103, 0.040422604172722164),\n",
       " (3483, 0.040422604172722164),\n",
       " (3621, 0.040422604172722164),\n",
       " (4474, 0.040422604172722164),\n",
       " (81, 0.04014478229518501),\n",
       " (301, 0.04014478229518501),\n",
       " (1918, 0.04014478229518501),\n",
       " (2150, 0.04014478229518501),\n",
       " (2367, 0.04014478229518501),\n",
       " (2539, 0.04014478229518501),\n",
       " (2920, 0.04014478229518501),\n",
       " (4100, 0.04014478229518501),\n",
       " (799, 0.039872611141445),\n",
       " (1487, 0.039872611141445),\n",
       " (230, 0.039605901719066965),\n",
       " (939, 0.039605901719066965),\n",
       " (56, 0.03934447376823168),\n",
       " (418, 0.03934447376823168),\n",
       " (505, 0.03934447376823168),\n",
       " (506, 0.03934447376823168),\n",
       " (669, 0.03934447376823168),\n",
       " (1689, 0.03934447376823168),\n",
       " (1884, 0.03934447376823168),\n",
       " (1911, 0.03934447376823168),\n",
       " (2445, 0.03934447376823168),\n",
       " (2581, 0.03934447376823168),\n",
       " (2854, 0.03934447376823168),\n",
       " (2913, 0.03934447376823168),\n",
       " (3129, 0.03934447376823168),\n",
       " (3223, 0.03934447376823168),\n",
       " (3488, 0.03934447376823168),\n",
       " (3678, 0.03934447376823168),\n",
       " (3996, 0.03934447376823168),\n",
       " (4559, 0.03934447376823168),\n",
       " (4632, 0.03934447376823168),\n",
       " (2474, 0.03908815524970521),\n",
       " (3201, 0.03883678186903086),\n",
       " (308, 0.03834824944236852),\n",
       " (624, 0.03834824944236852),\n",
       " (693, 0.03834824944236852),\n",
       " (1328, 0.03834824944236852),\n",
       " (1706, 0.03834824944236852),\n",
       " (1849, 0.03834824944236852),\n",
       " (2435, 0.03834824944236852),\n",
       " (2457, 0.03834824944236852),\n",
       " (2623, 0.03834824944236852),\n",
       " (2763, 0.03834824944236852),\n",
       " (2783, 0.03834824944236852),\n",
       " (3240, 0.03834824944236852),\n",
       " (3886, 0.03834824944236852),\n",
       " (3891, 0.03834824944236852),\n",
       " (4216, 0.03834824944236852),\n",
       " (4486, 0.03834824944236852),\n",
       " (1477, 0.0378777009539285),\n",
       " (2032, 0.0378777009539285),\n",
       " (105, 0.03742405942825598),\n",
       " (157, 0.03742405942825598),\n",
       " (319, 0.03742405942825598),\n",
       " (570, 0.03742405942825598),\n",
       " (616, 0.03742405942825598),\n",
       " (621, 0.03742405942825598),\n",
       " (791, 0.03742405942825598),\n",
       " (916, 0.03742405942825598),\n",
       " (1381, 0.03742405942825598),\n",
       " (1447, 0.03742405942825598),\n",
       " (1553, 0.03742405942825598),\n",
       " (2053, 0.03742405942825598),\n",
       " (2199, 0.03742405942825598),\n",
       " (2218, 0.03742405942825598),\n",
       " (2308, 0.03742405942825598),\n",
       " (2378, 0.03742405942825598),\n",
       " (2714, 0.03742405942825598),\n",
       " (2743, 0.03742405942825598),\n",
       " (2890, 0.03742405942825598),\n",
       " (3398, 0.03742405942825598),\n",
       " (3542, 0.03742405942825598),\n",
       " (4146, 0.03742405942825598),\n",
       " (4622, 0.03742405942825598),\n",
       " (1861, 0.03720326659021622),\n",
       " (860, 0.036986336072765455),\n",
       " (488, 0.0367731565676461),\n",
       " (25, 0.03656362120635653),\n",
       " (148, 0.03656362120635653),\n",
       " (401, 0.03656362120635653),\n",
       " (527, 0.03656362120635653),\n",
       " (546, 0.03656362120635653),\n",
       " (1068, 0.03656362120635653),\n",
       " (1158, 0.03656362120635653),\n",
       " (1171, 0.03656362120635653),\n",
       " (1403, 0.03656362120635653),\n",
       " (1438, 0.03656362120635653),\n",
       " (1483, 0.03656362120635653),\n",
       " (1881, 0.03656362120635653),\n",
       " (2100, 0.03656362120635653),\n",
       " (2250, 0.03656362120635653),\n",
       " (2309, 0.03656362120635653),\n",
       " (2504, 0.03656362120635653),\n",
       " (2882, 0.03656362120635653),\n",
       " (3412, 0.03656362120635653),\n",
       " (3883, 0.03656362120635653),\n",
       " (3901, 0.03656362120635653),\n",
       " (3929, 0.03656362120635653),\n",
       " (4018, 0.03656362120635653),\n",
       " (4072, 0.03656362120635653),\n",
       " (4198, 0.03656362120635653),\n",
       " (4312, 0.03656362120635653),\n",
       " (4403, 0.03656362120635653),\n",
       " (4414, 0.03656362120635653),\n",
       " (4482, 0.03656362120635653),\n",
       " (1119, 0.03615507630310936),\n",
       " (2386, 0.03615507630310936),\n",
       " (362, 0.03575992699260758),\n",
       " (686, 0.03575992699260758),\n",
       " (1096, 0.03575992699260758),\n",
       " (1156, 0.03575992699260758),\n",
       " (1668, 0.03575992699260758),\n",
       " (1927, 0.03575992699260758),\n",
       " (1944, 0.03575992699260758),\n",
       " (1950, 0.03575992699260758),\n",
       " (2127, 0.03575992699260758),\n",
       " (2155, 0.03575992699260758),\n",
       " (2228, 0.03575992699260758),\n",
       " (2271, 0.03575992699260758),\n",
       " (2715, 0.03575992699260758),\n",
       " (2887, 0.03575992699260758),\n",
       " (2907, 0.03575992699260758),\n",
       " (2987, 0.03575992699260758),\n",
       " (3060, 0.03575992699260758),\n",
       " (3118, 0.03575992699260758),\n",
       " (3316, 0.03575992699260758),\n",
       " (4437, 0.03575992699260758),\n",
       " (4581, 0.03575992699260758),\n",
       " (4664, 0.03575992699260758),\n",
       " (1428, 0.03537745688386124),\n",
       " (3486, 0.03519076715388934),\n",
       " (88, 0.03500700210070025),\n",
       " (348, 0.03500700210070025),\n",
       " (483, 0.03500700210070025),\n",
       " (951, 0.03500700210070025),\n",
       " (1606, 0.03500700210070025),\n",
       " (1686, 0.03500700210070025),\n",
       " (1934, 0.03500700210070025),\n",
       " (2075, 0.03500700210070025),\n",
       " (2112, 0.03500700210070025),\n",
       " (2113, 0.03500700210070025),\n",
       " (2144, 0.03500700210070025),\n",
       " (2233, 0.03500700210070025),\n",
       " (2645, 0.03500700210070025),\n",
       " (2948, 0.03500700210070025),\n",
       " (3116, 0.03500700210070025),\n",
       " (3176, 0.03500700210070025),\n",
       " (3641, 0.03500700210070025),\n",
       " (3650, 0.03500700210070025),\n",
       " (3770, 0.03500700210070025),\n",
       " (3820, 0.03500700210070025),\n",
       " (3834, 0.03500700210070025),\n",
       " (3931, 0.03500700210070025),\n",
       " (3995, 0.03500700210070025),\n",
       " (4006, 0.03500700210070025),\n",
       " (4331, 0.03500700210070025),\n",
       " (4580, 0.03500700210070025),\n",
       " (4661, 0.03500700210070025),\n",
       " (462, 0.034647946433761845),\n",
       " (1908, 0.034647946433761845),\n",
       " (2811, 0.03460872973026777),\n",
       " (154, 0.034299717028501764),\n",
       " (208, 0.034299717028501764),\n",
       " (219, 0.034299717028501764),\n",
       " (356, 0.034299717028501764),\n",
       " (404, 0.034299717028501764),\n",
       " (486, 0.034299717028501764),\n",
       " (533, 0.034299717028501764),\n",
       " (615, 0.034299717028501764),\n",
       " (957, 0.034299717028501764),\n",
       " (1004, 0.034299717028501764),\n",
       " (1027, 0.034299717028501764),\n",
       " (1047, 0.034299717028501764),\n",
       " (1469, 0.034299717028501764),\n",
       " (1707, 0.034299717028501764),\n",
       " (1833, 0.034299717028501764),\n",
       " (1854, 0.034299717028501764),\n",
       " (2230, 0.034299717028501764),\n",
       " (2600, 0.034299717028501764),\n",
       " (2651, 0.034299717028501764),\n",
       " (2912, 0.034299717028501764),\n",
       " (3253, 0.034299717028501764),\n",
       " (3306, 0.034299717028501764),\n",
       " (3554, 0.034299717028501764),\n",
       " (3956, 0.034299717028501764),\n",
       " (4324, 0.034299717028501764),\n",
       " (4659, 0.034299717028501764),\n",
       " (193, 0.033796515420933156),\n",
       " (68, 0.03363363969981562),\n",
       " (762, 0.03363363969981562),\n",
       " (863, 0.03363363969981562),\n",
       " (945, 0.03363363969981562),\n",
       " (970, 0.03363363969981562),\n",
       " (993, 0.03363363969981562),\n",
       " (1064, 0.03363363969981562),\n",
       " (1249, 0.03363363969981562),\n",
       " (1312, 0.03363363969981562),\n",
       " (1391, 0.03363363969981562),\n",
       " (1480, 0.03363363969981562),\n",
       " (1545, 0.03363363969981562),\n",
       " (1586, 0.03363363969981562),\n",
       " (1607, 0.03363363969981562),\n",
       " (2015, 0.03363363969981562),\n",
       " (2478, 0.03363363969981562),\n",
       " (2506, 0.03363363969981562),\n",
       " (2538, 0.03363363969981562),\n",
       " (2957, 0.03363363969981562),\n",
       " (3277, 0.03363363969981562),\n",
       " (3297, 0.03363363969981562),\n",
       " (3322, 0.03363363969981562),\n",
       " (3511, 0.03363363969981562),\n",
       " (4008, 0.03363363969981562),\n",
       " (4110, 0.03363363969981562),\n",
       " (4297, 0.03363363969981562),\n",
       " (4673, 0.03363363969981562),\n",
       " (28, 0.03300491809922247),\n",
       " (122, 0.03300491809922247),\n",
       " (142, 0.03300491809922247),\n",
       " (413, 0.03300491809922247),\n",
       " (745, 0.03300491809922247),\n",
       " (794, 0.03300491809922247),\n",
       " (1176, 0.03300491809922247),\n",
       " (1492, 0.03300491809922247),\n",
       " (1973, 0.03300491809922247),\n",
       " (2138, 0.03300491809922247),\n",
       " (2159, 0.03300491809922247),\n",
       " (2185, 0.03300491809922247),\n",
       " (2347, 0.03300491809922247),\n",
       " (2375, 0.03300491809922247),\n",
       " (2588, 0.03300491809922247),\n",
       " (2684, 0.03300491809922247),\n",
       " (2810, 0.03300491809922247),\n",
       " (2840, 0.03300491809922247),\n",
       " (3304, 0.03300491809922247),\n",
       " (3314, 0.03300491809922247),\n",
       " (3455, 0.03300491809922247),\n",
       " (4166, 0.03300491809922247),\n",
       " (4680, 0.03300491809922247),\n",
       " (4693, 0.03300491809922247),\n",
       " (4781, 0.03300491809922247),\n",
       " (389, 0.03241018617760821),\n",
       " (441, 0.03241018617760821),\n",
       " (1016, 0.03241018617760821),\n",
       " (1054, 0.03241018617760821),\n",
       " (1120, 0.03241018617760821),\n",
       " (1247, 0.03241018617760821),\n",
       " (1259, 0.03241018617760821),\n",
       " (1436, 0.03241018617760821),\n",
       " (1635, 0.03241018617760821),\n",
       " (1688, 0.03241018617760821),\n",
       " (2235, 0.03241018617760821),\n",
       " (2261, 0.03241018617760821),\n",
       " (2304, 0.03241018617760821),\n",
       " (3115, 0.03241018617760821),\n",
       " (3334, 0.03241018617760821),\n",
       " (3354, 0.03241018617760821),\n",
       " (3396, 0.03241018617760821),\n",
       " (3515, 0.03241018617760821),\n",
       " (3989, 0.03241018617760821),\n",
       " (4467, 0.03241018617760821),\n",
       " (4505, 0.03241018617760821),\n",
       " (4579, 0.03241018617760821),\n",
       " (4618, 0.03241018617760821),\n",
       " (4773, 0.03241018617760821),\n",
       " (137, 0.032124628310161774),\n",
       " (3897, 0.032124628310161774),\n",
       " (2, 0.031846487764924096),\n",
       " (49, 0.031846487764924096),\n",
       " (837, 0.031846487764924096),\n",
       " (859, 0.031846487764924096),\n",
       " (984, 0.031846487764924096),\n",
       " (989, 0.031846487764924096),\n",
       " (1141, 0.031846487764924096),\n",
       " (1243, 0.031846487764924096),\n",
       " (1440, 0.031846487764924096),\n",
       " (1527, 0.031846487764924096),\n",
       " (1726, 0.031846487764924096),\n",
       " (2169, 0.031846487764924096),\n",
       " (2355, 0.031846487764924096),\n",
       " (2824, 0.031846487764924096),\n",
       " (2865, 0.031846487764924096),\n",
       " (2990, 0.031846487764924096),\n",
       " (3238, 0.031846487764924096),\n",
       " (3549, 0.031846487764924096),\n",
       " (3866, 0.031846487764924096),\n",
       " (4114, 0.031846487764924096),\n",
       " (4485, 0.031846487764924096),\n",
       " (4591, 0.031846487764924096),\n",
       " (4790, 0.031846487764924096),\n",
       " (2294, 0.03157544889753363),\n",
       " (46, 0.03131121455425747),\n",
       " (72, 0.03131121455425747),\n",
       " (283, 0.03131121455425747),\n",
       " (405, 0.03131121455425747),\n",
       " (807, 0.03131121455425747),\n",
       " (894, 0.03131121455425747),\n",
       " (1029, 0.03131121455425747),\n",
       " (1063, 0.03131121455425747),\n",
       " (1199, 0.03131121455425747),\n",
       " (1263, 0.03131121455425747),\n",
       " (1303, 0.03131121455425747),\n",
       " (1420, 0.03131121455425747),\n",
       " (1468, 0.03131121455425747),\n",
       " (1667, 0.03131121455425747),\n",
       " (1700, 0.03131121455425747),\n",
       " (1928, 0.03131121455425747),\n",
       " (1945, 0.03131121455425747),\n",
       " (2179, 0.03131121455425747),\n",
       " (2589, 0.03131121455425747),\n",
       " (2632, 0.03131121455425747),\n",
       " (2797, 0.03131121455425747),\n",
       " (3071, 0.03131121455425747),\n",
       " (3114, 0.03131121455425747),\n",
       " (3257, 0.03131121455425747),\n",
       " (3586, 0.03131121455425747),\n",
       " (3679, 0.03131121455425747),\n",
       " (3793, 0.03131121455425747),\n",
       " (4085, 0.03131121455425747),\n",
       " (4244, 0.03131121455425747),\n",
       " (4514, 0.03131121455425747),\n",
       " (4720, 0.03131121455425747),\n",
       " (4775, 0.03131121455425747),\n",
       " (3368, 0.031181560935001604),\n",
       " (187, 0.03080205518168487),\n",
       " (1556, 0.03080205518168487),\n",
       " (2022, 0.03080205518168487),\n",
       " (2128, 0.03080205518168487),\n",
       " (2535, 0.03080205518168487),\n",
       " (2555, 0.03080205518168487),\n",
       " (2676, 0.03080205518168487),\n",
       " (2689, 0.03080205518168487),\n",
       " (2767, 0.03080205518168487),\n",
       " (2937, 0.03080205518168487),\n",
       " (3140, 0.03080205518168487),\n",
       " (3251, 0.03080205518168487),\n",
       " (3860, 0.03080205518168487),\n",
       " (4037, 0.03080205518168487),\n",
       " (4259, 0.03080205518168487),\n",
       " (4377, 0.03080205518168487),\n",
       " (4560, 0.03080205518168487),\n",
       " (4671, 0.03080205518168487),\n",
       " (4116, 0.030678599553894813),\n",
       " (40, 0.030316953129541614),\n",
       " (288, 0.030316953129541614),\n",
       " (341, 0.030316953129541614),\n",
       " (439, 0.030316953129541614),\n",
       " (472, 0.030316953129541614),\n",
       " (526, 0.030316953129541614),\n",
       " (786, 0.030316953129541614),\n",
       " (899, 0.030316953129541614),\n",
       " (1172, 0.030316953129541614),\n",
       " (1473, 0.030316953129541614),\n",
       " (1504, 0.030316953129541614),\n",
       " (1749, 0.030316953129541614),\n",
       " (1768, 0.030316953129541614),\n",
       " (2659, 0.030316953129541614),\n",
       " (2826, 0.030316953129541614),\n",
       " (3609, 0.030316953129541614),\n",
       " (3816, 0.030316953129541614),\n",
       " (3926, 0.030316953129541614),\n",
       " (4143, 0.030316953129541614),\n",
       " (4209, 0.030316953129541614),\n",
       " (4699, 0.030316953129541614),\n",
       " (131, 0.029854071701326604),\n",
       " (227, 0.029854071701326604),\n",
       " (245, 0.029854071701326604),\n",
       " (306, 0.029854071701326604),\n",
       " (332, 0.029854071701326604),\n",
       " (1006, 0.029854071701326604),\n",
       " (1412, 0.029854071701326604),\n",
       " (1443, 0.029854071701326604),\n",
       " (1790, 0.029854071701326604),\n",
       " (1809, 0.029854071701326604),\n",
       " (2726, 0.029854071701326604),\n",
       " (2943, 0.029854071701326604),\n",
       " (2981, 0.029854071701326604),\n",
       " (3091, 0.029854071701326604),\n",
       " (3320, 0.029854071701326604),\n",
       " (3369, 0.029854071701326604),\n",
       " (3386, 0.029854071701326604),\n",
       " (3744, 0.029854071701326604),\n",
       " (3894, 0.029854071701326604),\n",
       " (4115, 0.029854071701326604),\n",
       " (4218, 0.029854071701326604),\n",
       " (4260, 0.029854071701326604),\n",
       " (4369, 0.029854071701326604),\n",
       " (4626, 0.029854071701326604),\n",
       " (2960, 0.029741626587270104),\n",
       " (599, 0.029630442547297988),\n",
       " (37, 0.029411764705882346),\n",
       " ...]"
      ]
     },
     "execution_count": 118,
     "metadata": {},
     "output_type": "execute_result"
    }
   ],
   "source": [
    "sorted(list(enumerate(similarity[0])),reverse=True,key=lambda x:x[1]) # used lambda function because it was sorting on basis on index position instead of the similarities \n"
   ]
  },
  {
   "cell_type": "code",
   "execution_count": 119,
   "id": "6802bf8c-ccf2-44a2-bd62-d692dea5eda0",
   "metadata": {
    "tags": []
   },
   "outputs": [
    {
     "data": {
      "text/plain": [
       "[(1216, 0.25142264225703365),\n",
       " (2409, 0.24404676504598818),\n",
       " (582, 0.21613144789263333),\n",
       " (507, 0.20812378052829614),\n",
       " (3730, 0.20797258270192573)]"
      ]
     },
     "execution_count": 119,
     "metadata": {},
     "output_type": "execute_result"
    }
   ],
   "source": [
    "# Now we only need to grab the first 5 indexes (expect the one of the movie itself)\n",
    "sorted(list(enumerate(similarity[0])),reverse=True,key=lambda x:x[1])[1:6] \n",
    "# now we have the top 5 movies that are similar to movie 0"
   ]
  },
  {
   "cell_type": "code",
   "execution_count": 123,
   "id": "d45bc1b0-b0cb-4784-b99e-3a01de3d4f52",
   "metadata": {
    "tags": []
   },
   "outputs": [],
   "source": [
    "def recommend(movie):\n",
    "    movie_index = final_df[final_df['title'] == movie].index[0] # gives us the index of movie we pass\n",
    "    distances = similarity[movie_index]\n",
    "    # sorting the distances\n",
    "    movie_list = sorted(list(enumerate(distances)),reverse=True,key=lambda x:x[1])[1:6] \n",
    "    \n",
    "    for i in movie_list:\n",
    "        # print(i[0]) if we do this we will only get the index of the movies which is not so useful\n",
    "        print(final_df.iloc[i[0]].title)\n",
    "    "
   ]
  },
  {
   "cell_type": "code",
   "execution_count": 124,
   "id": "2401c46e-b825-4271-9bc5-4b99b2e56b6f",
   "metadata": {
    "tags": []
   },
   "outputs": [
    {
     "name": "stdout",
     "output_type": "stream",
     "text": [
      "The Dark Knight\n",
      "Batman\n",
      "Batman\n",
      "Batman v Superman: Dawn of Justice\n",
      "Synecdoche, New York\n"
     ]
    }
   ],
   "source": [
    "recommend('Batman Begins')"
   ]
  },
  {
   "cell_type": "code",
   "execution_count": 125,
   "id": "ba42d48f-1249-4bd4-be00-03320919d9c9",
   "metadata": {
    "tags": []
   },
   "outputs": [
    {
     "name": "stdout",
     "output_type": "stream",
     "text": [
      "Aliens vs Predator: Requiem\n",
      "Aliens\n",
      "Battle: Los Angeles\n",
      "Independence Day\n",
      "Falcon Rising\n"
     ]
    }
   ],
   "source": [
    "recommend('Avatar')"
   ]
  },
  {
   "cell_type": "code",
   "execution_count": 126,
   "id": "8def16bd-e0ad-45a8-887d-1b45a6ac84a1",
   "metadata": {
    "tags": []
   },
   "outputs": [
    {
     "name": "stdout",
     "output_type": "stream",
     "text": [
      "This Is Martin Bonner\n",
      "Fight Valley\n",
      "Paint Your Wagon\n",
      "Death Race\n",
      "Slither\n"
     ]
    }
   ],
   "source": [
    "recommend('Fight Club')"
   ]
  },
  {
   "cell_type": "code",
   "execution_count": null,
   "id": "0812f0d2-bcdc-494e-9411-859f90a424b6",
   "metadata": {},
   "outputs": [],
   "source": []
  }
 ],
 "metadata": {
  "kernelspec": {
   "display_name": "Python 3 (ipykernel)",
   "language": "python",
   "name": "python3"
  },
  "language_info": {
   "codemirror_mode": {
    "name": "ipython",
    "version": 3
   },
   "file_extension": ".py",
   "mimetype": "text/x-python",
   "name": "python",
   "nbconvert_exporter": "python",
   "pygments_lexer": "ipython3",
   "version": "3.8.16"
  }
 },
 "nbformat": 4,
 "nbformat_minor": 5
}
